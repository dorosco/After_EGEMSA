{
 "cells": [
  {
   "cell_type": "markdown",
   "id": "3bb635d5-9871-434e-b05d-7f033f25dc95",
   "metadata": {},
   "source": [
    "Introducción a \"R\": Sesión Cero / Parte 1\n",
    "==="
   ]
  },
  {
   "cell_type": "markdown",
   "id": "68ecee70-bff7-4cb2-a228-51656cc0c481",
   "metadata": {},
   "source": [
    "Sesión 1\n",
    "==="
   ]
  },
  {
   "cell_type": "code",
   "execution_count": 1,
   "id": "fc4d9825-91dd-441e-882a-b5aaa4aba1f6",
   "metadata": {},
   "outputs": [
    {
     "name": "stderr",
     "output_type": "stream",
     "text": [
      "\n",
      "Attaching package: ‘dplyr’\n",
      "\n",
      "\n",
      "The following objects are masked from ‘package:stats’:\n",
      "\n",
      "    filter, lag\n",
      "\n",
      "\n",
      "The following objects are masked from ‘package:base’:\n",
      "\n",
      "    intersect, setdiff, setequal, union\n",
      "\n",
      "\n"
     ]
    }
   ],
   "source": [
    "library(dplyr)"
   ]
  },
  {
   "cell_type": "code",
   "execution_count": 2,
   "id": "45c06c80-64fc-4179-809e-d7d602d59f18",
   "metadata": {},
   "outputs": [
    {
     "name": "stderr",
     "output_type": "stream",
     "text": [
      "── \u001b[1mAttaching core tidyverse packages\u001b[22m ──────────────────────── tidyverse 2.0.0 ──\n",
      "\u001b[32m✔\u001b[39m \u001b[34mforcats  \u001b[39m 1.0.0     \u001b[32m✔\u001b[39m \u001b[34mreadr    \u001b[39m 2.1.5\n",
      "\u001b[32m✔\u001b[39m \u001b[34mggplot2  \u001b[39m 3.5.1     \u001b[32m✔\u001b[39m \u001b[34mstringr  \u001b[39m 1.5.1\n",
      "\u001b[32m✔\u001b[39m \u001b[34mlubridate\u001b[39m 1.9.3     \u001b[32m✔\u001b[39m \u001b[34mtibble   \u001b[39m 3.2.1\n",
      "\u001b[32m✔\u001b[39m \u001b[34mpurrr    \u001b[39m 1.0.2     \u001b[32m✔\u001b[39m \u001b[34mtidyr    \u001b[39m 1.3.1\n",
      "── \u001b[1mConflicts\u001b[22m ────────────────────────────────────────── tidyverse_conflicts() ──\n",
      "\u001b[31m✖\u001b[39m \u001b[34mdplyr\u001b[39m::\u001b[32mfilter()\u001b[39m masks \u001b[34mstats\u001b[39m::filter()\n",
      "\u001b[31m✖\u001b[39m \u001b[34mdplyr\u001b[39m::\u001b[32mlag()\u001b[39m    masks \u001b[34mstats\u001b[39m::lag()\n",
      "\u001b[36mℹ\u001b[39m Use the conflicted package (\u001b[3m\u001b[34m<http://conflicted.r-lib.org/>\u001b[39m\u001b[23m) to force all conflicts to become errors\n"
     ]
    }
   ],
   "source": [
    "library(tidyverse)"
   ]
  },
  {
   "cell_type": "code",
   "execution_count": 3,
   "id": "17db3de1-1b17-46e5-9ce7-0d113f9c1c2c",
   "metadata": {},
   "outputs": [],
   "source": [
    "library(readxl)"
   ]
  },
  {
   "cell_type": "markdown",
   "id": "2957550a-5934-4651-9b1e-d82bd8f427d3",
   "metadata": {},
   "source": [
    "La necesidad de variables para analizar información\n",
    "==="
   ]
  },
  {
   "cell_type": "markdown",
   "id": "471df0e7-b510-4870-815e-a3a1c41e83e7",
   "metadata": {},
   "source": [
    "El análisis de datos tiene por objetivo obtener información que nos permita tomar decisiones. En este proceso que usamos variables para ir almacenando datos y/o resultados.\n",
    "\n",
    "Una variable puede almacenar diferentes tipos de valores tales como números, caractéres, etc. Estos diferentes tipos de valores son llamados \"data types\" en el código del lenguaje de programación.\n",
    "\n",
    "Por ejemplo:"
   ]
  },
  {
   "cell_type": "code",
   "execution_count": 4,
   "id": "de7f7d22-db21-4b98-af33-7eb8776773c7",
   "metadata": {},
   "outputs": [
    {
     "name": "stdout",
     "output_type": "stream",
     "text": [
      "[1] 123\n",
      "[1] \"integer\"\n"
     ]
    }
   ],
   "source": [
    "# almacena el valor 123 en la variable llamada \"x\"\n",
    "x <- 123L\n",
    "\n",
    "# imprime el valor de la variable x\n",
    "print(x)\n",
    "\n",
    "# imprime el tipo de dato de \"x\"\n",
    "print(class(x))"
   ]
  },
  {
   "cell_type": "markdown",
   "id": "2ac926d7-e954-420b-b874-7adf3bf0769f",
   "metadata": {},
   "source": [
    "Tipos de Datos en \"R\"\n",
    "==="
   ]
  },
  {
   "cell_type": "markdown",
   "id": "6b4e5066-6f1c-43fe-889e-b6b3e6762a16",
   "metadata": {},
   "source": [
    "En \"R\" se trabaja con seis (6) tipos de datos (data types):\n",
    "\n",
    "* integer\n",
    "* numeric\n",
    "* character\n",
    "* logic\n",
    "* complex\n",
    "* raw"
   ]
  },
  {
   "cell_type": "markdown",
   "id": "eeccfd21-e2e1-4324-b2ac-5aac167cf418",
   "metadata": {},
   "source": [
    "Tipo \"Integer\" y \"Numeric\"\n",
    "=="
   ]
  },
  {
   "cell_type": "markdown",
   "id": "3ccee76d-79fc-46a9-babe-35b32de529f3",
   "metadata": {},
   "source": [
    "El tipo de dato \"integer\" es usado cuando necesitamos procesar información numérica de valores que sabemos que son enteros (sin decimales).\n",
    "\n",
    "¿Por qué no usamos sólo numeros reales (con decimales) si el conjunto de números reales contiene al conjunto de números enteros?\n",
    "\n",
    "Los números enteros son de mucha utilidad porque son más fáciles de operar computacionalmente, y además requiere menos memoria computacional para su almacenamiento.\n",
    "\n",
    "Para indicar a \"R\" que trate a un número como entero es ponerle la terminación \"L\" al número. Como vimos en el ejemplo anterior."
   ]
  },
  {
   "cell_type": "code",
   "execution_count": 5,
   "id": "7cc193df-5e3b-4643-8542-04b71fae90a2",
   "metadata": {},
   "outputs": [],
   "source": [
    "y <- 42L"
   ]
  },
  {
   "cell_type": "code",
   "execution_count": 6,
   "id": "1ccae41e-2776-46ee-965e-eb09398b0d08",
   "metadata": {},
   "outputs": [
    {
     "name": "stdout",
     "output_type": "stream",
     "text": [
      "[1] \"integer\"\n"
     ]
    }
   ],
   "source": [
    "print(class(y))"
   ]
  },
  {
   "cell_type": "code",
   "execution_count": 7,
   "id": "5890006d-1879-40ae-a730-624d25f03fd2",
   "metadata": {},
   "outputs": [],
   "source": [
    "z <- 42"
   ]
  },
  {
   "cell_type": "code",
   "execution_count": 8,
   "id": "496c02c0-7ae5-4146-92a5-43765484b637",
   "metadata": {},
   "outputs": [
    {
     "name": "stdout",
     "output_type": "stream",
     "text": [
      "[1] \"numeric\"\n"
     ]
    }
   ],
   "source": [
    "print(class(z))"
   ]
  },
  {
   "cell_type": "markdown",
   "id": "33fc785b-ea81-44eb-b8fe-83c4c5c6fd82",
   "metadata": {},
   "source": [
    "Si no indicamos a \"R\" que un dato numérico es entero, por defecto tratará el dato como si fuera del tipo \"numeric\".\n",
    "\n",
    "El tipo de dato \"numeric\" corresponde a los números reales, vale decir, los números con decimales."
   ]
  },
  {
   "cell_type": "code",
   "execution_count": 9,
   "id": "7fe1434d-af88-4f12-b022-f1295eb9f24a",
   "metadata": {},
   "outputs": [
    {
     "name": "stdout",
     "output_type": "stream",
     "text": [
      "[1] 0.3333333\n",
      "[1] \"numeric\"\n"
     ]
    }
   ],
   "source": [
    "# almacenemos en la variable \"x1\" a la tercera parte del valor unidad (uno)\n",
    "x1 <- 1/3\n",
    "\n",
    "# imprime el valor de \"x1\"\n",
    "print(x1)\n",
    "\n",
    "# imprime el tipo de dato de \"x1\"\n",
    "print(class(x1))"
   ]
  },
  {
   "cell_type": "markdown",
   "id": "bda5adef-5e3c-454b-aa0b-b4577dd7e3f5",
   "metadata": {},
   "source": [
    "Tipo \"Character\"\n",
    "==="
   ]
  },
  {
   "cell_type": "markdown",
   "id": "d91e55e1-5c96-4ae7-b368-8272010893a1",
   "metadata": {},
   "source": [
    "Es muy frecuente que los datos de donde requerimos extraer información sean compuestos no sólo por valores numéricos sino también por textos que identifica por ejemplo el nombre de una región (\"Loreto\") o el apellido de una persona (\"Orosco\").\n",
    "\n",
    "En estos casos nos apoyamos con el tipo de dato \"character\" para almacena una cadena de caractéres."
   ]
  },
  {
   "cell_type": "code",
   "execution_count": 10,
   "id": "84d3004e-dd62-49a4-bf9b-c68510b95b08",
   "metadata": {},
   "outputs": [
    {
     "name": "stdout",
     "output_type": "stream",
     "text": [
      "[1] \"Loreto\"\n",
      "[1] \"character\"\n"
     ]
    }
   ],
   "source": [
    "# almacenemos en la variable \"y1\" a la cadena de caractéres \"Loreto\"\n",
    "y1 <- \"Loreto\"\n",
    "\n",
    "# Imprimir \"y1\"\n",
    "print(y1)\n",
    "\n",
    "# Imprimir el tipo de dato de \"y1\"\n",
    "print(class(y1))"
   ]
  },
  {
   "cell_type": "code",
   "execution_count": 11,
   "id": "b3ae355f-fc90-4b0e-a843-61f4abda9555",
   "metadata": {},
   "outputs": [
    {
     "name": "stdout",
     "output_type": "stream",
     "text": [
      "[1] \"Lo\"\n"
     ]
    }
   ],
   "source": [
    "y2 <- substr(y1,1,2) # extraemos desde la posición inicial 1 a la posición final 2.\n",
    "print(y2)"
   ]
  },
  {
   "cell_type": "code",
   "execution_count": 12,
   "id": "7249f4f3-6928-417e-87cd-26e3fd0a06c6",
   "metadata": {},
   "outputs": [
    {
     "data": {
      "text/html": [
       "6"
      ],
      "text/latex": [
       "6"
      ],
      "text/markdown": [
       "6"
      ],
      "text/plain": [
       "[1] 6"
      ]
     },
     "metadata": {},
     "output_type": "display_data"
    }
   ],
   "source": [
    "largo <- nchar(y1) # determinamos el número de caractéres de \"y1\"\n",
    "largo"
   ]
  },
  {
   "cell_type": "code",
   "execution_count": 13,
   "id": "564c61d5-fe46-4415-800e-556ba0008bc5",
   "metadata": {},
   "outputs": [
    {
     "data": {
      "text/html": [
       "'reto'"
      ],
      "text/latex": [
       "'reto'"
      ],
      "text/markdown": [
       "'reto'"
      ],
      "text/plain": [
       "[1] \"reto\""
      ]
     },
     "metadata": {},
     "output_type": "display_data"
    }
   ],
   "source": [
    "y3 <- substr(y1,3,largo) # extraemos desde la posición 3 hasta la posición final (\"largo\")\n",
    "y3"
   ]
  },
  {
   "cell_type": "markdown",
   "id": "5c24c009-7c8b-4557-8047-cdfaf661c28d",
   "metadata": {},
   "source": [
    "Tipo \"Logic\"\n",
    "=="
   ]
  },
  {
   "cell_type": "markdown",
   "id": "51c57d65-7f5a-4305-842a-33662f533834",
   "metadata": {},
   "source": [
    "Para darle instrucciones a \"R\" en el procesamiento de los datos resulta necesario usar operadores lógicos dentro de sentencias lógicas (argumentos lógicos) que requieren ser validados como verdaderos o falsos. Para este tipo de tareas usamos el tipo de dato \"logic\"."
   ]
  },
  {
   "cell_type": "code",
   "execution_count": 14,
   "id": "471a7d9c-1a91-4d2e-a249-66793a0e08ac",
   "metadata": {},
   "outputs": [],
   "source": [
    "x2 <- 32L"
   ]
  },
  {
   "cell_type": "code",
   "execution_count": 15,
   "id": "09e97d9f-d9ee-4bc7-8e24-17eb98b5a7eb",
   "metadata": {},
   "outputs": [],
   "source": [
    "y4 <- \"Agosto\""
   ]
  },
  {
   "cell_type": "code",
   "execution_count": 16,
   "id": "c57f66cb-a703-452d-a94b-93d4a658ac8c",
   "metadata": {},
   "outputs": [
    {
     "name": "stdout",
     "output_type": "stream",
     "text": [
      "[1] \"el tipo de dato de x2 es: integer\"\n"
     ]
    }
   ],
   "source": [
    "if (class(x2) == \"integer\") {\n",
    "    print(\"el tipo de dato de x2 es: integer\")\n",
    "    } else {\n",
    "    print(\"el tipo de dato de x2 NO es entero\")\n",
    "    }"
   ]
  },
  {
   "cell_type": "code",
   "execution_count": 17,
   "id": "a4aa8ded-ece7-4113-856d-a3ffbbe65d56",
   "metadata": {},
   "outputs": [
    {
     "name": "stdout",
     "output_type": "stream",
     "text": [
      "[1] \"el tipo de dato de y4 NO es entero\"\n"
     ]
    }
   ],
   "source": [
    "if (class(y4) == \"integer\") {\n",
    "    print(\"el tipo de dato de y4 es: integer\")\n",
    "    } else {\n",
    "    print(\"el tipo de dato de y4 NO es entero\")\n",
    "    }"
   ]
  },
  {
   "cell_type": "code",
   "execution_count": 18,
   "id": "c2444574-0d76-4345-a7e2-b53374b64d53",
   "metadata": {},
   "outputs": [
    {
     "name": "stdout",
     "output_type": "stream",
     "text": [
      "[1] 130\n"
     ]
    }
   ],
   "source": [
    "if (y4 == \"Agosto\") {\n",
    "    Estiaje <- TRUE }\n",
    "\n",
    "if (x2 < 50 & Estiaje == TRUE) { # Si \"x2 < 50\" es verdadero y \"es estiaje\" ... \n",
    "    monto <- 130\n",
    "    } else {\n",
    "    monto <- 10\n",
    "    }\n",
    "\n",
    "print(monto)"
   ]
  },
  {
   "cell_type": "markdown",
   "id": "6d86462b-e198-4364-b5f1-5617e38a3483",
   "metadata": {},
   "source": [
    "Leyendo datos desde archivos externos (CSV, XLS)\n",
    "==\n",
    "\n",
    "Data Frame y Vectores\n",
    "===="
   ]
  },
  {
   "cell_type": "markdown",
   "id": "94db69f8-acb7-407b-ba64-4603292bfa76",
   "metadata": {},
   "source": [
    "Habitualmente los datos que requerimos procesar se encuentran en archivos de datos que fueron organizados para fines diversos. Los tipos de archivos de datos más comunes son archivos de texto (ASCII) sea formateados en CSV (Comma Separated Values), TSV (Tab Separated Values) o también en archivos Excel.\n",
    "\n",
    "\"R\" en su versión base (sin ningún paquete adicional) tiene funciones que realizan el trabajo de leer archivos texto y trasladar su contenido hacia estructuras de datos convenientes para que luego puedan ser procesados.\n",
    "\n",
    "La estructura de datos usada con más frecuencia es el \"data frame\" que es una tabla de datos organizadas en filas y columnas. Cada columna es definida con un nombre y un tipo de dato, y cada fila representa un valor almacenado en dicha columna."
   ]
  },
  {
   "cell_type": "markdown",
   "id": "ef0e926c-3462-4aa3-a0ed-ad981bedfc01",
   "metadata": {},
   "source": [
    "Tomaremos como ejemplo un archivo que contiene las observaciones mensuales de las tasas de interés en USA desde 1946-12 hasta 1991-02. Los valores están expresados en tasa de interés anual y cada columna representa:\n",
    "\n",
    "r1 : tasa de interés para bonos a plazo de 1 mes (% anual)\n",
    "\n",
    "r2 : tasa de interés para bonos a plazo de 2 meses (% anual)\n",
    "\n",
    "r3 : tasa de interés para bonos a plazo de 3 meses (% anual)\n",
    "\n",
    "r5 : tasa de interés para bonos a plazo de 5 meses (% anual)\n",
    "\n",
    "...\n",
    "\n",
    "r120 : tasa de interés para bonos a plazo de 120 meses (% anual)"
   ]
  },
  {
   "cell_type": "code",
   "execution_count": 19,
   "id": "0beaefe9-0ab4-4445-a4e9-36c5b30725d5",
   "metadata": {},
   "outputs": [],
   "source": [
    "df_rates <- read.csv(\"Irates.csv\")"
   ]
  },
  {
   "cell_type": "code",
   "execution_count": 20,
   "id": "63ee5870-3e0a-44b1-8e8c-56ac96a7aa0c",
   "metadata": {},
   "outputs": [
    {
     "data": {
      "text/html": [
       "<table class=\"dataframe\">\n",
       "<caption>A data.frame: 6 × 11</caption>\n",
       "<thead>\n",
       "\t<tr><th></th><th scope=col>Date</th><th scope=col>r1</th><th scope=col>r2</th><th scope=col>r3</th><th scope=col>r5</th><th scope=col>r6</th><th scope=col>r11</th><th scope=col>r12</th><th scope=col>r36</th><th scope=col>r60</th><th scope=col>r120</th></tr>\n",
       "\t<tr><th></th><th scope=col>&lt;chr&gt;</th><th scope=col>&lt;dbl&gt;</th><th scope=col>&lt;dbl&gt;</th><th scope=col>&lt;dbl&gt;</th><th scope=col>&lt;dbl&gt;</th><th scope=col>&lt;dbl&gt;</th><th scope=col>&lt;dbl&gt;</th><th scope=col>&lt;dbl&gt;</th><th scope=col>&lt;dbl&gt;</th><th scope=col>&lt;dbl&gt;</th><th scope=col>&lt;dbl&gt;</th></tr>\n",
       "</thead>\n",
       "<tbody>\n",
       "\t<tr><th scope=row>1</th><td>Dec 1946</td><td>0.325</td><td>0.422</td><td>0.477</td><td>0.549</td><td>0.577</td><td>0.698</td><td>0.720</td><td>1.145</td><td>1.415</td><td>1.825</td></tr>\n",
       "\t<tr><th scope=row>2</th><td>Jan 1947</td><td>0.322</td><td>0.427</td><td>0.485</td><td>0.555</td><td>0.583</td><td>0.698</td><td>0.718</td><td>1.119</td><td>1.386</td><td>1.824</td></tr>\n",
       "\t<tr><th scope=row>3</th><td>Feb 1947</td><td>0.326</td><td>0.419</td><td>0.473</td><td>0.543</td><td>0.571</td><td>0.693</td><td>0.715</td><td>1.140</td><td>1.406</td><td>1.817</td></tr>\n",
       "\t<tr><th scope=row>4</th><td>Mar 1947</td><td>0.318</td><td>0.441</td><td>0.508</td><td>0.583</td><td>0.610</td><td>0.718</td><td>0.737</td><td>1.105</td><td>1.364</td><td>1.804</td></tr>\n",
       "\t<tr><th scope=row>5</th><td>Apr 1947</td><td>0.302</td><td>0.445</td><td>0.521</td><td>0.606</td><td>0.637</td><td>0.759</td><td>0.780</td><td>1.172</td><td>1.416</td><td>1.815</td></tr>\n",
       "\t<tr><th scope=row>6</th><td>May 1947</td><td>0.288</td><td>0.473</td><td>0.570</td><td>0.666</td><td>0.698</td><td>0.811</td><td>0.830</td><td>1.169</td><td>1.399</td><td>1.805</td></tr>\n",
       "</tbody>\n",
       "</table>\n"
      ],
      "text/latex": [
       "A data.frame: 6 × 11\n",
       "\\begin{tabular}{r|lllllllllll}\n",
       "  & Date & r1 & r2 & r3 & r5 & r6 & r11 & r12 & r36 & r60 & r120\\\\\n",
       "  & <chr> & <dbl> & <dbl> & <dbl> & <dbl> & <dbl> & <dbl> & <dbl> & <dbl> & <dbl> & <dbl>\\\\\n",
       "\\hline\n",
       "\t1 & Dec 1946 & 0.325 & 0.422 & 0.477 & 0.549 & 0.577 & 0.698 & 0.720 & 1.145 & 1.415 & 1.825\\\\\n",
       "\t2 & Jan 1947 & 0.322 & 0.427 & 0.485 & 0.555 & 0.583 & 0.698 & 0.718 & 1.119 & 1.386 & 1.824\\\\\n",
       "\t3 & Feb 1947 & 0.326 & 0.419 & 0.473 & 0.543 & 0.571 & 0.693 & 0.715 & 1.140 & 1.406 & 1.817\\\\\n",
       "\t4 & Mar 1947 & 0.318 & 0.441 & 0.508 & 0.583 & 0.610 & 0.718 & 0.737 & 1.105 & 1.364 & 1.804\\\\\n",
       "\t5 & Apr 1947 & 0.302 & 0.445 & 0.521 & 0.606 & 0.637 & 0.759 & 0.780 & 1.172 & 1.416 & 1.815\\\\\n",
       "\t6 & May 1947 & 0.288 & 0.473 & 0.570 & 0.666 & 0.698 & 0.811 & 0.830 & 1.169 & 1.399 & 1.805\\\\\n",
       "\\end{tabular}\n"
      ],
      "text/markdown": [
       "\n",
       "A data.frame: 6 × 11\n",
       "\n",
       "| <!--/--> | Date &lt;chr&gt; | r1 &lt;dbl&gt; | r2 &lt;dbl&gt; | r3 &lt;dbl&gt; | r5 &lt;dbl&gt; | r6 &lt;dbl&gt; | r11 &lt;dbl&gt; | r12 &lt;dbl&gt; | r36 &lt;dbl&gt; | r60 &lt;dbl&gt; | r120 &lt;dbl&gt; |\n",
       "|---|---|---|---|---|---|---|---|---|---|---|---|\n",
       "| 1 | Dec 1946 | 0.325 | 0.422 | 0.477 | 0.549 | 0.577 | 0.698 | 0.720 | 1.145 | 1.415 | 1.825 |\n",
       "| 2 | Jan 1947 | 0.322 | 0.427 | 0.485 | 0.555 | 0.583 | 0.698 | 0.718 | 1.119 | 1.386 | 1.824 |\n",
       "| 3 | Feb 1947 | 0.326 | 0.419 | 0.473 | 0.543 | 0.571 | 0.693 | 0.715 | 1.140 | 1.406 | 1.817 |\n",
       "| 4 | Mar 1947 | 0.318 | 0.441 | 0.508 | 0.583 | 0.610 | 0.718 | 0.737 | 1.105 | 1.364 | 1.804 |\n",
       "| 5 | Apr 1947 | 0.302 | 0.445 | 0.521 | 0.606 | 0.637 | 0.759 | 0.780 | 1.172 | 1.416 | 1.815 |\n",
       "| 6 | May 1947 | 0.288 | 0.473 | 0.570 | 0.666 | 0.698 | 0.811 | 0.830 | 1.169 | 1.399 | 1.805 |\n",
       "\n"
      ],
      "text/plain": [
       "  Date     r1    r2    r3    r5    r6    r11   r12   r36   r60   r120 \n",
       "1 Dec 1946 0.325 0.422 0.477 0.549 0.577 0.698 0.720 1.145 1.415 1.825\n",
       "2 Jan 1947 0.322 0.427 0.485 0.555 0.583 0.698 0.718 1.119 1.386 1.824\n",
       "3 Feb 1947 0.326 0.419 0.473 0.543 0.571 0.693 0.715 1.140 1.406 1.817\n",
       "4 Mar 1947 0.318 0.441 0.508 0.583 0.610 0.718 0.737 1.105 1.364 1.804\n",
       "5 Apr 1947 0.302 0.445 0.521 0.606 0.637 0.759 0.780 1.172 1.416 1.815\n",
       "6 May 1947 0.288 0.473 0.570 0.666 0.698 0.811 0.830 1.169 1.399 1.805"
      ]
     },
     "metadata": {},
     "output_type": "display_data"
    }
   ],
   "source": [
    "head(df_rates) # muestra las seis (6) primeras filas de la estructura de datos"
   ]
  },
  {
   "cell_type": "code",
   "execution_count": 21,
   "id": "e121c66e-6ee6-405a-b43a-e278b2e8b8f3",
   "metadata": {},
   "outputs": [
    {
     "name": "stdout",
     "output_type": "stream",
     "text": [
      "'data.frame':\t531 obs. of  11 variables:\n",
      " $ Date: chr  \"Dec 1946\" \"Jan 1947\" \"Feb 1947\" \"Mar 1947\" ...\n",
      " $ r1  : num  0.325 0.322 0.326 0.318 0.302 0.288 0.328 0.378 0.528 0.742 ...\n",
      " $ r2  : num  0.422 0.427 0.419 0.441 0.445 0.473 0.486 0.576 0.755 0.882 ...\n",
      " $ r3  : num  0.477 0.485 0.473 0.508 0.521 0.57 0.566 0.673 0.863 0.949 ...\n",
      " $ r5  : num  0.549 0.555 0.543 0.583 0.606 ...\n",
      " $ r6  : num  0.577 0.583 0.571 0.61 0.637 ...\n",
      " $ r11 : num  0.698 0.698 0.693 0.718 0.759 ...\n",
      " $ r12 : num  0.72 0.718 0.715 0.737 0.78 ...\n",
      " $ r36 : num  1.15 1.12 1.14 1.1 1.17 ...\n",
      " $ r60 : num  1.42 1.39 1.41 1.36 1.42 ...\n",
      " $ r120: num  1.82 1.82 1.82 1.8 1.81 ...\n"
     ]
    }
   ],
   "source": [
    "str(df_rates) # muestra la información de la estructura de datos de la tabla"
   ]
  },
  {
   "cell_type": "code",
   "execution_count": 22,
   "id": "c9908460-8940-4580-9213-19327a5e395d",
   "metadata": {},
   "outputs": [
    {
     "data": {
      "text/html": [
       "0.326"
      ],
      "text/latex": [
       "0.326"
      ],
      "text/markdown": [
       "0.326"
      ],
      "text/plain": [
       "[1] 0.326"
      ]
     },
     "metadata": {},
     "output_type": "display_data"
    }
   ],
   "source": [
    "df_rates[3,2] # selecciono el elemento de la fila 3 y columna 2"
   ]
  },
  {
   "cell_type": "code",
   "execution_count": 23,
   "id": "594627d3-cb34-4503-85eb-911dd06ada0d",
   "metadata": {},
   "outputs": [
    {
     "data": {
      "text/html": [
       "0.326"
      ],
      "text/latex": [
       "0.326"
      ],
      "text/markdown": [
       "0.326"
      ],
      "text/plain": [
       "[1] 0.326"
      ]
     },
     "metadata": {},
     "output_type": "display_data"
    }
   ],
   "source": [
    "df_rates[3,'r1'] # selecciono el elemento de la fila 3 y la columna con nombre 'r1'"
   ]
  },
  {
   "cell_type": "code",
   "execution_count": 24,
   "id": "4623b212-6e7c-4025-b5b5-942a6fd6202e",
   "metadata": {},
   "outputs": [
    {
     "data": {
      "text/html": [
       "'numeric'"
      ],
      "text/latex": [
       "'numeric'"
      ],
      "text/markdown": [
       "'numeric'"
      ],
      "text/plain": [
       "[1] \"numeric\""
      ]
     },
     "metadata": {},
     "output_type": "display_data"
    }
   ],
   "source": [
    "class(df_rates[3,'r1'])"
   ]
  },
  {
   "cell_type": "code",
   "execution_count": 25,
   "id": "15ab4124-f8d0-4c30-ae4e-d80edab30d1e",
   "metadata": {},
   "outputs": [
    {
     "data": {
      "text/html": [
       "<table class=\"dataframe\">\n",
       "<caption>A data.frame: 1 × 2</caption>\n",
       "<thead>\n",
       "\t<tr><th></th><th scope=col>r1</th><th scope=col>r3</th></tr>\n",
       "\t<tr><th></th><th scope=col>&lt;dbl&gt;</th><th scope=col>&lt;dbl&gt;</th></tr>\n",
       "</thead>\n",
       "<tbody>\n",
       "\t<tr><th scope=row>3</th><td>0.326</td><td>0.473</td></tr>\n",
       "</tbody>\n",
       "</table>\n"
      ],
      "text/latex": [
       "A data.frame: 1 × 2\n",
       "\\begin{tabular}{r|ll}\n",
       "  & r1 & r3\\\\\n",
       "  & <dbl> & <dbl>\\\\\n",
       "\\hline\n",
       "\t3 & 0.326 & 0.473\\\\\n",
       "\\end{tabular}\n"
      ],
      "text/markdown": [
       "\n",
       "A data.frame: 1 × 2\n",
       "\n",
       "| <!--/--> | r1 &lt;dbl&gt; | r3 &lt;dbl&gt; |\n",
       "|---|---|---|\n",
       "| 3 | 0.326 | 0.473 |\n",
       "\n"
      ],
      "text/plain": [
       "  r1    r3   \n",
       "3 0.326 0.473"
      ]
     },
     "metadata": {},
     "output_type": "display_data"
    }
   ],
   "source": [
    "df_rates[3,c('r1','r3')] # selecciono el elemento de la fila 3 y las columnas con nombres 'r1' y 'r3'"
   ]
  },
  {
   "cell_type": "markdown",
   "id": "7ce94701-e7a3-4261-9a55-10c69f4de6cd",
   "metadata": {},
   "source": [
    "Note que en este último ejemplo hemos usado una estructura de datos especial conocida como vector, la cual hemos construido usando la expresión \"c('r1', 'r3')\"."
   ]
  },
  {
   "cell_type": "code",
   "execution_count": 26,
   "id": "f3a89cd0-e9bb-41c6-b674-09e7cc153520",
   "metadata": {},
   "outputs": [
    {
     "data": {
      "text/html": [
       "<style>\n",
       ".list-inline {list-style: none; margin:0; padding: 0}\n",
       ".list-inline>li {display: inline-block}\n",
       ".list-inline>li:not(:last-child)::after {content: \"\\00b7\"; padding: 0 .5ex}\n",
       "</style>\n",
       "<ol class=list-inline><li>'r1'</li><li>'r3'</li></ol>\n"
      ],
      "text/latex": [
       "\\begin{enumerate*}\n",
       "\\item 'r1'\n",
       "\\item 'r3'\n",
       "\\end{enumerate*}\n"
      ],
      "text/markdown": [
       "1. 'r1'\n",
       "2. 'r3'\n",
       "\n",
       "\n"
      ],
      "text/plain": [
       "[1] \"r1\" \"r3\""
      ]
     },
     "metadata": {},
     "output_type": "display_data"
    }
   ],
   "source": [
    "c('r1', 'r3') # crea un vector que contiene dos valores de texto \"r1\" y \"r3\" "
   ]
  },
  {
   "cell_type": "markdown",
   "id": "8a86760e-30a2-4b6b-afe5-f50517ad8b43",
   "metadata": {},
   "source": [
    "Un vector es como una lista de datos. Es común utilizar vectores cuando queremos que una función se aplique sobre una lista de casos. Por ejemplo, imaginemos que queremos dibujar tres circulos de tres colores uno a continuación de otro, podemos usar una función que de manera genérica dibuja un circulo, indicando como datos el \"radio\" y el \"color\". Entonces en lugar de llamar a esa función tres veces, podría usar un vector para el parámetro \"color\" de la función. "
   ]
  },
  {
   "cell_type": "code",
   "execution_count": 27,
   "id": "7e76bdcb-328d-45ed-a2a4-1dea8d0561d5",
   "metadata": {},
   "outputs": [],
   "source": [
    "# creamos un vector con tres valores de texto \"rojo\", \"azul\" y \"amarillo\"\n",
    "color_a_dibujar <- c('rojo', 'azul', 'amarillo')\n",
    "\n",
    "# imaginemos la función \"dibuja_circulo(radio, color)\"\n",
    "# podría usar esta función del siguiente modo: dibuja_circulo(radio, color_a_dibujar)\n",
    "# para dibujar tres circulos del mismo radio pero diferente color con una sola llamada a la función.\n"
   ]
  },
  {
   "cell_type": "markdown",
   "id": "991e77f9-f9f0-496d-b659-f37f4d6e277a",
   "metadata": {},
   "source": [
    "Volvamos a los datos de las tasas de interés que hemos leído de un archivo externo y que ahora tenemos almacenado en el data frame llamado \"df_rates\".\n",
    "\n",
    "Digamos que queremos analizar el comportamiento de la tasa de interés de corto plazo, que representa el costo del dinero para operaciones de deuda interbancaria y para operaciones bursátiles de corto plazo. Para el análisis digamos que escogemos analizar la tasa a plazo de 1 mes (\"r1\").\n",
    "\n",
    "Vamos a extraer los datos de la columna \"r1\" y almacenarlos en una variable que llamaremos \"tasa_corto_plazo\". Una forma de hacer esto es usar la misma notación que usamos para extraer un elemento \"[fila, columna]\" pero dejando en blanco la posición de la fila. Al deja en blanco esa posición de fila, \"R\" interpretará que deseamos EXTRAER TODAS LAS FILAS correspondientes a determinada(s) columna(s)."
   ]
  },
  {
   "cell_type": "code",
   "execution_count": 28,
   "id": "ce8a79d8-abf7-46d3-9375-949696bd409a",
   "metadata": {},
   "outputs": [
    {
     "data": {
      "text/html": [
       "<style>\n",
       ".list-inline {list-style: none; margin:0; padding: 0}\n",
       ".list-inline>li {display: inline-block}\n",
       ".list-inline>li:not(:last-child)::after {content: \"\\00b7\"; padding: 0 .5ex}\n",
       "</style>\n",
       "<ol class=list-inline><li>0.325</li><li>0.322</li><li>0.326</li><li>0.318</li><li>0.302</li><li>0.288</li></ol>\n"
      ],
      "text/latex": [
       "\\begin{enumerate*}\n",
       "\\item 0.325\n",
       "\\item 0.322\n",
       "\\item 0.326\n",
       "\\item 0.318\n",
       "\\item 0.302\n",
       "\\item 0.288\n",
       "\\end{enumerate*}\n"
      ],
      "text/markdown": [
       "1. 0.325\n",
       "2. 0.322\n",
       "3. 0.326\n",
       "4. 0.318\n",
       "5. 0.302\n",
       "6. 0.288\n",
       "\n",
       "\n"
      ],
      "text/plain": [
       "[1] 0.325 0.322 0.326 0.318 0.302 0.288"
      ]
     },
     "metadata": {},
     "output_type": "display_data"
    },
    {
     "data": {
      "text/html": [
       "<style>\n",
       ".list-inline {list-style: none; margin:0; padding: 0}\n",
       ".list-inline>li {display: inline-block}\n",
       ".list-inline>li:not(:last-child)::after {content: \"\\00b7\"; padding: 0 .5ex}\n",
       "</style>\n",
       "<ol class=list-inline><li>6.959</li><li>6.709</li><li>6.659</li><li>5.867</li><li>5.953</li><li>5.677</li></ol>\n"
      ],
      "text/latex": [
       "\\begin{enumerate*}\n",
       "\\item 6.959\n",
       "\\item 6.709\n",
       "\\item 6.659\n",
       "\\item 5.867\n",
       "\\item 5.953\n",
       "\\item 5.677\n",
       "\\end{enumerate*}\n"
      ],
      "text/markdown": [
       "1. 6.959\n",
       "2. 6.709\n",
       "3. 6.659\n",
       "4. 5.867\n",
       "5. 5.953\n",
       "6. 5.677\n",
       "\n",
       "\n"
      ],
      "text/plain": [
       "[1] 6.959 6.709 6.659 5.867 5.953 5.677"
      ]
     },
     "metadata": {},
     "output_type": "display_data"
    },
    {
     "name": "stdout",
     "output_type": "stream",
     "text": [
      "[1] \"tamaño de 'tasa_corto_plazo' =\"\n"
     ]
    },
    {
     "data": {
      "text/html": [
       "531"
      ],
      "text/latex": [
       "531"
      ],
      "text/markdown": [
       "531"
      ],
      "text/plain": [
       "[1] 531"
      ]
     },
     "metadata": {},
     "output_type": "display_data"
    }
   ],
   "source": [
    "tasa_corto_plazo <- df_rates[ ,'r1']\n",
    "\n",
    "head(tasa_corto_plazo) # muestra seis primeros elementos de \"tasa_corto_plazo\"\n",
    "tail(tasa_corto_plazo) # muestra seis últimos elementos de \"tasa_corto_plazo\"\n",
    "print(\"tamaño de 'tasa_corto_plazo' =\")\n",
    "length(tasa_corto_plazo)"
   ]
  },
  {
   "cell_type": "markdown",
   "id": "fc732b6f-ac2c-4abf-9463-bc626f564f55",
   "metadata": {},
   "source": [
    "Nótese que el resultado de la operación anterior ha sido entregado por \"R\" organizado en la forma de un vector, es decir una lista de valores, ya que de manera automática identificó que solicitábamos apenas una columna de datos.\n",
    "\n",
    "Debemos notar también que al haber solicitado la información de esa manera estamos perdiendo información importante de la fecha (mes y año) a la que pertenece cada valor.\n",
    "\n",
    "Intentemos entonces extraer los valores de la fecha (mes y año) y la tasa de interés."
   ]
  },
  {
   "cell_type": "code",
   "execution_count": 29,
   "id": "57adcf5e-8bb6-475d-bec3-c99fcfedb1a2",
   "metadata": {},
   "outputs": [
    {
     "data": {
      "text/html": [
       "<table class=\"dataframe\">\n",
       "<caption>A data.frame: 6 × 2</caption>\n",
       "<thead>\n",
       "\t<tr><th></th><th scope=col>Date</th><th scope=col>r1</th></tr>\n",
       "\t<tr><th></th><th scope=col>&lt;chr&gt;</th><th scope=col>&lt;dbl&gt;</th></tr>\n",
       "</thead>\n",
       "<tbody>\n",
       "\t<tr><th scope=row>1</th><td>Dec 1946</td><td>0.325</td></tr>\n",
       "\t<tr><th scope=row>2</th><td>Jan 1947</td><td>0.322</td></tr>\n",
       "\t<tr><th scope=row>3</th><td>Feb 1947</td><td>0.326</td></tr>\n",
       "\t<tr><th scope=row>4</th><td>Mar 1947</td><td>0.318</td></tr>\n",
       "\t<tr><th scope=row>5</th><td>Apr 1947</td><td>0.302</td></tr>\n",
       "\t<tr><th scope=row>6</th><td>May 1947</td><td>0.288</td></tr>\n",
       "</tbody>\n",
       "</table>\n"
      ],
      "text/latex": [
       "A data.frame: 6 × 2\n",
       "\\begin{tabular}{r|ll}\n",
       "  & Date & r1\\\\\n",
       "  & <chr> & <dbl>\\\\\n",
       "\\hline\n",
       "\t1 & Dec 1946 & 0.325\\\\\n",
       "\t2 & Jan 1947 & 0.322\\\\\n",
       "\t3 & Feb 1947 & 0.326\\\\\n",
       "\t4 & Mar 1947 & 0.318\\\\\n",
       "\t5 & Apr 1947 & 0.302\\\\\n",
       "\t6 & May 1947 & 0.288\\\\\n",
       "\\end{tabular}\n"
      ],
      "text/markdown": [
       "\n",
       "A data.frame: 6 × 2\n",
       "\n",
       "| <!--/--> | Date &lt;chr&gt; | r1 &lt;dbl&gt; |\n",
       "|---|---|---|\n",
       "| 1 | Dec 1946 | 0.325 |\n",
       "| 2 | Jan 1947 | 0.322 |\n",
       "| 3 | Feb 1947 | 0.326 |\n",
       "| 4 | Mar 1947 | 0.318 |\n",
       "| 5 | Apr 1947 | 0.302 |\n",
       "| 6 | May 1947 | 0.288 |\n",
       "\n"
      ],
      "text/plain": [
       "  Date     r1   \n",
       "1 Dec 1946 0.325\n",
       "2 Jan 1947 0.322\n",
       "3 Feb 1947 0.326\n",
       "4 Mar 1947 0.318\n",
       "5 Apr 1947 0.302\n",
       "6 May 1947 0.288"
      ]
     },
     "metadata": {},
     "output_type": "display_data"
    },
    {
     "data": {
      "text/html": [
       "<table class=\"dataframe\">\n",
       "<caption>A data.frame: 6 × 2</caption>\n",
       "<thead>\n",
       "\t<tr><th></th><th scope=col>Date</th><th scope=col>r1</th></tr>\n",
       "\t<tr><th></th><th scope=col>&lt;chr&gt;</th><th scope=col>&lt;dbl&gt;</th></tr>\n",
       "</thead>\n",
       "<tbody>\n",
       "\t<tr><th scope=row>526</th><td>Sep 1990</td><td>6.959</td></tr>\n",
       "\t<tr><th scope=row>527</th><td>Oct 1990</td><td>6.709</td></tr>\n",
       "\t<tr><th scope=row>528</th><td>Nov 1990</td><td>6.659</td></tr>\n",
       "\t<tr><th scope=row>529</th><td>Dec 1990</td><td>5.867</td></tr>\n",
       "\t<tr><th scope=row>530</th><td>Jan 1991</td><td>5.953</td></tr>\n",
       "\t<tr><th scope=row>531</th><td>Feb 1991</td><td>5.677</td></tr>\n",
       "</tbody>\n",
       "</table>\n"
      ],
      "text/latex": [
       "A data.frame: 6 × 2\n",
       "\\begin{tabular}{r|ll}\n",
       "  & Date & r1\\\\\n",
       "  & <chr> & <dbl>\\\\\n",
       "\\hline\n",
       "\t526 & Sep 1990 & 6.959\\\\\n",
       "\t527 & Oct 1990 & 6.709\\\\\n",
       "\t528 & Nov 1990 & 6.659\\\\\n",
       "\t529 & Dec 1990 & 5.867\\\\\n",
       "\t530 & Jan 1991 & 5.953\\\\\n",
       "\t531 & Feb 1991 & 5.677\\\\\n",
       "\\end{tabular}\n"
      ],
      "text/markdown": [
       "\n",
       "A data.frame: 6 × 2\n",
       "\n",
       "| <!--/--> | Date &lt;chr&gt; | r1 &lt;dbl&gt; |\n",
       "|---|---|---|\n",
       "| 526 | Sep 1990 | 6.959 |\n",
       "| 527 | Oct 1990 | 6.709 |\n",
       "| 528 | Nov 1990 | 6.659 |\n",
       "| 529 | Dec 1990 | 5.867 |\n",
       "| 530 | Jan 1991 | 5.953 |\n",
       "| 531 | Feb 1991 | 5.677 |\n",
       "\n"
      ],
      "text/plain": [
       "    Date     r1   \n",
       "526 Sep 1990 6.959\n",
       "527 Oct 1990 6.709\n",
       "528 Nov 1990 6.659\n",
       "529 Dec 1990 5.867\n",
       "530 Jan 1991 5.953\n",
       "531 Feb 1991 5.677"
      ]
     },
     "metadata": {},
     "output_type": "display_data"
    }
   ],
   "source": [
    "tasa_corto_plazo <- df_rates[ ,c('Date','r1')]\n",
    "\n",
    "head(tasa_corto_plazo) # muestra seis primeros elementos de \"tasa_corto_plazo\"\n",
    "tail(tasa_corto_plazo) # muestra seis últimos elementos de \"tasa_corto_plazo\""
   ]
  },
  {
   "cell_type": "markdown",
   "id": "e1d39183-4ba0-46bb-aa74-25546744ce02",
   "metadata": {},
   "source": [
    "Al pedir a \"R\" que extraiga dos columnas, de manera automática entrega el resultado organizado en formato \"data frame\", 531 filas y dos columnas solicitadas."
   ]
  },
  {
   "cell_type": "markdown",
   "id": "54666fe9-51d8-4f80-9c90-263de0536d58",
   "metadata": {},
   "source": [
    "Procesamiento de Datos\n",
    "==="
   ]
  },
  {
   "cell_type": "markdown",
   "id": "ea1fac29-dffe-48a8-b661-575d8f60b1cf",
   "metadata": {},
   "source": [
    "Otra manera de referirnos a una columna de una tabla de datos (data frame) es usando el operador \"$\".\n",
    "\n",
    "Colocamos el nombre de la tabla seguido del operador \"$\" y adicionamos el nombre de la columna."
   ]
  },
  {
   "cell_type": "code",
   "execution_count": 30,
   "id": "4dc10d50-6fef-4547-9d45-741e6b332b29",
   "metadata": {},
   "outputs": [
    {
     "data": {
      "text/html": [
       "<style>\n",
       ".list-inline {list-style: none; margin:0; padding: 0}\n",
       ".list-inline>li {display: inline-block}\n",
       ".list-inline>li:not(:last-child)::after {content: \"\\00b7\"; padding: 0 .5ex}\n",
       "</style>\n",
       "<ol class=list-inline><li>0.325</li><li>0.322</li><li>0.326</li><li>0.318</li><li>0.302</li><li>0.288</li><li>0.328</li><li>0.378</li><li>0.528</li><li>0.742</li><li>0.732</li><li>0.814</li><li>0.904</li><li>0.959</li><li>0.968</li><li>0.978</li><li>0.984</li><li>0.987</li><li>0.975</li><li>0.992</li><li>1.063</li><li>1.082</li><li>1.084</li><li>1.101</li><li>1.11</li><li>1.126</li><li>1.139</li><li>1.114</li><li>1.123</li><li>1.092</li><li>1.016</li><li>0.96</li><li>0.982</li><li>1.01</li><li>0.985</li><li>1.011</li><li>1.035</li><li>1.072</li><li>1.1</li><li>1.084</li><li>1.112</li><li>1.136</li><li>1.129</li><li>1.158</li><li>1.246</li><li>1.291</li><li>1.184</li><li>1.307</li><li>1.25</li><li>1.209</li><li>1.21</li><li>1.439</li><li>1.329</li><li>1.344</li><li>1.382</li><li>1.491</li><li>1.538</li><li>1.596</li><li>1.258</li><li>1.388</li><li>1.696</li><li>1.332</li><li>1.342</li><li>1.374</li><li>1.579</li><li>1.642</li><li>1.747</li><li>1.802</li><li>1.712</li><li>1.459</li><li>1.589</li><li>1.781</li><li>1.941</li><li>1.819</li><li>2.019</li><li>1.987</li><li>2.062</li><li>1.935</li><li>1.606</li><li>1.936</li><li>1.79</li><li>1.22</li><li>0.975</li><li>1.439</li><li>1.248</li><li>0.958</li><li>0.887</li><li>0.985</li><li>0.673</li><li>0.603</li><li>0.62</li><li>0.679</li><li>1.107</li><li>0.903</li><li>0.845</li><li>0.929</li><li>0.949</li><li>1.097</li><li>1.139</li><li>1.328</li><li>1.496</li><li>1.152</li><li>1.271</li><li>1.667</li><li>1.948</li><li>2.145</li><li>2.052</li><li>2.111</li><li>2.424</li><li>2.278</li><li>1.969</li><li>2.198</li><li>2.628</li><li>2.374</li><li>2.333</li><li>2.082</li><li>2.396</li><li>2.7</li><li>2.56</li><li>2.806</li><li>3.077</li><li>3.064</li><li>2.938</li><li>2.886</li><li>3.021</li><li>3.21</li><li>3.083</li><li>3.056</li><li>3.072</li><li>3.228</li><li>3.361</li><li>2.635</li><li>2.728</li><li>1.456</li><li>1.137</li><li>0.99</li><li>1.155</li><li>0.249</li><li>0.747</li><li>0.704</li><li>1.872</li><li>1.949</li><li>1.822</li><li>1.904</li><li>2.419</li><li>2.467</li><li>2.379</li><li>2.567</li><li>2.739</li><li>2.747</li><li>2.774</li><li>2.399</li><li>3.477</li><li>3.638</li><li>3.169</li><li>3.531</li><li>4.079</li><li>3.538</li><li>3.807</li><li>2.683</li><li>2.97</li><li>2.596</li><li>1.655</li><li>1.831</li><li>1.972</li><li>2.34</li><li>1.606</li><li>1.789</li><li>2.026</li><li>2.039</li><li>2.482</li><li>2.192</li><li>1.933</li><li>2.239</li><li>2.078</li><li>1.744</li><li>2.047</li><li>1.992</li><li>1.957</li><li>2.278</li><li>2.483</li><li>2.485</li><li>2.485</li><li>2.632</li><li>2.694</li><li>2.455</li><li>2.928</li><li>2.685</li><li>2.661</li><li>2.686</li><li>2.533</li><li>2.671</li><li>2.941</li><li>2.928</li><li>2.842</li><li>2.204</li><li>2.853</li><li>2.95</li><li>2.975</li><li>3.053</li><li>⋯</li><li>7.553</li><li>9.205</li><li>6.056</li><li>7.117</li><li>7.452</li><li>6.77</li><li>5.533</li><li>4.977</li><li>5.266</li><li>5.149</li><li>4.94</li><li>5.667</li><li>6.003</li><li>5.98</li><li>6.31</li><li>5.36</li><li>5.125</li><li>5.056</li><li>4.525</li><li>4.672</li><li>4.778</li><li>4.696</li><li>5.244</li><li>5.296</li><li>5.102</li><li>4.978</li><li>5.068</li><li>4.745</li><li>4.412</li><li>4.263</li><li>4.566</li><li>4.523</li><li>4.507</li><li>4.442</li><li>4.901</li><li>4.956</li><li>5.248</li><li>5.381</li><li>5.743</li><li>6.111</li><li>5.672</li><li>5.822</li><li>6.07</li><li>6.226</li><li>6.564</li><li>6.026</li><li>6.442</li><li>6.606</li><li>6.554</li><li>7.875</li><li>7.997</li><li>8.655</li><li>8.989</li><li>8.628</li><li>9.507</li><li>9.627</li><li>9.589</li><li>9.584</li><li>9.778</li><li>8.977</li><li>9.136</li><li>10.107</li><li>10.218</li><li>11.728</li><li>11.23</li><li>10.274</li><li>11.871</li><li>13.919</li><li>15.071</li><li>10.389</li><li>7.847</li><li>6.665</li><li>7.835</li><li>9.2</li><li>11.204</li><li>11.657</li><li>14.394</li><li>12.901</li><li>14.717</li><li>14.197</li><li>13.034</li><li>14.114</li><li>16.21</li><li>14.413</li><li>14.98</li><li>15.639</li><li>13.679</li><li>12.972</li><li>10.237</li><li>9.71</li><li>12.141</li><li>11.98</li><li>13.963</li><li>12.316</li><li>11.616</li><li>11.742</li><li>9.147</li><li>7.513</li><li>6.937</li><li>7.722</li><li>7.873</li><li>8.071</li><li>8.066</li><li>7.909</li><li>8.558</li><li>8.099</li><li>8.559</li><li>8.568</li><li>8.955</li><li>9.008</li><li>8.775</li><li>8.491</li><li>8.576</li><li>8.633</li><li>8.94</li><li>8.863</li><li>9.504</li><li>9.488</li><li>9.558</li><li>9.386</li><li>10.029</li><li>10.743</li><li>10.442</li><li>8.57</li><li>8</li><li>7.229</li><li>7.725</li><li>7.671</li><li>8.037</li><li>7.516</li><li>6.996</li><li>6.719</li><li>7.056</li><li>7.243</li><li>7.109</li><li>7.165</li><li>6.592</li><li>6.237</li><li>6.805</li><li>6.887</li><li>6.579</li><li>5.981</li><li>6.234</li><li>6.006</li><li>5.499</li><li>4.859</li><li>5.202</li><li>5.033</li><li>5.241</li><li>4.998</li><li>5.51</li><li>5.489</li><li>5.201</li><li>4.984</li><li>5.597</li><li>5.397</li><li>5.546</li><li>5.805</li><li>6.484</li><li>4.364</li><li>3.8</li><li>3.88</li><li>4.93</li><li>5.267</li><li>5.73</li><li>5.768</li><li>6.083</li><li>6.128</li><li>6.524</li><li>7.544</li><li>7.073</li><li>6.957</li><li>7.084</li><li>7.196</li><li>8.066</li><li>8.075</li><li>9.043</li><li>8.63</li><li>8.519</li><li>8.254</li><li>7.934</li><li>7.501</li><li>7.588</li><li>7.842</li><li>7.938</li><li>6.651</li><li>7.627</li><li>7.74</li><li>8.083</li><li>7.666</li><li>7.652</li><li>7.613</li><li>7.596</li><li>7.537</li><li>6.959</li><li>6.709</li><li>6.659</li><li>5.867</li><li>5.953</li><li>5.677</li></ol>\n"
      ],
      "text/latex": [
       "\\begin{enumerate*}\n",
       "\\item 0.325\n",
       "\\item 0.322\n",
       "\\item 0.326\n",
       "\\item 0.318\n",
       "\\item 0.302\n",
       "\\item 0.288\n",
       "\\item 0.328\n",
       "\\item 0.378\n",
       "\\item 0.528\n",
       "\\item 0.742\n",
       "\\item 0.732\n",
       "\\item 0.814\n",
       "\\item 0.904\n",
       "\\item 0.959\n",
       "\\item 0.968\n",
       "\\item 0.978\n",
       "\\item 0.984\n",
       "\\item 0.987\n",
       "\\item 0.975\n",
       "\\item 0.992\n",
       "\\item 1.063\n",
       "\\item 1.082\n",
       "\\item 1.084\n",
       "\\item 1.101\n",
       "\\item 1.11\n",
       "\\item 1.126\n",
       "\\item 1.139\n",
       "\\item 1.114\n",
       "\\item 1.123\n",
       "\\item 1.092\n",
       "\\item 1.016\n",
       "\\item 0.96\n",
       "\\item 0.982\n",
       "\\item 1.01\n",
       "\\item 0.985\n",
       "\\item 1.011\n",
       "\\item 1.035\n",
       "\\item 1.072\n",
       "\\item 1.1\n",
       "\\item 1.084\n",
       "\\item 1.112\n",
       "\\item 1.136\n",
       "\\item 1.129\n",
       "\\item 1.158\n",
       "\\item 1.246\n",
       "\\item 1.291\n",
       "\\item 1.184\n",
       "\\item 1.307\n",
       "\\item 1.25\n",
       "\\item 1.209\n",
       "\\item 1.21\n",
       "\\item 1.439\n",
       "\\item 1.329\n",
       "\\item 1.344\n",
       "\\item 1.382\n",
       "\\item 1.491\n",
       "\\item 1.538\n",
       "\\item 1.596\n",
       "\\item 1.258\n",
       "\\item 1.388\n",
       "\\item 1.696\n",
       "\\item 1.332\n",
       "\\item 1.342\n",
       "\\item 1.374\n",
       "\\item 1.579\n",
       "\\item 1.642\n",
       "\\item 1.747\n",
       "\\item 1.802\n",
       "\\item 1.712\n",
       "\\item 1.459\n",
       "\\item 1.589\n",
       "\\item 1.781\n",
       "\\item 1.941\n",
       "\\item 1.819\n",
       "\\item 2.019\n",
       "\\item 1.987\n",
       "\\item 2.062\n",
       "\\item 1.935\n",
       "\\item 1.606\n",
       "\\item 1.936\n",
       "\\item 1.79\n",
       "\\item 1.22\n",
       "\\item 0.975\n",
       "\\item 1.439\n",
       "\\item 1.248\n",
       "\\item 0.958\n",
       "\\item 0.887\n",
       "\\item 0.985\n",
       "\\item 0.673\n",
       "\\item 0.603\n",
       "\\item 0.62\n",
       "\\item 0.679\n",
       "\\item 1.107\n",
       "\\item 0.903\n",
       "\\item 0.845\n",
       "\\item 0.929\n",
       "\\item 0.949\n",
       "\\item 1.097\n",
       "\\item 1.139\n",
       "\\item 1.328\n",
       "\\item 1.496\n",
       "\\item 1.152\n",
       "\\item 1.271\n",
       "\\item 1.667\n",
       "\\item 1.948\n",
       "\\item 2.145\n",
       "\\item 2.052\n",
       "\\item 2.111\n",
       "\\item 2.424\n",
       "\\item 2.278\n",
       "\\item 1.969\n",
       "\\item 2.198\n",
       "\\item 2.628\n",
       "\\item 2.374\n",
       "\\item 2.333\n",
       "\\item 2.082\n",
       "\\item 2.396\n",
       "\\item 2.7\n",
       "\\item 2.56\n",
       "\\item 2.806\n",
       "\\item 3.077\n",
       "\\item 3.064\n",
       "\\item 2.938\n",
       "\\item 2.886\n",
       "\\item 3.021\n",
       "\\item 3.21\n",
       "\\item 3.083\n",
       "\\item 3.056\n",
       "\\item 3.072\n",
       "\\item 3.228\n",
       "\\item 3.361\n",
       "\\item 2.635\n",
       "\\item 2.728\n",
       "\\item 1.456\n",
       "\\item 1.137\n",
       "\\item 0.99\n",
       "\\item 1.155\n",
       "\\item 0.249\n",
       "\\item 0.747\n",
       "\\item 0.704\n",
       "\\item 1.872\n",
       "\\item 1.949\n",
       "\\item 1.822\n",
       "\\item 1.904\n",
       "\\item 2.419\n",
       "\\item 2.467\n",
       "\\item 2.379\n",
       "\\item 2.567\n",
       "\\item 2.739\n",
       "\\item 2.747\n",
       "\\item 2.774\n",
       "\\item 2.399\n",
       "\\item 3.477\n",
       "\\item 3.638\n",
       "\\item 3.169\n",
       "\\item 3.531\n",
       "\\item 4.079\n",
       "\\item 3.538\n",
       "\\item 3.807\n",
       "\\item 2.683\n",
       "\\item 2.97\n",
       "\\item 2.596\n",
       "\\item 1.655\n",
       "\\item 1.831\n",
       "\\item 1.972\n",
       "\\item 2.34\n",
       "\\item 1.606\n",
       "\\item 1.789\n",
       "\\item 2.026\n",
       "\\item 2.039\n",
       "\\item 2.482\n",
       "\\item 2.192\n",
       "\\item 1.933\n",
       "\\item 2.239\n",
       "\\item 2.078\n",
       "\\item 1.744\n",
       "\\item 2.047\n",
       "\\item 1.992\n",
       "\\item 1.957\n",
       "\\item 2.278\n",
       "\\item 2.483\n",
       "\\item 2.485\n",
       "\\item 2.485\n",
       "\\item 2.632\n",
       "\\item 2.694\n",
       "\\item 2.455\n",
       "\\item 2.928\n",
       "\\item 2.685\n",
       "\\item 2.661\n",
       "\\item 2.686\n",
       "\\item 2.533\n",
       "\\item 2.671\n",
       "\\item 2.941\n",
       "\\item 2.928\n",
       "\\item 2.842\n",
       "\\item 2.204\n",
       "\\item 2.853\n",
       "\\item 2.95\n",
       "\\item 2.975\n",
       "\\item 3.053\n",
       "\\item ⋯\n",
       "\\item 7.553\n",
       "\\item 9.205\n",
       "\\item 6.056\n",
       "\\item 7.117\n",
       "\\item 7.452\n",
       "\\item 6.77\n",
       "\\item 5.533\n",
       "\\item 4.977\n",
       "\\item 5.266\n",
       "\\item 5.149\n",
       "\\item 4.94\n",
       "\\item 5.667\n",
       "\\item 6.003\n",
       "\\item 5.98\n",
       "\\item 6.31\n",
       "\\item 5.36\n",
       "\\item 5.125\n",
       "\\item 5.056\n",
       "\\item 4.525\n",
       "\\item 4.672\n",
       "\\item 4.778\n",
       "\\item 4.696\n",
       "\\item 5.244\n",
       "\\item 5.296\n",
       "\\item 5.102\n",
       "\\item 4.978\n",
       "\\item 5.068\n",
       "\\item 4.745\n",
       "\\item 4.412\n",
       "\\item 4.263\n",
       "\\item 4.566\n",
       "\\item 4.523\n",
       "\\item 4.507\n",
       "\\item 4.442\n",
       "\\item 4.901\n",
       "\\item 4.956\n",
       "\\item 5.248\n",
       "\\item 5.381\n",
       "\\item 5.743\n",
       "\\item 6.111\n",
       "\\item 5.672\n",
       "\\item 5.822\n",
       "\\item 6.07\n",
       "\\item 6.226\n",
       "\\item 6.564\n",
       "\\item 6.026\n",
       "\\item 6.442\n",
       "\\item 6.606\n",
       "\\item 6.554\n",
       "\\item 7.875\n",
       "\\item 7.997\n",
       "\\item 8.655\n",
       "\\item 8.989\n",
       "\\item 8.628\n",
       "\\item 9.507\n",
       "\\item 9.627\n",
       "\\item 9.589\n",
       "\\item 9.584\n",
       "\\item 9.778\n",
       "\\item 8.977\n",
       "\\item 9.136\n",
       "\\item 10.107\n",
       "\\item 10.218\n",
       "\\item 11.728\n",
       "\\item 11.23\n",
       "\\item 10.274\n",
       "\\item 11.871\n",
       "\\item 13.919\n",
       "\\item 15.071\n",
       "\\item 10.389\n",
       "\\item 7.847\n",
       "\\item 6.665\n",
       "\\item 7.835\n",
       "\\item 9.2\n",
       "\\item 11.204\n",
       "\\item 11.657\n",
       "\\item 14.394\n",
       "\\item 12.901\n",
       "\\item 14.717\n",
       "\\item 14.197\n",
       "\\item 13.034\n",
       "\\item 14.114\n",
       "\\item 16.21\n",
       "\\item 14.413\n",
       "\\item 14.98\n",
       "\\item 15.639\n",
       "\\item 13.679\n",
       "\\item 12.972\n",
       "\\item 10.237\n",
       "\\item 9.71\n",
       "\\item 12.141\n",
       "\\item 11.98\n",
       "\\item 13.963\n",
       "\\item 12.316\n",
       "\\item 11.616\n",
       "\\item 11.742\n",
       "\\item 9.147\n",
       "\\item 7.513\n",
       "\\item 6.937\n",
       "\\item 7.722\n",
       "\\item 7.873\n",
       "\\item 8.071\n",
       "\\item 8.066\n",
       "\\item 7.909\n",
       "\\item 8.558\n",
       "\\item 8.099\n",
       "\\item 8.559\n",
       "\\item 8.568\n",
       "\\item 8.955\n",
       "\\item 9.008\n",
       "\\item 8.775\n",
       "\\item 8.491\n",
       "\\item 8.576\n",
       "\\item 8.633\n",
       "\\item 8.94\n",
       "\\item 8.863\n",
       "\\item 9.504\n",
       "\\item 9.488\n",
       "\\item 9.558\n",
       "\\item 9.386\n",
       "\\item 10.029\n",
       "\\item 10.743\n",
       "\\item 10.442\n",
       "\\item 8.57\n",
       "\\item 8\n",
       "\\item 7.229\n",
       "\\item 7.725\n",
       "\\item 7.671\n",
       "\\item 8.037\n",
       "\\item 7.516\n",
       "\\item 6.996\n",
       "\\item 6.719\n",
       "\\item 7.056\n",
       "\\item 7.243\n",
       "\\item 7.109\n",
       "\\item 7.165\n",
       "\\item 6.592\n",
       "\\item 6.237\n",
       "\\item 6.805\n",
       "\\item 6.887\n",
       "\\item 6.579\n",
       "\\item 5.981\n",
       "\\item 6.234\n",
       "\\item 6.006\n",
       "\\item 5.499\n",
       "\\item 4.859\n",
       "\\item 5.202\n",
       "\\item 5.033\n",
       "\\item 5.241\n",
       "\\item 4.998\n",
       "\\item 5.51\n",
       "\\item 5.489\n",
       "\\item 5.201\n",
       "\\item 4.984\n",
       "\\item 5.597\n",
       "\\item 5.397\n",
       "\\item 5.546\n",
       "\\item 5.805\n",
       "\\item 6.484\n",
       "\\item 4.364\n",
       "\\item 3.8\n",
       "\\item 3.88\n",
       "\\item 4.93\n",
       "\\item 5.267\n",
       "\\item 5.73\n",
       "\\item 5.768\n",
       "\\item 6.083\n",
       "\\item 6.128\n",
       "\\item 6.524\n",
       "\\item 7.544\n",
       "\\item 7.073\n",
       "\\item 6.957\n",
       "\\item 7.084\n",
       "\\item 7.196\n",
       "\\item 8.066\n",
       "\\item 8.075\n",
       "\\item 9.043\n",
       "\\item 8.63\n",
       "\\item 8.519\n",
       "\\item 8.254\n",
       "\\item 7.934\n",
       "\\item 7.501\n",
       "\\item 7.588\n",
       "\\item 7.842\n",
       "\\item 7.938\n",
       "\\item 6.651\n",
       "\\item 7.627\n",
       "\\item 7.74\n",
       "\\item 8.083\n",
       "\\item 7.666\n",
       "\\item 7.652\n",
       "\\item 7.613\n",
       "\\item 7.596\n",
       "\\item 7.537\n",
       "\\item 6.959\n",
       "\\item 6.709\n",
       "\\item 6.659\n",
       "\\item 5.867\n",
       "\\item 5.953\n",
       "\\item 5.677\n",
       "\\end{enumerate*}\n"
      ],
      "text/markdown": [
       "1. 0.325\n",
       "2. 0.322\n",
       "3. 0.326\n",
       "4. 0.318\n",
       "5. 0.302\n",
       "6. 0.288\n",
       "7. 0.328\n",
       "8. 0.378\n",
       "9. 0.528\n",
       "10. 0.742\n",
       "11. 0.732\n",
       "12. 0.814\n",
       "13. 0.904\n",
       "14. 0.959\n",
       "15. 0.968\n",
       "16. 0.978\n",
       "17. 0.984\n",
       "18. 0.987\n",
       "19. 0.975\n",
       "20. 0.992\n",
       "21. 1.063\n",
       "22. 1.082\n",
       "23. 1.084\n",
       "24. 1.101\n",
       "25. 1.11\n",
       "26. 1.126\n",
       "27. 1.139\n",
       "28. 1.114\n",
       "29. 1.123\n",
       "30. 1.092\n",
       "31. 1.016\n",
       "32. 0.96\n",
       "33. 0.982\n",
       "34. 1.01\n",
       "35. 0.985\n",
       "36. 1.011\n",
       "37. 1.035\n",
       "38. 1.072\n",
       "39. 1.1\n",
       "40. 1.084\n",
       "41. 1.112\n",
       "42. 1.136\n",
       "43. 1.129\n",
       "44. 1.158\n",
       "45. 1.246\n",
       "46. 1.291\n",
       "47. 1.184\n",
       "48. 1.307\n",
       "49. 1.25\n",
       "50. 1.209\n",
       "51. 1.21\n",
       "52. 1.439\n",
       "53. 1.329\n",
       "54. 1.344\n",
       "55. 1.382\n",
       "56. 1.491\n",
       "57. 1.538\n",
       "58. 1.596\n",
       "59. 1.258\n",
       "60. 1.388\n",
       "61. 1.696\n",
       "62. 1.332\n",
       "63. 1.342\n",
       "64. 1.374\n",
       "65. 1.579\n",
       "66. 1.642\n",
       "67. 1.747\n",
       "68. 1.802\n",
       "69. 1.712\n",
       "70. 1.459\n",
       "71. 1.589\n",
       "72. 1.781\n",
       "73. 1.941\n",
       "74. 1.819\n",
       "75. 2.019\n",
       "76. 1.987\n",
       "77. 2.062\n",
       "78. 1.935\n",
       "79. 1.606\n",
       "80. 1.936\n",
       "81. 1.79\n",
       "82. 1.22\n",
       "83. 0.975\n",
       "84. 1.439\n",
       "85. 1.248\n",
       "86. 0.958\n",
       "87. 0.887\n",
       "88. 0.985\n",
       "89. 0.673\n",
       "90. 0.603\n",
       "91. 0.62\n",
       "92. 0.679\n",
       "93. 1.107\n",
       "94. 0.903\n",
       "95. 0.845\n",
       "96. 0.929\n",
       "97. 0.949\n",
       "98. 1.097\n",
       "99. 1.139\n",
       "100. 1.328\n",
       "101. 1.496\n",
       "102. 1.152\n",
       "103. 1.271\n",
       "104. 1.667\n",
       "105. 1.948\n",
       "106. 2.145\n",
       "107. 2.052\n",
       "108. 2.111\n",
       "109. 2.424\n",
       "110. 2.278\n",
       "111. 1.969\n",
       "112. 2.198\n",
       "113. 2.628\n",
       "114. 2.374\n",
       "115. 2.333\n",
       "116. 2.082\n",
       "117. 2.396\n",
       "118. 2.7\n",
       "119. 2.56\n",
       "120. 2.806\n",
       "121. 3.077\n",
       "122. 3.064\n",
       "123. 2.938\n",
       "124. 2.886\n",
       "125. 3.021\n",
       "126. 3.21\n",
       "127. 3.083\n",
       "128. 3.056\n",
       "129. 3.072\n",
       "130. 3.228\n",
       "131. 3.361\n",
       "132. 2.635\n",
       "133. 2.728\n",
       "134. 1.456\n",
       "135. 1.137\n",
       "136. 0.99\n",
       "137. 1.155\n",
       "138. 0.249\n",
       "139. 0.747\n",
       "140. 0.704\n",
       "141. 1.872\n",
       "142. 1.949\n",
       "143. 1.822\n",
       "144. 1.904\n",
       "145. 2.419\n",
       "146. 2.467\n",
       "147. 2.379\n",
       "148. 2.567\n",
       "149. 2.739\n",
       "150. 2.747\n",
       "151. 2.774\n",
       "152. 2.399\n",
       "153. 3.477\n",
       "154. 3.638\n",
       "155. 3.169\n",
       "156. 3.531\n",
       "157. 4.079\n",
       "158. 3.538\n",
       "159. 3.807\n",
       "160. 2.683\n",
       "161. 2.97\n",
       "162. 2.596\n",
       "163. 1.655\n",
       "164. 1.831\n",
       "165. 1.972\n",
       "166. 2.34\n",
       "167. 1.606\n",
       "168. 1.789\n",
       "169. 2.026\n",
       "170. 2.039\n",
       "171. 2.482\n",
       "172. 2.192\n",
       "173. 1.933\n",
       "174. 2.239\n",
       "175. 2.078\n",
       "176. 1.744\n",
       "177. 2.047\n",
       "178. 1.992\n",
       "179. 1.957\n",
       "180. 2.278\n",
       "181. 2.483\n",
       "182. 2.485\n",
       "183. 2.485\n",
       "184. 2.632\n",
       "185. 2.694\n",
       "186. 2.455\n",
       "187. 2.928\n",
       "188. 2.685\n",
       "189. 2.661\n",
       "190. 2.686\n",
       "191. 2.533\n",
       "192. 2.671\n",
       "193. 2.941\n",
       "194. 2.928\n",
       "195. 2.842\n",
       "196. 2.204\n",
       "197. 2.853\n",
       "198. 2.95\n",
       "199. 2.975\n",
       "200. 3.053\n",
       "201. ⋯\n",
       "202. 7.553\n",
       "203. 9.205\n",
       "204. 6.056\n",
       "205. 7.117\n",
       "206. 7.452\n",
       "207. 6.77\n",
       "208. 5.533\n",
       "209. 4.977\n",
       "210. 5.266\n",
       "211. 5.149\n",
       "212. 4.94\n",
       "213. 5.667\n",
       "214. 6.003\n",
       "215. 5.98\n",
       "216. 6.31\n",
       "217. 5.36\n",
       "218. 5.125\n",
       "219. 5.056\n",
       "220. 4.525\n",
       "221. 4.672\n",
       "222. 4.778\n",
       "223. 4.696\n",
       "224. 5.244\n",
       "225. 5.296\n",
       "226. 5.102\n",
       "227. 4.978\n",
       "228. 5.068\n",
       "229. 4.745\n",
       "230. 4.412\n",
       "231. 4.263\n",
       "232. 4.566\n",
       "233. 4.523\n",
       "234. 4.507\n",
       "235. 4.442\n",
       "236. 4.901\n",
       "237. 4.956\n",
       "238. 5.248\n",
       "239. 5.381\n",
       "240. 5.743\n",
       "241. 6.111\n",
       "242. 5.672\n",
       "243. 5.822\n",
       "244. 6.07\n",
       "245. 6.226\n",
       "246. 6.564\n",
       "247. 6.026\n",
       "248. 6.442\n",
       "249. 6.606\n",
       "250. 6.554\n",
       "251. 7.875\n",
       "252. 7.997\n",
       "253. 8.655\n",
       "254. 8.989\n",
       "255. 8.628\n",
       "256. 9.507\n",
       "257. 9.627\n",
       "258. 9.589\n",
       "259. 9.584\n",
       "260. 9.778\n",
       "261. 8.977\n",
       "262. 9.136\n",
       "263. 10.107\n",
       "264. 10.218\n",
       "265. 11.728\n",
       "266. 11.23\n",
       "267. 10.274\n",
       "268. 11.871\n",
       "269. 13.919\n",
       "270. 15.071\n",
       "271. 10.389\n",
       "272. 7.847\n",
       "273. 6.665\n",
       "274. 7.835\n",
       "275. 9.2\n",
       "276. 11.204\n",
       "277. 11.657\n",
       "278. 14.394\n",
       "279. 12.901\n",
       "280. 14.717\n",
       "281. 14.197\n",
       "282. 13.034\n",
       "283. 14.114\n",
       "284. 16.21\n",
       "285. 14.413\n",
       "286. 14.98\n",
       "287. 15.639\n",
       "288. 13.679\n",
       "289. 12.972\n",
       "290. 10.237\n",
       "291. 9.71\n",
       "292. 12.141\n",
       "293. 11.98\n",
       "294. 13.963\n",
       "295. 12.316\n",
       "296. 11.616\n",
       "297. 11.742\n",
       "298. 9.147\n",
       "299. 7.513\n",
       "300. 6.937\n",
       "301. 7.722\n",
       "302. 7.873\n",
       "303. 8.071\n",
       "304. 8.066\n",
       "305. 7.909\n",
       "306. 8.558\n",
       "307. 8.099\n",
       "308. 8.559\n",
       "309. 8.568\n",
       "310. 8.955\n",
       "311. 9.008\n",
       "312. 8.775\n",
       "313. 8.491\n",
       "314. 8.576\n",
       "315. 8.633\n",
       "316. 8.94\n",
       "317. 8.863\n",
       "318. 9.504\n",
       "319. 9.488\n",
       "320. 9.558\n",
       "321. 9.386\n",
       "322. 10.029\n",
       "323. 10.743\n",
       "324. 10.442\n",
       "325. 8.57\n",
       "326. 8\n",
       "327. 7.229\n",
       "328. 7.725\n",
       "329. 7.671\n",
       "330. 8.037\n",
       "331. 7.516\n",
       "332. 6.996\n",
       "333. 6.719\n",
       "334. 7.056\n",
       "335. 7.243\n",
       "336. 7.109\n",
       "337. 7.165\n",
       "338. 6.592\n",
       "339. 6.237\n",
       "340. 6.805\n",
       "341. 6.887\n",
       "342. 6.579\n",
       "343. 5.981\n",
       "344. 6.234\n",
       "345. 6.006\n",
       "346. 5.499\n",
       "347. 4.859\n",
       "348. 5.202\n",
       "349. 5.033\n",
       "350. 5.241\n",
       "351. 4.998\n",
       "352. 5.51\n",
       "353. 5.489\n",
       "354. 5.201\n",
       "355. 4.984\n",
       "356. 5.597\n",
       "357. 5.397\n",
       "358. 5.546\n",
       "359. 5.805\n",
       "360. 6.484\n",
       "361. 4.364\n",
       "362. 3.8\n",
       "363. 3.88\n",
       "364. 4.93\n",
       "365. 5.267\n",
       "366. 5.73\n",
       "367. 5.768\n",
       "368. 6.083\n",
       "369. 6.128\n",
       "370. 6.524\n",
       "371. 7.544\n",
       "372. 7.073\n",
       "373. 6.957\n",
       "374. 7.084\n",
       "375. 7.196\n",
       "376. 8.066\n",
       "377. 8.075\n",
       "378. 9.043\n",
       "379. 8.63\n",
       "380. 8.519\n",
       "381. 8.254\n",
       "382. 7.934\n",
       "383. 7.501\n",
       "384. 7.588\n",
       "385. 7.842\n",
       "386. 7.938\n",
       "387. 6.651\n",
       "388. 7.627\n",
       "389. 7.74\n",
       "390. 8.083\n",
       "391. 7.666\n",
       "392. 7.652\n",
       "393. 7.613\n",
       "394. 7.596\n",
       "395. 7.537\n",
       "396. 6.959\n",
       "397. 6.709\n",
       "398. 6.659\n",
       "399. 5.867\n",
       "400. 5.953\n",
       "401. 5.677\n",
       "\n",
       "\n"
      ],
      "text/plain": [
       "  [1]  0.325  0.322  0.326  0.318  0.302  0.288  0.328  0.378  0.528  0.742\n",
       " [11]  0.732  0.814  0.904  0.959  0.968  0.978  0.984  0.987  0.975  0.992\n",
       " [21]  1.063  1.082  1.084  1.101  1.110  1.126  1.139  1.114  1.123  1.092\n",
       " [31]  1.016  0.960  0.982  1.010  0.985  1.011  1.035  1.072  1.100  1.084\n",
       " [41]  1.112  1.136  1.129  1.158  1.246  1.291  1.184  1.307  1.250  1.209\n",
       " [51]  1.210  1.439  1.329  1.344  1.382  1.491  1.538  1.596  1.258  1.388\n",
       " [61]  1.696  1.332  1.342  1.374  1.579  1.642  1.747  1.802  1.712  1.459\n",
       " [71]  1.589  1.781  1.941  1.819  2.019  1.987  2.062  1.935  1.606  1.936\n",
       " [81]  1.790  1.220  0.975  1.439  1.248  0.958  0.887  0.985  0.673  0.603\n",
       " [91]  0.620  0.679  1.107  0.903  0.845  0.929  0.949  1.097  1.139  1.328\n",
       "[101]  1.496  1.152  1.271  1.667  1.948  2.145  2.052  2.111  2.424  2.278\n",
       "[111]  1.969  2.198  2.628  2.374  2.333  2.082  2.396  2.700  2.560  2.806\n",
       "[121]  3.077  3.064  2.938  2.886  3.021  3.210  3.083  3.056  3.072  3.228\n",
       "[131]  3.361  2.635  2.728  1.456  1.137  0.990  1.155  0.249  0.747  0.704\n",
       "[141]  1.872  1.949  1.822  1.904  2.419  2.467  2.379  2.567  2.739  2.747\n",
       "[151]  2.774  2.399  3.477  3.638  3.169  3.531  4.079  3.538  3.807  2.683\n",
       "[161]  2.970  2.596  1.655  1.831  1.972  2.340  1.606  1.789  2.026  2.039\n",
       "[171]  2.482  2.192  1.933  2.239  2.078  1.744  2.047  1.992  1.957  2.278\n",
       "[181]  2.483  2.485  2.485  2.632  2.694  2.455  2.928  2.685  2.661  2.686\n",
       "[191]  2.533  2.671  2.941  2.928  2.842  2.204  2.853  2.950  2.975  3.053\n",
       "[201]  3.264  3.437  3.364  3.274  3.511  3.424  3.528  3.513  3.320  3.289\n",
       "[211]  3.456  3.317  3.398  3.526  3.451  3.631  3.561  3.854  3.866  3.822\n",
       "[221]  3.885  3.863  3.787  3.812  3.807  3.949  3.917  3.925  4.440  4.521\n",
       "[231]  4.497  4.403  4.631  4.495  4.495  4.576  4.792  5.198  4.848  4.624\n",
       "[241]  4.699  4.537  4.372  4.014  3.543  3.345  3.748  3.788  3.928  4.248\n",
       "[251]  4.185  4.275  4.426  4.739  4.788  4.941  5.335  5.568  5.289  5.102\n",
       "[261]  5.049  5.197  5.336  5.071  6.138  5.948  5.892  5.638  6.111  5.971\n",
       "[271]  6.256  6.547  7.047  7.031  6.694  6.892  7.280  7.622  6.683  6.425\n",
       "[281]  6.523  6.564  6.119  5.920  6.238  5.557  5.455  4.754  4.572  4.113\n",
       "[291]  3.250  3.462  3.807  4.203  4.950  5.206  4.456  4.473  4.057  4.064\n",
       "[301]  3.330  3.024  3.250  3.420  3.285  3.503  3.675  3.555  4.346  4.482\n",
       "[311]  4.540  4.793  4.927  5.437  5.592  6.083  6.013  6.531  7.454  8.289\n",
       "[321]  8.636  7.126  7.147  7.488  7.292  7.518  7.578  8.513  8.727  7.664\n",
       "[331]  7.655  7.553  9.205  6.056  7.117  7.452  6.770  5.533  4.977  5.266\n",
       "[341]  5.149  4.940  5.667  6.003  5.980  6.310  5.360  5.125  5.056  4.525\n",
       "[351]  4.672  4.778  4.696  5.244  5.296  5.102  4.978  5.068  4.745  4.412\n",
       "[361]  4.263  4.566  4.523  4.507  4.442  4.901  4.956  5.248  5.381  5.743\n",
       "[371]  6.111  5.672  5.822  6.070  6.226  6.564  6.026  6.442  6.606  6.554\n",
       "[381]  7.875  7.997  8.655  8.989  8.628  9.507  9.627  9.589  9.584  9.778\n",
       "[391]  8.977  9.136 10.107 10.218 11.728 11.230 10.274 11.871 13.919 15.071\n",
       "[401] 10.389  7.847  6.665  7.835  9.200 11.204 11.657 14.394 12.901 14.717\n",
       "[411] 14.197 13.034 14.114 16.210 14.413 14.980 15.639 13.679 12.972 10.237\n",
       "[421]  9.710 12.141 11.980 13.963 12.316 11.616 11.742  9.147  7.513  6.937\n",
       "[431]  7.722  7.873  8.071  8.066  7.909  8.558  8.099  8.559  8.568  8.955\n",
       "[441]  9.008  8.775  8.491  8.576  8.633  8.940  8.863  9.504  9.488  9.558\n",
       "[451]  9.386 10.029 10.743 10.442  8.570  8.000  7.229  7.725  7.671  8.037\n",
       "[461]  7.516  6.996  6.719  7.056  7.243  7.109  7.165  6.592  6.237  6.805\n",
       "[471]  6.887  6.579  5.981  6.234  6.006  5.499  4.859  5.202  5.033  5.241\n",
       "[481]  4.998  5.510  5.489  5.201  4.984  5.597  5.397  5.546  5.805  6.484\n",
       "[491]  4.364  3.800  3.880  4.930  5.267  5.730  5.768  6.083  6.128  6.524\n",
       "[501]  7.544  7.073  6.957  7.084  7.196  8.066  8.075  9.043  8.630  8.519\n",
       "[511]  8.254  7.934  7.501  7.588  7.842  7.938  6.651  7.627  7.740  8.083\n",
       "[521]  7.666  7.652  7.613  7.596  7.537  6.959  6.709  6.659  5.867  5.953\n",
       "[531]  5.677"
      ]
     },
     "metadata": {},
     "output_type": "display_data"
    }
   ],
   "source": [
    "tasa_corto_plazo$r1 # entrega un vector con los valores de la columna \"r1\""
   ]
  },
  {
   "cell_type": "code",
   "execution_count": 31,
   "id": "499953b2-7d97-4b27-b3d4-2f7d0262f010",
   "metadata": {},
   "outputs": [
    {
     "data": {
      "text/html": [
       "4.8201581920904"
      ],
      "text/latex": [
       "4.8201581920904"
      ],
      "text/markdown": [
       "4.8201581920904"
      ],
      "text/plain": [
       "[1] 4.820158"
      ]
     },
     "metadata": {},
     "output_type": "display_data"
    }
   ],
   "source": [
    "mean(tasa_corto_plazo$r1)"
   ]
  },
  {
   "cell_type": "code",
   "execution_count": 32,
   "id": "0d3961aa-de27-44a1-a388-678dc2a06bd5",
   "metadata": {},
   "outputs": [
    {
     "data": {
      "text/html": [
       "4.482"
      ],
      "text/latex": [
       "4.482"
      ],
      "text/markdown": [
       "4.482"
      ],
      "text/plain": [
       "[1] 4.482"
      ]
     },
     "metadata": {},
     "output_type": "display_data"
    }
   ],
   "source": [
    "median(tasa_corto_plazo$r1)"
   ]
  },
  {
   "cell_type": "code",
   "execution_count": 33,
   "id": "8d588065-cfd3-49c8-8532-d9579d5d7400",
   "metadata": {},
   "outputs": [
    {
     "data": {
      "text/plain": [
       "   Min. 1st Qu.  Median    Mean 3rd Qu.    Max. \n",
       "  0.249   2.128   4.482   4.820   6.846  16.210 "
      ]
     },
     "metadata": {},
     "output_type": "display_data"
    }
   ],
   "source": [
    "summary(tasa_corto_plazo$r1) # muestra principales indicadores de la distribución de los datos"
   ]
  },
  {
   "cell_type": "code",
   "execution_count": 34,
   "id": "c7a27d3e-f6a8-4fb0-8a8f-0485117e0462",
   "metadata": {},
   "outputs": [
    {
     "data": {
      "image/png": "[encoded data removed]",
      "text/plain": [
       "plot without title"
      ]
     },
     "metadata": {
      "image/png": {
       "height": 420,
       "width": 420
      }
     },
     "output_type": "display_data"
    }
   ],
   "source": [
    "boxplot(tasa_corto_plazo$r1) # gráfica de boxplot de la distribución de los datos"
   ]
  },
  {
   "cell_type": "code",
   "execution_count": 35,
   "id": "86e80774-9c88-4767-884d-9d27a3680aee",
   "metadata": {},
   "outputs": [
    {
     "data": {
      "image/png": "[encoded data removed]",
      "text/plain": [
       "plot without title"
      ]
     },
     "metadata": {
      "image/png": {
       "height": 420,
       "width": 420
      }
     },
     "output_type": "display_data"
    }
   ],
   "source": [
    "plot(tasa_corto_plazo$r1) # gráfica de los valores en la secuencia encontrada"
   ]
  },
  {
   "cell_type": "markdown",
   "id": "902fbbe8-459f-4203-854a-9d5840b1924e",
   "metadata": {},
   "source": [
    "Nótese que en las estimaciones estádisticas y gráficos mostrados arriba (mean, median, summary, boxplot y plot) se han usado para la SECUENCIA COMPLETA de valores en la columna \"r1\" de la tabla \"tasa_corto_plazo\".\n",
    "\n",
    "No hemos hecho ninguna distinción de la fecha a la que corresponden esos valores analizados. \n",
    "\n",
    "No obstante, debemos tomar en cuenta el \"detalle\" que nuestro campo (columna) de fecha llamado \"Date\" se encuentra almacenado como tipo de dato \"character\" y no como campo de fecha propiamente dicho.\n",
    "\n",
    "Resulta conveniente pasarlo de \"character\" a \"Date\" para poder maniobrar más fácilmente los componentes de la fecha."
   ]
  },
  {
   "cell_type": "code",
   "execution_count": 36,
   "id": "7849404f-1a63-4911-8bee-8a0b90a0b210",
   "metadata": {},
   "outputs": [
    {
     "data": {
      "text/html": [
       "'Dec 1946'"
      ],
      "text/latex": [
       "'Dec 1946'"
      ],
      "text/markdown": [
       "'Dec 1946'"
      ],
      "text/plain": [
       "[1] \"Dec 1946\""
      ]
     },
     "metadata": {},
     "output_type": "display_data"
    }
   ],
   "source": [
    "tasa_corto_plazo$Date[1]"
   ]
  },
  {
   "cell_type": "code",
   "execution_count": 37,
   "id": "04e9faa2-48ff-4db9-a41b-069f8422b8ea",
   "metadata": {},
   "outputs": [],
   "source": [
    "colnames(tasa_corto_plazo)[1] = \"Date_char\" # Cambiamos nombre de la primera columna"
   ]
  },
  {
   "cell_type": "code",
   "execution_count": 38,
   "id": "796c2fb1-5ec7-416e-82f7-b71b9bf1b24f",
   "metadata": {},
   "outputs": [
    {
     "data": {
      "text/html": [
       "<table class=\"dataframe\">\n",
       "<caption>A data.frame: 6 × 2</caption>\n",
       "<thead>\n",
       "\t<tr><th></th><th scope=col>Date_char</th><th scope=col>r1</th></tr>\n",
       "\t<tr><th></th><th scope=col>&lt;chr&gt;</th><th scope=col>&lt;dbl&gt;</th></tr>\n",
       "</thead>\n",
       "<tbody>\n",
       "\t<tr><th scope=row>1</th><td>Dec 1946</td><td>0.325</td></tr>\n",
       "\t<tr><th scope=row>2</th><td>Jan 1947</td><td>0.322</td></tr>\n",
       "\t<tr><th scope=row>3</th><td>Feb 1947</td><td>0.326</td></tr>\n",
       "\t<tr><th scope=row>4</th><td>Mar 1947</td><td>0.318</td></tr>\n",
       "\t<tr><th scope=row>5</th><td>Apr 1947</td><td>0.302</td></tr>\n",
       "\t<tr><th scope=row>6</th><td>May 1947</td><td>0.288</td></tr>\n",
       "</tbody>\n",
       "</table>\n"
      ],
      "text/latex": [
       "A data.frame: 6 × 2\n",
       "\\begin{tabular}{r|ll}\n",
       "  & Date\\_char & r1\\\\\n",
       "  & <chr> & <dbl>\\\\\n",
       "\\hline\n",
       "\t1 & Dec 1946 & 0.325\\\\\n",
       "\t2 & Jan 1947 & 0.322\\\\\n",
       "\t3 & Feb 1947 & 0.326\\\\\n",
       "\t4 & Mar 1947 & 0.318\\\\\n",
       "\t5 & Apr 1947 & 0.302\\\\\n",
       "\t6 & May 1947 & 0.288\\\\\n",
       "\\end{tabular}\n"
      ],
      "text/markdown": [
       "\n",
       "A data.frame: 6 × 2\n",
       "\n",
       "| <!--/--> | Date_char &lt;chr&gt; | r1 &lt;dbl&gt; |\n",
       "|---|---|---|\n",
       "| 1 | Dec 1946 | 0.325 |\n",
       "| 2 | Jan 1947 | 0.322 |\n",
       "| 3 | Feb 1947 | 0.326 |\n",
       "| 4 | Mar 1947 | 0.318 |\n",
       "| 5 | Apr 1947 | 0.302 |\n",
       "| 6 | May 1947 | 0.288 |\n",
       "\n"
      ],
      "text/plain": [
       "  Date_char r1   \n",
       "1 Dec 1946  0.325\n",
       "2 Jan 1947  0.322\n",
       "3 Feb 1947  0.326\n",
       "4 Mar 1947  0.318\n",
       "5 Apr 1947  0.302\n",
       "6 May 1947  0.288"
      ]
     },
     "metadata": {},
     "output_type": "display_data"
    }
   ],
   "source": [
    "head(tasa_corto_plazo)"
   ]
  },
  {
   "cell_type": "markdown",
   "id": "a1280827-2a3c-4624-b114-687b499ef5dd",
   "metadata": {},
   "source": [
    "Ahora vamos a crear una nueva columna con el nombre \"Date\" que corresponda con el tipo de dato de fecha.\n",
    "\n",
    "Para eso, primero completemos nuestro campo \"Date_char\" con alguna indicación del día, ya que la función que usaremos para convertirlo del tipo \"char\" al tipo \"Date\" requiere una identificación de la fecha que no sea ambigua. Si dejamos el campo sólo como mes y año, la función de conversión no va a saber qué día del mes colocar.\n",
    "\n",
    "Por convención propia, vamos a identificar el mes con el primer día del mes."
   ]
  },
  {
   "cell_type": "code",
   "execution_count": 39,
   "id": "6e0fd18d-408d-4b42-b977-b51ca982213a",
   "metadata": {},
   "outputs": [
    {
     "data": {
      "text/html": [
       "<table class=\"dataframe\">\n",
       "<caption>A data.frame: 6 × 2</caption>\n",
       "<thead>\n",
       "\t<tr><th></th><th scope=col>Date_char</th><th scope=col>r1</th></tr>\n",
       "\t<tr><th></th><th scope=col>&lt;chr&gt;</th><th scope=col>&lt;dbl&gt;</th></tr>\n",
       "</thead>\n",
       "<tbody>\n",
       "\t<tr><th scope=row>1</th><td>01 Dec 1946</td><td>0.325</td></tr>\n",
       "\t<tr><th scope=row>2</th><td>01 Jan 1947</td><td>0.322</td></tr>\n",
       "\t<tr><th scope=row>3</th><td>01 Feb 1947</td><td>0.326</td></tr>\n",
       "\t<tr><th scope=row>4</th><td>01 Mar 1947</td><td>0.318</td></tr>\n",
       "\t<tr><th scope=row>5</th><td>01 Apr 1947</td><td>0.302</td></tr>\n",
       "\t<tr><th scope=row>6</th><td>01 May 1947</td><td>0.288</td></tr>\n",
       "</tbody>\n",
       "</table>\n"
      ],
      "text/latex": [
       "A data.frame: 6 × 2\n",
       "\\begin{tabular}{r|ll}\n",
       "  & Date\\_char & r1\\\\\n",
       "  & <chr> & <dbl>\\\\\n",
       "\\hline\n",
       "\t1 & 01 Dec 1946 & 0.325\\\\\n",
       "\t2 & 01 Jan 1947 & 0.322\\\\\n",
       "\t3 & 01 Feb 1947 & 0.326\\\\\n",
       "\t4 & 01 Mar 1947 & 0.318\\\\\n",
       "\t5 & 01 Apr 1947 & 0.302\\\\\n",
       "\t6 & 01 May 1947 & 0.288\\\\\n",
       "\\end{tabular}\n"
      ],
      "text/markdown": [
       "\n",
       "A data.frame: 6 × 2\n",
       "\n",
       "| <!--/--> | Date_char &lt;chr&gt; | r1 &lt;dbl&gt; |\n",
       "|---|---|---|\n",
       "| 1 | 01 Dec 1946 | 0.325 |\n",
       "| 2 | 01 Jan 1947 | 0.322 |\n",
       "| 3 | 01 Feb 1947 | 0.326 |\n",
       "| 4 | 01 Mar 1947 | 0.318 |\n",
       "| 5 | 01 Apr 1947 | 0.302 |\n",
       "| 6 | 01 May 1947 | 0.288 |\n",
       "\n"
      ],
      "text/plain": [
       "  Date_char   r1   \n",
       "1 01 Dec 1946 0.325\n",
       "2 01 Jan 1947 0.322\n",
       "3 01 Feb 1947 0.326\n",
       "4 01 Mar 1947 0.318\n",
       "5 01 Apr 1947 0.302\n",
       "6 01 May 1947 0.288"
      ]
     },
     "metadata": {},
     "output_type": "display_data"
    }
   ],
   "source": [
    "# usamos la función \"paste\" para concatenar dos cadenas de caractéres\n",
    "# colocando como separador \"sep\" un caractér vacío.\n",
    "tasa_corto_plazo$Date_char <- paste(\"01\", tasa_corto_plazo$Date_char, sep = \" \")\n",
    "\n",
    "head(tasa_corto_plazo)"
   ]
  },
  {
   "cell_type": "markdown",
   "id": "93990fc5-e1f3-4f08-a2fa-0d787963626d",
   "metadata": {},
   "source": [
    "<img src = \"lista_simbolos_fecha.png\">"
   ]
  },
  {
   "cell_type": "code",
   "execution_count": 40,
   "id": "8b49c359-bd27-468c-863a-9b60e697171a",
   "metadata": {},
   "outputs": [],
   "source": [
    "tasa_corto_plazo$Fecha <- as.Date(tasa_corto_plazo$Date_char, '%d %b %Y')"
   ]
  },
  {
   "cell_type": "code",
   "execution_count": 41,
   "id": "c82fb79e-7c38-4794-845e-17b356f67771",
   "metadata": {},
   "outputs": [
    {
     "data": {
      "text/html": [
       "<table class=\"dataframe\">\n",
       "<caption>A data.frame: 6 × 3</caption>\n",
       "<thead>\n",
       "\t<tr><th></th><th scope=col>Date_char</th><th scope=col>r1</th><th scope=col>Fecha</th></tr>\n",
       "\t<tr><th></th><th scope=col>&lt;chr&gt;</th><th scope=col>&lt;dbl&gt;</th><th scope=col>&lt;date&gt;</th></tr>\n",
       "</thead>\n",
       "<tbody>\n",
       "\t<tr><th scope=row>1</th><td>01 Dec 1946</td><td>0.325</td><td>1946-12-01</td></tr>\n",
       "\t<tr><th scope=row>2</th><td>01 Jan 1947</td><td>0.322</td><td>1947-01-01</td></tr>\n",
       "\t<tr><th scope=row>3</th><td>01 Feb 1947</td><td>0.326</td><td>1947-02-01</td></tr>\n",
       "\t<tr><th scope=row>4</th><td>01 Mar 1947</td><td>0.318</td><td>1947-03-01</td></tr>\n",
       "\t<tr><th scope=row>5</th><td>01 Apr 1947</td><td>0.302</td><td>1947-04-01</td></tr>\n",
       "\t<tr><th scope=row>6</th><td>01 May 1947</td><td>0.288</td><td>1947-05-01</td></tr>\n",
       "</tbody>\n",
       "</table>\n"
      ],
      "text/latex": [
       "A data.frame: 6 × 3\n",
       "\\begin{tabular}{r|lll}\n",
       "  & Date\\_char & r1 & Fecha\\\\\n",
       "  & <chr> & <dbl> & <date>\\\\\n",
       "\\hline\n",
       "\t1 & 01 Dec 1946 & 0.325 & 1946-12-01\\\\\n",
       "\t2 & 01 Jan 1947 & 0.322 & 1947-01-01\\\\\n",
       "\t3 & 01 Feb 1947 & 0.326 & 1947-02-01\\\\\n",
       "\t4 & 01 Mar 1947 & 0.318 & 1947-03-01\\\\\n",
       "\t5 & 01 Apr 1947 & 0.302 & 1947-04-01\\\\\n",
       "\t6 & 01 May 1947 & 0.288 & 1947-05-01\\\\\n",
       "\\end{tabular}\n"
      ],
      "text/markdown": [
       "\n",
       "A data.frame: 6 × 3\n",
       "\n",
       "| <!--/--> | Date_char &lt;chr&gt; | r1 &lt;dbl&gt; | Fecha &lt;date&gt; |\n",
       "|---|---|---|---|\n",
       "| 1 | 01 Dec 1946 | 0.325 | 1946-12-01 |\n",
       "| 2 | 01 Jan 1947 | 0.322 | 1947-01-01 |\n",
       "| 3 | 01 Feb 1947 | 0.326 | 1947-02-01 |\n",
       "| 4 | 01 Mar 1947 | 0.318 | 1947-03-01 |\n",
       "| 5 | 01 Apr 1947 | 0.302 | 1947-04-01 |\n",
       "| 6 | 01 May 1947 | 0.288 | 1947-05-01 |\n",
       "\n"
      ],
      "text/plain": [
       "  Date_char   r1    Fecha     \n",
       "1 01 Dec 1946 0.325 1946-12-01\n",
       "2 01 Jan 1947 0.322 1947-01-01\n",
       "3 01 Feb 1947 0.326 1947-02-01\n",
       "4 01 Mar 1947 0.318 1947-03-01\n",
       "5 01 Apr 1947 0.302 1947-04-01\n",
       "6 01 May 1947 0.288 1947-05-01"
      ]
     },
     "metadata": {},
     "output_type": "display_data"
    }
   ],
   "source": [
    "head(tasa_corto_plazo)"
   ]
  },
  {
   "cell_type": "markdown",
   "id": "aa733c34-8ea1-4fee-a9cb-134267d2a7d7",
   "metadata": {},
   "source": [
    "Ahora nos interesa tener un campo que indique el número del mes y otro el número del año, de modo que podamos procesar la data usando esos valores (mes y año)."
   ]
  },
  {
   "cell_type": "code",
   "execution_count": 42,
   "id": "fa1f0942-f685-4657-bcf2-930846c2a24d",
   "metadata": {},
   "outputs": [],
   "source": [
    "tasa_corto_plazo$mes <- as.numeric(format(tasa_corto_plazo$Fecha,\"%m\"))"
   ]
  },
  {
   "cell_type": "code",
   "execution_count": 43,
   "id": "2916f54c-29f5-4625-b14f-6081bf4d3e63",
   "metadata": {},
   "outputs": [
    {
     "data": {
      "text/html": [
       "<table class=\"dataframe\">\n",
       "<caption>A data.frame: 6 × 4</caption>\n",
       "<thead>\n",
       "\t<tr><th></th><th scope=col>Date_char</th><th scope=col>r1</th><th scope=col>Fecha</th><th scope=col>mes</th></tr>\n",
       "\t<tr><th></th><th scope=col>&lt;chr&gt;</th><th scope=col>&lt;dbl&gt;</th><th scope=col>&lt;date&gt;</th><th scope=col>&lt;dbl&gt;</th></tr>\n",
       "</thead>\n",
       "<tbody>\n",
       "\t<tr><th scope=row>1</th><td>01 Dec 1946</td><td>0.325</td><td>1946-12-01</td><td>12</td></tr>\n",
       "\t<tr><th scope=row>2</th><td>01 Jan 1947</td><td>0.322</td><td>1947-01-01</td><td> 1</td></tr>\n",
       "\t<tr><th scope=row>3</th><td>01 Feb 1947</td><td>0.326</td><td>1947-02-01</td><td> 2</td></tr>\n",
       "\t<tr><th scope=row>4</th><td>01 Mar 1947</td><td>0.318</td><td>1947-03-01</td><td> 3</td></tr>\n",
       "\t<tr><th scope=row>5</th><td>01 Apr 1947</td><td>0.302</td><td>1947-04-01</td><td> 4</td></tr>\n",
       "\t<tr><th scope=row>6</th><td>01 May 1947</td><td>0.288</td><td>1947-05-01</td><td> 5</td></tr>\n",
       "</tbody>\n",
       "</table>\n"
      ],
      "text/latex": [
       "A data.frame: 6 × 4\n",
       "\\begin{tabular}{r|llll}\n",
       "  & Date\\_char & r1 & Fecha & mes\\\\\n",
       "  & <chr> & <dbl> & <date> & <dbl>\\\\\n",
       "\\hline\n",
       "\t1 & 01 Dec 1946 & 0.325 & 1946-12-01 & 12\\\\\n",
       "\t2 & 01 Jan 1947 & 0.322 & 1947-01-01 &  1\\\\\n",
       "\t3 & 01 Feb 1947 & 0.326 & 1947-02-01 &  2\\\\\n",
       "\t4 & 01 Mar 1947 & 0.318 & 1947-03-01 &  3\\\\\n",
       "\t5 & 01 Apr 1947 & 0.302 & 1947-04-01 &  4\\\\\n",
       "\t6 & 01 May 1947 & 0.288 & 1947-05-01 &  5\\\\\n",
       "\\end{tabular}\n"
      ],
      "text/markdown": [
       "\n",
       "A data.frame: 6 × 4\n",
       "\n",
       "| <!--/--> | Date_char &lt;chr&gt; | r1 &lt;dbl&gt; | Fecha &lt;date&gt; | mes &lt;dbl&gt; |\n",
       "|---|---|---|---|---|\n",
       "| 1 | 01 Dec 1946 | 0.325 | 1946-12-01 | 12 |\n",
       "| 2 | 01 Jan 1947 | 0.322 | 1947-01-01 |  1 |\n",
       "| 3 | 01 Feb 1947 | 0.326 | 1947-02-01 |  2 |\n",
       "| 4 | 01 Mar 1947 | 0.318 | 1947-03-01 |  3 |\n",
       "| 5 | 01 Apr 1947 | 0.302 | 1947-04-01 |  4 |\n",
       "| 6 | 01 May 1947 | 0.288 | 1947-05-01 |  5 |\n",
       "\n"
      ],
      "text/plain": [
       "  Date_char   r1    Fecha      mes\n",
       "1 01 Dec 1946 0.325 1946-12-01 12 \n",
       "2 01 Jan 1947 0.322 1947-01-01  1 \n",
       "3 01 Feb 1947 0.326 1947-02-01  2 \n",
       "4 01 Mar 1947 0.318 1947-03-01  3 \n",
       "5 01 Apr 1947 0.302 1947-04-01  4 \n",
       "6 01 May 1947 0.288 1947-05-01  5 "
      ]
     },
     "metadata": {},
     "output_type": "display_data"
    }
   ],
   "source": [
    "head(tasa_corto_plazo)"
   ]
  },
  {
   "cell_type": "code",
   "execution_count": 44,
   "id": "a069be7f-4483-41f9-9903-8637595a2fa3",
   "metadata": {},
   "outputs": [
    {
     "data": {
      "text/html": [
       "<table class=\"dataframe\">\n",
       "<caption>A data.frame: 6 × 5</caption>\n",
       "<thead>\n",
       "\t<tr><th></th><th scope=col>Date_char</th><th scope=col>r1</th><th scope=col>Fecha</th><th scope=col>mes</th><th scope=col>anho</th></tr>\n",
       "\t<tr><th></th><th scope=col>&lt;chr&gt;</th><th scope=col>&lt;dbl&gt;</th><th scope=col>&lt;date&gt;</th><th scope=col>&lt;dbl&gt;</th><th scope=col>&lt;dbl&gt;</th></tr>\n",
       "</thead>\n",
       "<tbody>\n",
       "\t<tr><th scope=row>1</th><td>01 Dec 1946</td><td>0.325</td><td>1946-12-01</td><td>12</td><td>1946</td></tr>\n",
       "\t<tr><th scope=row>2</th><td>01 Jan 1947</td><td>0.322</td><td>1947-01-01</td><td> 1</td><td>1947</td></tr>\n",
       "\t<tr><th scope=row>3</th><td>01 Feb 1947</td><td>0.326</td><td>1947-02-01</td><td> 2</td><td>1947</td></tr>\n",
       "\t<tr><th scope=row>4</th><td>01 Mar 1947</td><td>0.318</td><td>1947-03-01</td><td> 3</td><td>1947</td></tr>\n",
       "\t<tr><th scope=row>5</th><td>01 Apr 1947</td><td>0.302</td><td>1947-04-01</td><td> 4</td><td>1947</td></tr>\n",
       "\t<tr><th scope=row>6</th><td>01 May 1947</td><td>0.288</td><td>1947-05-01</td><td> 5</td><td>1947</td></tr>\n",
       "</tbody>\n",
       "</table>\n"
      ],
      "text/latex": [
       "A data.frame: 6 × 5\n",
       "\\begin{tabular}{r|lllll}\n",
       "  & Date\\_char & r1 & Fecha & mes & anho\\\\\n",
       "  & <chr> & <dbl> & <date> & <dbl> & <dbl>\\\\\n",
       "\\hline\n",
       "\t1 & 01 Dec 1946 & 0.325 & 1946-12-01 & 12 & 1946\\\\\n",
       "\t2 & 01 Jan 1947 & 0.322 & 1947-01-01 &  1 & 1947\\\\\n",
       "\t3 & 01 Feb 1947 & 0.326 & 1947-02-01 &  2 & 1947\\\\\n",
       "\t4 & 01 Mar 1947 & 0.318 & 1947-03-01 &  3 & 1947\\\\\n",
       "\t5 & 01 Apr 1947 & 0.302 & 1947-04-01 &  4 & 1947\\\\\n",
       "\t6 & 01 May 1947 & 0.288 & 1947-05-01 &  5 & 1947\\\\\n",
       "\\end{tabular}\n"
      ],
      "text/markdown": [
       "\n",
       "A data.frame: 6 × 5\n",
       "\n",
       "| <!--/--> | Date_char &lt;chr&gt; | r1 &lt;dbl&gt; | Fecha &lt;date&gt; | mes &lt;dbl&gt; | anho &lt;dbl&gt; |\n",
       "|---|---|---|---|---|---|\n",
       "| 1 | 01 Dec 1946 | 0.325 | 1946-12-01 | 12 | 1946 |\n",
       "| 2 | 01 Jan 1947 | 0.322 | 1947-01-01 |  1 | 1947 |\n",
       "| 3 | 01 Feb 1947 | 0.326 | 1947-02-01 |  2 | 1947 |\n",
       "| 4 | 01 Mar 1947 | 0.318 | 1947-03-01 |  3 | 1947 |\n",
       "| 5 | 01 Apr 1947 | 0.302 | 1947-04-01 |  4 | 1947 |\n",
       "| 6 | 01 May 1947 | 0.288 | 1947-05-01 |  5 | 1947 |\n",
       "\n"
      ],
      "text/plain": [
       "  Date_char   r1    Fecha      mes anho\n",
       "1 01 Dec 1946 0.325 1946-12-01 12  1946\n",
       "2 01 Jan 1947 0.322 1947-01-01  1  1947\n",
       "3 01 Feb 1947 0.326 1947-02-01  2  1947\n",
       "4 01 Mar 1947 0.318 1947-03-01  3  1947\n",
       "5 01 Apr 1947 0.302 1947-04-01  4  1947\n",
       "6 01 May 1947 0.288 1947-05-01  5  1947"
      ]
     },
     "metadata": {},
     "output_type": "display_data"
    }
   ],
   "source": [
    "tasa_corto_plazo$anho <- as.numeric(format(tasa_corto_plazo$Fecha,\"%Y\"))\n",
    "\n",
    "head(tasa_corto_plazo)"
   ]
  },
  {
   "cell_type": "markdown",
   "id": "b1848ada-2173-431f-9fd2-852486ab0748",
   "metadata": {},
   "source": [
    "Ahora podemos utilizar la columna \"Fecha\" cuyo tipo de dato es \"Date\". Varias funciones de procesamiento de datos de \"R\" se acomodan fácilmente a este tipo de dato \"Date\". Por ejemplo, la función \"plot\" para graficar los valores y colocar la fechas adecuadamente en el gráfico. "
   ]
  },
  {
   "cell_type": "code",
   "execution_count": 45,
   "id": "39d84892-b442-48e6-ae8d-1c84cbbfc807",
   "metadata": {},
   "outputs": [
    {
     "data": {
      "image/png": "[encoded data removed]",
      "text/plain": [
       "plot without title"
      ]
     },
     "metadata": {
      "image/png": {
       "height": 420,
       "width": 420
      }
     },
     "output_type": "display_data"
    }
   ],
   "source": [
    "plot(x=tasa_corto_plazo$Fecha, y=tasa_corto_plazo$r1)"
   ]
  },
  {
   "cell_type": "code",
   "execution_count": 46,
   "id": "2e88e0e2-7596-4361-a624-418e94f1eded",
   "metadata": {},
   "outputs": [],
   "source": [
    "tasa_cp_75_90 <- tasa_corto_plazo[tasa_corto_plazo$anho >= 1975, ]"
   ]
  },
  {
   "cell_type": "code",
   "execution_count": 47,
   "id": "63d9e888-a841-4ae6-959c-22a85fc94632",
   "metadata": {},
   "outputs": [
    {
     "data": {
      "text/html": [
       "<table class=\"dataframe\">\n",
       "<caption>A data.frame: 6 × 5</caption>\n",
       "<thead>\n",
       "\t<tr><th></th><th scope=col>Date_char</th><th scope=col>r1</th><th scope=col>Fecha</th><th scope=col>mes</th><th scope=col>anho</th></tr>\n",
       "\t<tr><th></th><th scope=col>&lt;chr&gt;</th><th scope=col>&lt;dbl&gt;</th><th scope=col>&lt;date&gt;</th><th scope=col>&lt;dbl&gt;</th><th scope=col>&lt;dbl&gt;</th></tr>\n",
       "</thead>\n",
       "<tbody>\n",
       "\t<tr><th scope=row>338</th><td>01 Jan 1975</td><td>5.533</td><td>1975-01-01</td><td>1</td><td>1975</td></tr>\n",
       "\t<tr><th scope=row>339</th><td>01 Feb 1975</td><td>4.977</td><td>1975-02-01</td><td>2</td><td>1975</td></tr>\n",
       "\t<tr><th scope=row>340</th><td>01 Mar 1975</td><td>5.266</td><td>1975-03-01</td><td>3</td><td>1975</td></tr>\n",
       "\t<tr><th scope=row>341</th><td>01 Apr 1975</td><td>5.149</td><td>1975-04-01</td><td>4</td><td>1975</td></tr>\n",
       "\t<tr><th scope=row>342</th><td>01 May 1975</td><td>4.940</td><td>1975-05-01</td><td>5</td><td>1975</td></tr>\n",
       "\t<tr><th scope=row>343</th><td>01 Jun 1975</td><td>5.667</td><td>1975-06-01</td><td>6</td><td>1975</td></tr>\n",
       "</tbody>\n",
       "</table>\n"
      ],
      "text/latex": [
       "A data.frame: 6 × 5\n",
       "\\begin{tabular}{r|lllll}\n",
       "  & Date\\_char & r1 & Fecha & mes & anho\\\\\n",
       "  & <chr> & <dbl> & <date> & <dbl> & <dbl>\\\\\n",
       "\\hline\n",
       "\t338 & 01 Jan 1975 & 5.533 & 1975-01-01 & 1 & 1975\\\\\n",
       "\t339 & 01 Feb 1975 & 4.977 & 1975-02-01 & 2 & 1975\\\\\n",
       "\t340 & 01 Mar 1975 & 5.266 & 1975-03-01 & 3 & 1975\\\\\n",
       "\t341 & 01 Apr 1975 & 5.149 & 1975-04-01 & 4 & 1975\\\\\n",
       "\t342 & 01 May 1975 & 4.940 & 1975-05-01 & 5 & 1975\\\\\n",
       "\t343 & 01 Jun 1975 & 5.667 & 1975-06-01 & 6 & 1975\\\\\n",
       "\\end{tabular}\n"
      ],
      "text/markdown": [
       "\n",
       "A data.frame: 6 × 5\n",
       "\n",
       "| <!--/--> | Date_char &lt;chr&gt; | r1 &lt;dbl&gt; | Fecha &lt;date&gt; | mes &lt;dbl&gt; | anho &lt;dbl&gt; |\n",
       "|---|---|---|---|---|---|\n",
       "| 338 | 01 Jan 1975 | 5.533 | 1975-01-01 | 1 | 1975 |\n",
       "| 339 | 01 Feb 1975 | 4.977 | 1975-02-01 | 2 | 1975 |\n",
       "| 340 | 01 Mar 1975 | 5.266 | 1975-03-01 | 3 | 1975 |\n",
       "| 341 | 01 Apr 1975 | 5.149 | 1975-04-01 | 4 | 1975 |\n",
       "| 342 | 01 May 1975 | 4.940 | 1975-05-01 | 5 | 1975 |\n",
       "| 343 | 01 Jun 1975 | 5.667 | 1975-06-01 | 6 | 1975 |\n",
       "\n"
      ],
      "text/plain": [
       "    Date_char   r1    Fecha      mes anho\n",
       "338 01 Jan 1975 5.533 1975-01-01 1   1975\n",
       "339 01 Feb 1975 4.977 1975-02-01 2   1975\n",
       "340 01 Mar 1975 5.266 1975-03-01 3   1975\n",
       "341 01 Apr 1975 5.149 1975-04-01 4   1975\n",
       "342 01 May 1975 4.940 1975-05-01 5   1975\n",
       "343 01 Jun 1975 5.667 1975-06-01 6   1975"
      ]
     },
     "metadata": {},
     "output_type": "display_data"
    }
   ],
   "source": [
    "head(tasa_cp_75_90)"
   ]
  },
  {
   "cell_type": "code",
   "execution_count": 48,
   "id": "b7e32a4b-1c13-43ad-ba09-1d2b8ced589e",
   "metadata": {},
   "outputs": [
    {
     "data": {
      "text/html": [
       "<table class=\"dataframe\">\n",
       "<caption>A data.frame: 6 × 5</caption>\n",
       "<thead>\n",
       "\t<tr><th></th><th scope=col>Date_char</th><th scope=col>r1</th><th scope=col>Fecha</th><th scope=col>mes</th><th scope=col>anho</th></tr>\n",
       "\t<tr><th></th><th scope=col>&lt;chr&gt;</th><th scope=col>&lt;dbl&gt;</th><th scope=col>&lt;date&gt;</th><th scope=col>&lt;dbl&gt;</th><th scope=col>&lt;dbl&gt;</th></tr>\n",
       "</thead>\n",
       "<tbody>\n",
       "\t<tr><th scope=row>1</th><td>01 Jan 1975</td><td>5.533</td><td>1975-01-01</td><td>1</td><td>1975</td></tr>\n",
       "\t<tr><th scope=row>2</th><td>01 Feb 1975</td><td>4.977</td><td>1975-02-01</td><td>2</td><td>1975</td></tr>\n",
       "\t<tr><th scope=row>3</th><td>01 Mar 1975</td><td>5.266</td><td>1975-03-01</td><td>3</td><td>1975</td></tr>\n",
       "\t<tr><th scope=row>4</th><td>01 Apr 1975</td><td>5.149</td><td>1975-04-01</td><td>4</td><td>1975</td></tr>\n",
       "\t<tr><th scope=row>5</th><td>01 May 1975</td><td>4.940</td><td>1975-05-01</td><td>5</td><td>1975</td></tr>\n",
       "\t<tr><th scope=row>6</th><td>01 Jun 1975</td><td>5.667</td><td>1975-06-01</td><td>6</td><td>1975</td></tr>\n",
       "</tbody>\n",
       "</table>\n"
      ],
      "text/latex": [
       "A data.frame: 6 × 5\n",
       "\\begin{tabular}{r|lllll}\n",
       "  & Date\\_char & r1 & Fecha & mes & anho\\\\\n",
       "  & <chr> & <dbl> & <date> & <dbl> & <dbl>\\\\\n",
       "\\hline\n",
       "\t1 & 01 Jan 1975 & 5.533 & 1975-01-01 & 1 & 1975\\\\\n",
       "\t2 & 01 Feb 1975 & 4.977 & 1975-02-01 & 2 & 1975\\\\\n",
       "\t3 & 01 Mar 1975 & 5.266 & 1975-03-01 & 3 & 1975\\\\\n",
       "\t4 & 01 Apr 1975 & 5.149 & 1975-04-01 & 4 & 1975\\\\\n",
       "\t5 & 01 May 1975 & 4.940 & 1975-05-01 & 5 & 1975\\\\\n",
       "\t6 & 01 Jun 1975 & 5.667 & 1975-06-01 & 6 & 1975\\\\\n",
       "\\end{tabular}\n"
      ],
      "text/markdown": [
       "\n",
       "A data.frame: 6 × 5\n",
       "\n",
       "| <!--/--> | Date_char &lt;chr&gt; | r1 &lt;dbl&gt; | Fecha &lt;date&gt; | mes &lt;dbl&gt; | anho &lt;dbl&gt; |\n",
       "|---|---|---|---|---|---|\n",
       "| 1 | 01 Jan 1975 | 5.533 | 1975-01-01 | 1 | 1975 |\n",
       "| 2 | 01 Feb 1975 | 4.977 | 1975-02-01 | 2 | 1975 |\n",
       "| 3 | 01 Mar 1975 | 5.266 | 1975-03-01 | 3 | 1975 |\n",
       "| 4 | 01 Apr 1975 | 5.149 | 1975-04-01 | 4 | 1975 |\n",
       "| 5 | 01 May 1975 | 4.940 | 1975-05-01 | 5 | 1975 |\n",
       "| 6 | 01 Jun 1975 | 5.667 | 1975-06-01 | 6 | 1975 |\n",
       "\n"
      ],
      "text/plain": [
       "  Date_char   r1    Fecha      mes anho\n",
       "1 01 Jan 1975 5.533 1975-01-01 1   1975\n",
       "2 01 Feb 1975 4.977 1975-02-01 2   1975\n",
       "3 01 Mar 1975 5.266 1975-03-01 3   1975\n",
       "4 01 Apr 1975 5.149 1975-04-01 4   1975\n",
       "5 01 May 1975 4.940 1975-05-01 5   1975\n",
       "6 01 Jun 1975 5.667 1975-06-01 6   1975"
      ]
     },
     "metadata": {},
     "output_type": "display_data"
    }
   ],
   "source": [
    "tasa_cp_75_90_filter <- filter(tasa_corto_plazo, anho >= 1975)\n",
    "head(tasa_cp_75_90_filter)"
   ]
  },
  {
   "cell_type": "code",
   "execution_count": 49,
   "id": "35ef245b-1e8d-4f96-a3ac-dceaf8ecb4b4",
   "metadata": {},
   "outputs": [
    {
     "data": {
      "text/html": [
       "<table class=\"dataframe\">\n",
       "<caption>A data.frame: 6 × 5</caption>\n",
       "<thead>\n",
       "\t<tr><th></th><th scope=col>Date_char</th><th scope=col>r1</th><th scope=col>Fecha</th><th scope=col>mes</th><th scope=col>anho</th></tr>\n",
       "\t<tr><th></th><th scope=col>&lt;chr&gt;</th><th scope=col>&lt;dbl&gt;</th><th scope=col>&lt;date&gt;</th><th scope=col>&lt;dbl&gt;</th><th scope=col>&lt;dbl&gt;</th></tr>\n",
       "</thead>\n",
       "<tbody>\n",
       "\t<tr><th scope=row>1</th><td>01 Jan 1975</td><td>5.533</td><td>1975-01-01</td><td>1</td><td>1975</td></tr>\n",
       "\t<tr><th scope=row>2</th><td>01 Feb 1975</td><td>4.977</td><td>1975-02-01</td><td>2</td><td>1975</td></tr>\n",
       "\t<tr><th scope=row>3</th><td>01 Mar 1975</td><td>5.266</td><td>1975-03-01</td><td>3</td><td>1975</td></tr>\n",
       "\t<tr><th scope=row>4</th><td>01 Apr 1975</td><td>5.149</td><td>1975-04-01</td><td>4</td><td>1975</td></tr>\n",
       "\t<tr><th scope=row>5</th><td>01 May 1975</td><td>4.940</td><td>1975-05-01</td><td>5</td><td>1975</td></tr>\n",
       "\t<tr><th scope=row>6</th><td>01 Jun 1975</td><td>5.667</td><td>1975-06-01</td><td>6</td><td>1975</td></tr>\n",
       "</tbody>\n",
       "</table>\n"
      ],
      "text/latex": [
       "A data.frame: 6 × 5\n",
       "\\begin{tabular}{r|lllll}\n",
       "  & Date\\_char & r1 & Fecha & mes & anho\\\\\n",
       "  & <chr> & <dbl> & <date> & <dbl> & <dbl>\\\\\n",
       "\\hline\n",
       "\t1 & 01 Jan 1975 & 5.533 & 1975-01-01 & 1 & 1975\\\\\n",
       "\t2 & 01 Feb 1975 & 4.977 & 1975-02-01 & 2 & 1975\\\\\n",
       "\t3 & 01 Mar 1975 & 5.266 & 1975-03-01 & 3 & 1975\\\\\n",
       "\t4 & 01 Apr 1975 & 5.149 & 1975-04-01 & 4 & 1975\\\\\n",
       "\t5 & 01 May 1975 & 4.940 & 1975-05-01 & 5 & 1975\\\\\n",
       "\t6 & 01 Jun 1975 & 5.667 & 1975-06-01 & 6 & 1975\\\\\n",
       "\\end{tabular}\n"
      ],
      "text/markdown": [
       "\n",
       "A data.frame: 6 × 5\n",
       "\n",
       "| <!--/--> | Date_char &lt;chr&gt; | r1 &lt;dbl&gt; | Fecha &lt;date&gt; | mes &lt;dbl&gt; | anho &lt;dbl&gt; |\n",
       "|---|---|---|---|---|---|\n",
       "| 1 | 01 Jan 1975 | 5.533 | 1975-01-01 | 1 | 1975 |\n",
       "| 2 | 01 Feb 1975 | 4.977 | 1975-02-01 | 2 | 1975 |\n",
       "| 3 | 01 Mar 1975 | 5.266 | 1975-03-01 | 3 | 1975 |\n",
       "| 4 | 01 Apr 1975 | 5.149 | 1975-04-01 | 4 | 1975 |\n",
       "| 5 | 01 May 1975 | 4.940 | 1975-05-01 | 5 | 1975 |\n",
       "| 6 | 01 Jun 1975 | 5.667 | 1975-06-01 | 6 | 1975 |\n",
       "\n"
      ],
      "text/plain": [
       "  Date_char   r1    Fecha      mes anho\n",
       "1 01 Jan 1975 5.533 1975-01-01 1   1975\n",
       "2 01 Feb 1975 4.977 1975-02-01 2   1975\n",
       "3 01 Mar 1975 5.266 1975-03-01 3   1975\n",
       "4 01 Apr 1975 5.149 1975-04-01 4   1975\n",
       "5 01 May 1975 4.940 1975-05-01 5   1975\n",
       "6 01 Jun 1975 5.667 1975-06-01 6   1975"
      ]
     },
     "metadata": {},
     "output_type": "display_data"
    }
   ],
   "source": [
    "tasa_cp_75_90_pipe <- tasa_corto_plazo %>% filter(anho >= 1975) # Hace lo mismo usando notación de \"Piping\"\n",
    "head(tasa_cp_75_90_pipe)"
   ]
  },
  {
   "cell_type": "code",
   "execution_count": 50,
   "id": "45694146-52df-479a-b621-61859c91176c",
   "metadata": {},
   "outputs": [
    {
     "data": {
      "text/html": [
       "<style>\n",
       ".list-inline {list-style: none; margin:0; padding: 0}\n",
       ".list-inline>li {display: inline-block}\n",
       ".list-inline>li:not(:last-child)::after {content: \"\\00b7\"; padding: 0 .5ex}\n",
       "</style>\n",
       "<ol class=list-inline><li>TRUE</li><li>TRUE</li><li>TRUE</li><li>TRUE</li><li>TRUE</li><li>TRUE</li><li>TRUE</li><li>TRUE</li><li>TRUE</li><li>TRUE</li><li>TRUE</li><li>TRUE</li><li>TRUE</li><li>TRUE</li><li>TRUE</li><li>TRUE</li><li>TRUE</li><li>TRUE</li><li>TRUE</li><li>TRUE</li><li>TRUE</li><li>TRUE</li><li>TRUE</li><li>TRUE</li><li>TRUE</li><li>TRUE</li><li>TRUE</li><li>TRUE</li><li>TRUE</li><li>TRUE</li><li>TRUE</li><li>TRUE</li><li>TRUE</li><li>TRUE</li><li>TRUE</li><li>TRUE</li><li>TRUE</li><li>TRUE</li><li>TRUE</li><li>TRUE</li><li>TRUE</li><li>TRUE</li><li>TRUE</li><li>TRUE</li><li>TRUE</li><li>TRUE</li><li>TRUE</li><li>TRUE</li><li>TRUE</li><li>TRUE</li><li>TRUE</li><li>TRUE</li><li>TRUE</li><li>TRUE</li><li>TRUE</li><li>TRUE</li><li>TRUE</li><li>TRUE</li><li>TRUE</li><li>TRUE</li><li>TRUE</li><li>TRUE</li><li>TRUE</li><li>TRUE</li><li>TRUE</li><li>TRUE</li><li>TRUE</li><li>TRUE</li><li>TRUE</li><li>TRUE</li><li>TRUE</li><li>TRUE</li><li>TRUE</li><li>TRUE</li><li>TRUE</li><li>TRUE</li><li>TRUE</li><li>TRUE</li><li>TRUE</li><li>TRUE</li><li>TRUE</li><li>TRUE</li><li>TRUE</li><li>TRUE</li><li>TRUE</li><li>TRUE</li><li>TRUE</li><li>TRUE</li><li>TRUE</li><li>TRUE</li><li>TRUE</li><li>TRUE</li><li>TRUE</li><li>TRUE</li><li>TRUE</li><li>TRUE</li><li>TRUE</li><li>TRUE</li><li>TRUE</li><li>TRUE</li><li>TRUE</li><li>TRUE</li><li>TRUE</li><li>TRUE</li><li>TRUE</li><li>TRUE</li><li>TRUE</li><li>TRUE</li><li>TRUE</li><li>TRUE</li><li>TRUE</li><li>TRUE</li><li>TRUE</li><li>TRUE</li><li>TRUE</li><li>TRUE</li><li>TRUE</li><li>TRUE</li><li>TRUE</li><li>TRUE</li><li>TRUE</li><li>TRUE</li><li>TRUE</li><li>TRUE</li><li>TRUE</li><li>TRUE</li><li>TRUE</li><li>TRUE</li><li>TRUE</li><li>TRUE</li><li>TRUE</li><li>TRUE</li><li>TRUE</li><li>TRUE</li><li>TRUE</li><li>TRUE</li><li>TRUE</li><li>TRUE</li><li>TRUE</li><li>TRUE</li><li>TRUE</li><li>TRUE</li><li>TRUE</li><li>TRUE</li><li>TRUE</li><li>TRUE</li><li>TRUE</li><li>TRUE</li><li>TRUE</li><li>TRUE</li><li>TRUE</li><li>TRUE</li><li>TRUE</li><li>TRUE</li><li>TRUE</li><li>TRUE</li><li>TRUE</li><li>TRUE</li><li>TRUE</li><li>TRUE</li><li>TRUE</li><li>TRUE</li><li>TRUE</li><li>TRUE</li><li>TRUE</li><li>TRUE</li><li>TRUE</li><li>TRUE</li><li>TRUE</li><li>TRUE</li><li>TRUE</li><li>TRUE</li><li>TRUE</li><li>TRUE</li><li>TRUE</li><li>TRUE</li><li>TRUE</li><li>TRUE</li><li>TRUE</li><li>TRUE</li><li>TRUE</li><li>TRUE</li><li>TRUE</li><li>TRUE</li><li>TRUE</li><li>TRUE</li><li>TRUE</li><li>TRUE</li><li>TRUE</li><li>TRUE</li><li>TRUE</li><li>TRUE</li><li>TRUE</li><li>TRUE</li></ol>\n"
      ],
      "text/latex": [
       "\\begin{enumerate*}\n",
       "\\item TRUE\n",
       "\\item TRUE\n",
       "\\item TRUE\n",
       "\\item TRUE\n",
       "\\item TRUE\n",
       "\\item TRUE\n",
       "\\item TRUE\n",
       "\\item TRUE\n",
       "\\item TRUE\n",
       "\\item TRUE\n",
       "\\item TRUE\n",
       "\\item TRUE\n",
       "\\item TRUE\n",
       "\\item TRUE\n",
       "\\item TRUE\n",
       "\\item TRUE\n",
       "\\item TRUE\n",
       "\\item TRUE\n",
       "\\item TRUE\n",
       "\\item TRUE\n",
       "\\item TRUE\n",
       "\\item TRUE\n",
       "\\item TRUE\n",
       "\\item TRUE\n",
       "\\item TRUE\n",
       "\\item TRUE\n",
       "\\item TRUE\n",
       "\\item TRUE\n",
       "\\item TRUE\n",
       "\\item TRUE\n",
       "\\item TRUE\n",
       "\\item TRUE\n",
       "\\item TRUE\n",
       "\\item TRUE\n",
       "\\item TRUE\n",
       "\\item TRUE\n",
       "\\item TRUE\n",
       "\\item TRUE\n",
       "\\item TRUE\n",
       "\\item TRUE\n",
       "\\item TRUE\n",
       "\\item TRUE\n",
       "\\item TRUE\n",
       "\\item TRUE\n",
       "\\item TRUE\n",
       "\\item TRUE\n",
       "\\item TRUE\n",
       "\\item TRUE\n",
       "\\item TRUE\n",
       "\\item TRUE\n",
       "\\item TRUE\n",
       "\\item TRUE\n",
       "\\item TRUE\n",
       "\\item TRUE\n",
       "\\item TRUE\n",
       "\\item TRUE\n",
       "\\item TRUE\n",
       "\\item TRUE\n",
       "\\item TRUE\n",
       "\\item TRUE\n",
       "\\item TRUE\n",
       "\\item TRUE\n",
       "\\item TRUE\n",
       "\\item TRUE\n",
       "\\item TRUE\n",
       "\\item TRUE\n",
       "\\item TRUE\n",
       "\\item TRUE\n",
       "\\item TRUE\n",
       "\\item TRUE\n",
       "\\item TRUE\n",
       "\\item TRUE\n",
       "\\item TRUE\n",
       "\\item TRUE\n",
       "\\item TRUE\n",
       "\\item TRUE\n",
       "\\item TRUE\n",
       "\\item TRUE\n",
       "\\item TRUE\n",
       "\\item TRUE\n",
       "\\item TRUE\n",
       "\\item TRUE\n",
       "\\item TRUE\n",
       "\\item TRUE\n",
       "\\item TRUE\n",
       "\\item TRUE\n",
       "\\item TRUE\n",
       "\\item TRUE\n",
       "\\item TRUE\n",
       "\\item TRUE\n",
       "\\item TRUE\n",
       "\\item TRUE\n",
       "\\item TRUE\n",
       "\\item TRUE\n",
       "\\item TRUE\n",
       "\\item TRUE\n",
       "\\item TRUE\n",
       "\\item TRUE\n",
       "\\item TRUE\n",
       "\\item TRUE\n",
       "\\item TRUE\n",
       "\\item TRUE\n",
       "\\item TRUE\n",
       "\\item TRUE\n",
       "\\item TRUE\n",
       "\\item TRUE\n",
       "\\item TRUE\n",
       "\\item TRUE\n",
       "\\item TRUE\n",
       "\\item TRUE\n",
       "\\item TRUE\n",
       "\\item TRUE\n",
       "\\item TRUE\n",
       "\\item TRUE\n",
       "\\item TRUE\n",
       "\\item TRUE\n",
       "\\item TRUE\n",
       "\\item TRUE\n",
       "\\item TRUE\n",
       "\\item TRUE\n",
       "\\item TRUE\n",
       "\\item TRUE\n",
       "\\item TRUE\n",
       "\\item TRUE\n",
       "\\item TRUE\n",
       "\\item TRUE\n",
       "\\item TRUE\n",
       "\\item TRUE\n",
       "\\item TRUE\n",
       "\\item TRUE\n",
       "\\item TRUE\n",
       "\\item TRUE\n",
       "\\item TRUE\n",
       "\\item TRUE\n",
       "\\item TRUE\n",
       "\\item TRUE\n",
       "\\item TRUE\n",
       "\\item TRUE\n",
       "\\item TRUE\n",
       "\\item TRUE\n",
       "\\item TRUE\n",
       "\\item TRUE\n",
       "\\item TRUE\n",
       "\\item TRUE\n",
       "\\item TRUE\n",
       "\\item TRUE\n",
       "\\item TRUE\n",
       "\\item TRUE\n",
       "\\item TRUE\n",
       "\\item TRUE\n",
       "\\item TRUE\n",
       "\\item TRUE\n",
       "\\item TRUE\n",
       "\\item TRUE\n",
       "\\item TRUE\n",
       "\\item TRUE\n",
       "\\item TRUE\n",
       "\\item TRUE\n",
       "\\item TRUE\n",
       "\\item TRUE\n",
       "\\item TRUE\n",
       "\\item TRUE\n",
       "\\item TRUE\n",
       "\\item TRUE\n",
       "\\item TRUE\n",
       "\\item TRUE\n",
       "\\item TRUE\n",
       "\\item TRUE\n",
       "\\item TRUE\n",
       "\\item TRUE\n",
       "\\item TRUE\n",
       "\\item TRUE\n",
       "\\item TRUE\n",
       "\\item TRUE\n",
       "\\item TRUE\n",
       "\\item TRUE\n",
       "\\item TRUE\n",
       "\\item TRUE\n",
       "\\item TRUE\n",
       "\\item TRUE\n",
       "\\item TRUE\n",
       "\\item TRUE\n",
       "\\item TRUE\n",
       "\\item TRUE\n",
       "\\item TRUE\n",
       "\\item TRUE\n",
       "\\item TRUE\n",
       "\\item TRUE\n",
       "\\item TRUE\n",
       "\\item TRUE\n",
       "\\item TRUE\n",
       "\\item TRUE\n",
       "\\item TRUE\n",
       "\\item TRUE\n",
       "\\end{enumerate*}\n"
      ],
      "text/markdown": [
       "1. TRUE\n",
       "2. TRUE\n",
       "3. TRUE\n",
       "4. TRUE\n",
       "5. TRUE\n",
       "6. TRUE\n",
       "7. TRUE\n",
       "8. TRUE\n",
       "9. TRUE\n",
       "10. TRUE\n",
       "11. TRUE\n",
       "12. TRUE\n",
       "13. TRUE\n",
       "14. TRUE\n",
       "15. TRUE\n",
       "16. TRUE\n",
       "17. TRUE\n",
       "18. TRUE\n",
       "19. TRUE\n",
       "20. TRUE\n",
       "21. TRUE\n",
       "22. TRUE\n",
       "23. TRUE\n",
       "24. TRUE\n",
       "25. TRUE\n",
       "26. TRUE\n",
       "27. TRUE\n",
       "28. TRUE\n",
       "29. TRUE\n",
       "30. TRUE\n",
       "31. TRUE\n",
       "32. TRUE\n",
       "33. TRUE\n",
       "34. TRUE\n",
       "35. TRUE\n",
       "36. TRUE\n",
       "37. TRUE\n",
       "38. TRUE\n",
       "39. TRUE\n",
       "40. TRUE\n",
       "41. TRUE\n",
       "42. TRUE\n",
       "43. TRUE\n",
       "44. TRUE\n",
       "45. TRUE\n",
       "46. TRUE\n",
       "47. TRUE\n",
       "48. TRUE\n",
       "49. TRUE\n",
       "50. TRUE\n",
       "51. TRUE\n",
       "52. TRUE\n",
       "53. TRUE\n",
       "54. TRUE\n",
       "55. TRUE\n",
       "56. TRUE\n",
       "57. TRUE\n",
       "58. TRUE\n",
       "59. TRUE\n",
       "60. TRUE\n",
       "61. TRUE\n",
       "62. TRUE\n",
       "63. TRUE\n",
       "64. TRUE\n",
       "65. TRUE\n",
       "66. TRUE\n",
       "67. TRUE\n",
       "68. TRUE\n",
       "69. TRUE\n",
       "70. TRUE\n",
       "71. TRUE\n",
       "72. TRUE\n",
       "73. TRUE\n",
       "74. TRUE\n",
       "75. TRUE\n",
       "76. TRUE\n",
       "77. TRUE\n",
       "78. TRUE\n",
       "79. TRUE\n",
       "80. TRUE\n",
       "81. TRUE\n",
       "82. TRUE\n",
       "83. TRUE\n",
       "84. TRUE\n",
       "85. TRUE\n",
       "86. TRUE\n",
       "87. TRUE\n",
       "88. TRUE\n",
       "89. TRUE\n",
       "90. TRUE\n",
       "91. TRUE\n",
       "92. TRUE\n",
       "93. TRUE\n",
       "94. TRUE\n",
       "95. TRUE\n",
       "96. TRUE\n",
       "97. TRUE\n",
       "98. TRUE\n",
       "99. TRUE\n",
       "100. TRUE\n",
       "101. TRUE\n",
       "102. TRUE\n",
       "103. TRUE\n",
       "104. TRUE\n",
       "105. TRUE\n",
       "106. TRUE\n",
       "107. TRUE\n",
       "108. TRUE\n",
       "109. TRUE\n",
       "110. TRUE\n",
       "111. TRUE\n",
       "112. TRUE\n",
       "113. TRUE\n",
       "114. TRUE\n",
       "115. TRUE\n",
       "116. TRUE\n",
       "117. TRUE\n",
       "118. TRUE\n",
       "119. TRUE\n",
       "120. TRUE\n",
       "121. TRUE\n",
       "122. TRUE\n",
       "123. TRUE\n",
       "124. TRUE\n",
       "125. TRUE\n",
       "126. TRUE\n",
       "127. TRUE\n",
       "128. TRUE\n",
       "129. TRUE\n",
       "130. TRUE\n",
       "131. TRUE\n",
       "132. TRUE\n",
       "133. TRUE\n",
       "134. TRUE\n",
       "135. TRUE\n",
       "136. TRUE\n",
       "137. TRUE\n",
       "138. TRUE\n",
       "139. TRUE\n",
       "140. TRUE\n",
       "141. TRUE\n",
       "142. TRUE\n",
       "143. TRUE\n",
       "144. TRUE\n",
       "145. TRUE\n",
       "146. TRUE\n",
       "147. TRUE\n",
       "148. TRUE\n",
       "149. TRUE\n",
       "150. TRUE\n",
       "151. TRUE\n",
       "152. TRUE\n",
       "153. TRUE\n",
       "154. TRUE\n",
       "155. TRUE\n",
       "156. TRUE\n",
       "157. TRUE\n",
       "158. TRUE\n",
       "159. TRUE\n",
       "160. TRUE\n",
       "161. TRUE\n",
       "162. TRUE\n",
       "163. TRUE\n",
       "164. TRUE\n",
       "165. TRUE\n",
       "166. TRUE\n",
       "167. TRUE\n",
       "168. TRUE\n",
       "169. TRUE\n",
       "170. TRUE\n",
       "171. TRUE\n",
       "172. TRUE\n",
       "173. TRUE\n",
       "174. TRUE\n",
       "175. TRUE\n",
       "176. TRUE\n",
       "177. TRUE\n",
       "178. TRUE\n",
       "179. TRUE\n",
       "180. TRUE\n",
       "181. TRUE\n",
       "182. TRUE\n",
       "183. TRUE\n",
       "184. TRUE\n",
       "185. TRUE\n",
       "186. TRUE\n",
       "187. TRUE\n",
       "188. TRUE\n",
       "189. TRUE\n",
       "190. TRUE\n",
       "191. TRUE\n",
       "192. TRUE\n",
       "193. TRUE\n",
       "194. TRUE\n",
       "\n",
       "\n"
      ],
      "text/plain": [
       "  [1] TRUE TRUE TRUE TRUE TRUE TRUE TRUE TRUE TRUE TRUE TRUE TRUE TRUE TRUE TRUE\n",
       " [16] TRUE TRUE TRUE TRUE TRUE TRUE TRUE TRUE TRUE TRUE TRUE TRUE TRUE TRUE TRUE\n",
       " [31] TRUE TRUE TRUE TRUE TRUE TRUE TRUE TRUE TRUE TRUE TRUE TRUE TRUE TRUE TRUE\n",
       " [46] TRUE TRUE TRUE TRUE TRUE TRUE TRUE TRUE TRUE TRUE TRUE TRUE TRUE TRUE TRUE\n",
       " [61] TRUE TRUE TRUE TRUE TRUE TRUE TRUE TRUE TRUE TRUE TRUE TRUE TRUE TRUE TRUE\n",
       " [76] TRUE TRUE TRUE TRUE TRUE TRUE TRUE TRUE TRUE TRUE TRUE TRUE TRUE TRUE TRUE\n",
       " [91] TRUE TRUE TRUE TRUE TRUE TRUE TRUE TRUE TRUE TRUE TRUE TRUE TRUE TRUE TRUE\n",
       "[106] TRUE TRUE TRUE TRUE TRUE TRUE TRUE TRUE TRUE TRUE TRUE TRUE TRUE TRUE TRUE\n",
       "[121] TRUE TRUE TRUE TRUE TRUE TRUE TRUE TRUE TRUE TRUE TRUE TRUE TRUE TRUE TRUE\n",
       "[136] TRUE TRUE TRUE TRUE TRUE TRUE TRUE TRUE TRUE TRUE TRUE TRUE TRUE TRUE TRUE\n",
       "[151] TRUE TRUE TRUE TRUE TRUE TRUE TRUE TRUE TRUE TRUE TRUE TRUE TRUE TRUE TRUE\n",
       "[166] TRUE TRUE TRUE TRUE TRUE TRUE TRUE TRUE TRUE TRUE TRUE TRUE TRUE TRUE TRUE\n",
       "[181] TRUE TRUE TRUE TRUE TRUE TRUE TRUE TRUE TRUE TRUE TRUE TRUE TRUE TRUE"
      ]
     },
     "metadata": {},
     "output_type": "display_data"
    }
   ],
   "source": [
    "check <- (tasa_cp_75_90$r1 == tasa_cp_75_90_pipe$r1)\n",
    "check"
   ]
  },
  {
   "cell_type": "code",
   "execution_count": 51,
   "id": "521dba26-64f4-497b-886c-1c013effd192",
   "metadata": {},
   "outputs": [
    {
     "data": {
      "text/html": [
       "194"
      ],
      "text/latex": [
       "194"
      ],
      "text/markdown": [
       "194"
      ],
      "text/plain": [
       "[1] 194"
      ]
     },
     "metadata": {},
     "output_type": "display_data"
    }
   ],
   "source": [
    "length(check)"
   ]
  },
  {
   "cell_type": "markdown",
   "id": "9f63c623-7f04-4157-bf44-f2623892a682",
   "metadata": {},
   "source": [
    "¿Qué es eso de notación \"piping\"?\n",
    "=="
   ]
  },
  {
   "cell_type": "markdown",
   "id": "3b6da180-0aa2-4127-993e-7a43a45ee335",
   "metadata": {},
   "source": [
    "<img src=\"image_piping.png\">"
   ]
  },
  {
   "cell_type": "markdown",
   "id": "b94ad989-d6ca-4eea-b779-cf99594165be",
   "metadata": {},
   "source": [
    "Usar notación \"pinping\" es una forma de escribir las instrucciones de modo que el código resultante sea visualmente más claro y fluido.\n",
    "\n",
    "Ya vimos un primer ejemplo de notación piping, en la penultima instrucción arriba, que usamos para filtrar los valores de la tasa de corto plazo para años mayores a 1975.\n",
    "\n",
    "Para reforzar mejor el uso de esta notación, veamos un ejemplo con el data frame llamado \"iris\" que viene junto con \"R\". Se trata de un data frame que describe varias medidas para tres espécies de plantas (Iris setosa, Iris versicolor, e Iris virginica). Estas medidas describen las diferencias morfologícas entre las tres espécies en términos del largo y ancho del sépalo (\"Sepal.Length\", \"Sepal.With\") así como el largo y ancho del pétalo (\"Petal.Length\", \"Petal.Width\").   "
   ]
  },
  {
   "cell_type": "code",
   "execution_count": 52,
   "id": "7ef0f08c-6fbf-431b-baaa-591c5b59c876",
   "metadata": {},
   "outputs": [
    {
     "data": {
      "text/html": [
       "<table class=\"dataframe\">\n",
       "<caption>A data.frame: 6 × 5</caption>\n",
       "<thead>\n",
       "\t<tr><th></th><th scope=col>Sepal.Length</th><th scope=col>Sepal.Width</th><th scope=col>Petal.Length</th><th scope=col>Petal.Width</th><th scope=col>Species</th></tr>\n",
       "\t<tr><th></th><th scope=col>&lt;dbl&gt;</th><th scope=col>&lt;dbl&gt;</th><th scope=col>&lt;dbl&gt;</th><th scope=col>&lt;dbl&gt;</th><th scope=col>&lt;fct&gt;</th></tr>\n",
       "</thead>\n",
       "<tbody>\n",
       "\t<tr><th scope=row>1</th><td>5.1</td><td>3.5</td><td>1.4</td><td>0.2</td><td>setosa</td></tr>\n",
       "\t<tr><th scope=row>2</th><td>4.9</td><td>3.0</td><td>1.4</td><td>0.2</td><td>setosa</td></tr>\n",
       "\t<tr><th scope=row>3</th><td>4.7</td><td>3.2</td><td>1.3</td><td>0.2</td><td>setosa</td></tr>\n",
       "\t<tr><th scope=row>4</th><td>4.6</td><td>3.1</td><td>1.5</td><td>0.2</td><td>setosa</td></tr>\n",
       "\t<tr><th scope=row>5</th><td>5.0</td><td>3.6</td><td>1.4</td><td>0.2</td><td>setosa</td></tr>\n",
       "\t<tr><th scope=row>6</th><td>5.4</td><td>3.9</td><td>1.7</td><td>0.4</td><td>setosa</td></tr>\n",
       "</tbody>\n",
       "</table>\n"
      ],
      "text/latex": [
       "A data.frame: 6 × 5\n",
       "\\begin{tabular}{r|lllll}\n",
       "  & Sepal.Length & Sepal.Width & Petal.Length & Petal.Width & Species\\\\\n",
       "  & <dbl> & <dbl> & <dbl> & <dbl> & <fct>\\\\\n",
       "\\hline\n",
       "\t1 & 5.1 & 3.5 & 1.4 & 0.2 & setosa\\\\\n",
       "\t2 & 4.9 & 3.0 & 1.4 & 0.2 & setosa\\\\\n",
       "\t3 & 4.7 & 3.2 & 1.3 & 0.2 & setosa\\\\\n",
       "\t4 & 4.6 & 3.1 & 1.5 & 0.2 & setosa\\\\\n",
       "\t5 & 5.0 & 3.6 & 1.4 & 0.2 & setosa\\\\\n",
       "\t6 & 5.4 & 3.9 & 1.7 & 0.4 & setosa\\\\\n",
       "\\end{tabular}\n"
      ],
      "text/markdown": [
       "\n",
       "A data.frame: 6 × 5\n",
       "\n",
       "| <!--/--> | Sepal.Length &lt;dbl&gt; | Sepal.Width &lt;dbl&gt; | Petal.Length &lt;dbl&gt; | Petal.Width &lt;dbl&gt; | Species &lt;fct&gt; |\n",
       "|---|---|---|---|---|---|\n",
       "| 1 | 5.1 | 3.5 | 1.4 | 0.2 | setosa |\n",
       "| 2 | 4.9 | 3.0 | 1.4 | 0.2 | setosa |\n",
       "| 3 | 4.7 | 3.2 | 1.3 | 0.2 | setosa |\n",
       "| 4 | 4.6 | 3.1 | 1.5 | 0.2 | setosa |\n",
       "| 5 | 5.0 | 3.6 | 1.4 | 0.2 | setosa |\n",
       "| 6 | 5.4 | 3.9 | 1.7 | 0.4 | setosa |\n",
       "\n"
      ],
      "text/plain": [
       "  Sepal.Length Sepal.Width Petal.Length Petal.Width Species\n",
       "1 5.1          3.5         1.4          0.2         setosa \n",
       "2 4.9          3.0         1.4          0.2         setosa \n",
       "3 4.7          3.2         1.3          0.2         setosa \n",
       "4 4.6          3.1         1.5          0.2         setosa \n",
       "5 5.0          3.6         1.4          0.2         setosa \n",
       "6 5.4          3.9         1.7          0.4         setosa "
      ]
     },
     "metadata": {},
     "output_type": "display_data"
    }
   ],
   "source": [
    "head(iris)"
   ]
  },
  {
   "cell_type": "markdown",
   "id": "3878375d-7a06-4572-88cb-bedfaea858dc",
   "metadata": {},
   "source": [
    "Digamos que nos gustaría comparar las especies de plantas en base a las característica que dispongo en esa tabla de datos. Sin embargo, supongamos también que quiero concentrar mi evaluación en aquellas especies que tienen un tamaño mínimo, digamos, aquellas especies con largo de sépalo mayor a 5 (Sepal.Length > 5) y largo de pétalo mayor a 3 (Petal.Length > 3).\n",
    "\n",
    "Parece una buena idea concentrar el largo y el ancho en un sólo indicador que sea el áre (largo*ancho) tanto del sépalo como del pétalo, y comparar el valor medio de esas áreas para cada especie.\n",
    "\n",
    "Veamos cómo procesariamos la tabla sin usar notación piping."
   ]
  },
  {
   "cell_type": "code",
   "execution_count": 53,
   "id": "d1a2ff58-a56b-4377-9db4-2acae3a38456",
   "metadata": {},
   "outputs": [
    {
     "data": {
      "text/html": [
       "<table class=\"dataframe\">\n",
       "<caption>A tibble: 2 × 3</caption>\n",
       "<thead>\n",
       "\t<tr><th scope=col>Species</th><th scope=col>avg.sepal.area</th><th scope=col>avg.petal.area</th></tr>\n",
       "\t<tr><th scope=col>&lt;fct&gt;</th><th scope=col>&lt;dbl&gt;</th><th scope=col>&lt;dbl&gt;</th></tr>\n",
       "</thead>\n",
       "<tbody>\n",
       "\t<tr><td>versicolor</td><td>16.96304</td><td> 5.926522</td></tr>\n",
       "\t<tr><td>virginica </td><td>19.83633</td><td>11.370612</td></tr>\n",
       "</tbody>\n",
       "</table>\n"
      ],
      "text/latex": [
       "A tibble: 2 × 3\n",
       "\\begin{tabular}{lll}\n",
       " Species & avg.sepal.area & avg.petal.area\\\\\n",
       " <fct> & <dbl> & <dbl>\\\\\n",
       "\\hline\n",
       "\t versicolor & 16.96304 &  5.926522\\\\\n",
       "\t virginica  & 19.83633 & 11.370612\\\\\n",
       "\\end{tabular}\n"
      ],
      "text/markdown": [
       "\n",
       "A tibble: 2 × 3\n",
       "\n",
       "| Species &lt;fct&gt; | avg.sepal.area &lt;dbl&gt; | avg.petal.area &lt;dbl&gt; |\n",
       "|---|---|---|\n",
       "| versicolor | 16.96304 |  5.926522 |\n",
       "| virginica  | 19.83633 | 11.370612 |\n",
       "\n"
      ],
      "text/plain": [
       "  Species    avg.sepal.area avg.petal.area\n",
       "1 versicolor 16.96304        5.926522     \n",
       "2 virginica  19.83633       11.370612     "
      ]
     },
     "metadata": {},
     "output_type": "display_data"
    }
   ],
   "source": [
    "filtered_iris <- filter(iris, Sepal.Length > 5 & Petal.Length > 3)\n",
    "mutated_iris <- mutate(filtered_iris, \n",
    "                       Sepal.Area = Sepal.Length * Sepal.Width,\n",
    "                       Petal.Area = Petal.Length * Petal.Width)\n",
    "grouped_iris <- group_by(mutated_iris, Species)\n",
    "summary_iris <- summarize(grouped_iris, \n",
    "                          avg.sepal.area = mean(Sepal.Area),\n",
    "                          avg.petal.area = mean(Petal.Area))\n",
    "\n",
    "# View result\n",
    "summary_iris"
   ]
  },
  {
   "cell_type": "markdown",
   "id": "c09d9bac-457f-407c-9fb2-00223badd8a3",
   "metadata": {},
   "source": [
    "Ahora veamos cómo quedaría el mismo código pero usando la notación piping:"
   ]
  },
  {
   "cell_type": "code",
   "execution_count": 54,
   "id": "d250ad29-d246-4c02-8c63-d699f8579a82",
   "metadata": {},
   "outputs": [
    {
     "data": {
      "text/html": [
       "<table class=\"dataframe\">\n",
       "<caption>A tibble: 2 × 3</caption>\n",
       "<thead>\n",
       "\t<tr><th scope=col>Species</th><th scope=col>avg.sepal.area</th><th scope=col>avg.petal.area</th></tr>\n",
       "\t<tr><th scope=col>&lt;fct&gt;</th><th scope=col>&lt;dbl&gt;</th><th scope=col>&lt;dbl&gt;</th></tr>\n",
       "</thead>\n",
       "<tbody>\n",
       "\t<tr><td>versicolor</td><td>16.96304</td><td> 5.926522</td></tr>\n",
       "\t<tr><td>virginica </td><td>19.83633</td><td>11.370612</td></tr>\n",
       "</tbody>\n",
       "</table>\n"
      ],
      "text/latex": [
       "A tibble: 2 × 3\n",
       "\\begin{tabular}{lll}\n",
       " Species & avg.sepal.area & avg.petal.area\\\\\n",
       " <fct> & <dbl> & <dbl>\\\\\n",
       "\\hline\n",
       "\t versicolor & 16.96304 &  5.926522\\\\\n",
       "\t virginica  & 19.83633 & 11.370612\\\\\n",
       "\\end{tabular}\n"
      ],
      "text/markdown": [
       "\n",
       "A tibble: 2 × 3\n",
       "\n",
       "| Species &lt;fct&gt; | avg.sepal.area &lt;dbl&gt; | avg.petal.area &lt;dbl&gt; |\n",
       "|---|---|---|\n",
       "| versicolor | 16.96304 |  5.926522 |\n",
       "| virginica  | 19.83633 | 11.370612 |\n",
       "\n"
      ],
      "text/plain": [
       "  Species    avg.sepal.area avg.petal.area\n",
       "1 versicolor 16.96304        5.926522     \n",
       "2 virginica  19.83633       11.370612     "
      ]
     },
     "metadata": {},
     "output_type": "display_data"
    }
   ],
   "source": [
    "iris %>% \n",
    "  filter(Sepal.Length > 5 & Petal.Length > 3) %>%\n",
    "  mutate(Sepal.Area = Sepal.Length * Sepal.Width,\n",
    "         Petal.Area = Petal.Length * Petal.Width) %>%\n",
    "  group_by(Species) %>%\n",
    "  summarize(avg.sepal.area = mean(Sepal.Area),\n",
    "            avg.petal.area = mean(Petal.Area))"
   ]
  },
  {
   "cell_type": "code",
   "execution_count": null,
   "id": "6b0f1ac3-5bce-46f5-9d6e-9768e0ba70e0",
   "metadata": {},
   "outputs": [],
   "source": []
  },
  {
   "cell_type": "markdown",
   "id": "b0cb060f-84cb-4fd7-94b2-c1572c54cd88",
   "metadata": {},
   "source": [
    "Volvamos ahora al ejemplo de nuestra tasa de interés de corto plazo y usaremos la misma notación piping para encontrar el valor medio anual de las tasas de interés de corto plazo. Esto implica procesar por cada grupo anual."
   ]
  },
  {
   "cell_type": "markdown",
   "id": "c52ea651-3b02-4e3b-9115-d7c25a7302b3",
   "metadata": {},
   "source": [
    "<img src=image_aggregate.png>"
   ]
  },
  {
   "cell_type": "code",
   "execution_count": 55,
   "id": "bca2511d-a396-4f82-921c-46de40595b48",
   "metadata": {},
   "outputs": [
    {
     "data": {
      "text/html": [
       "<table class=\"dataframe\">\n",
       "<caption>A tibble: 46 × 2</caption>\n",
       "<thead>\n",
       "\t<tr><th scope=col>anho</th><th scope=col>tasa_media</th></tr>\n",
       "\t<tr><th scope=col>&lt;dbl&gt;</th><th scope=col>&lt;dbl&gt;</th></tr>\n",
       "</thead>\n",
       "<tbody>\n",
       "\t<tr><td>1946</td><td> 0.3250000</td></tr>\n",
       "\t<tr><td>1947</td><td> 0.4985000</td></tr>\n",
       "\t<tr><td>1948</td><td> 1.0235833</td></tr>\n",
       "\t<tr><td>1949</td><td> 1.0494167</td></tr>\n",
       "\t<tr><td>1950</td><td> 1.1724167</td></tr>\n",
       "\t<tr><td>1951</td><td> 1.4066667</td></tr>\n",
       "\t<tr><td>1952</td><td> 1.6083333</td></tr>\n",
       "\t<tr><td>1953</td><td> 1.6696667</td></tr>\n",
       "\t<tr><td>1954</td><td> 0.8448333</td></tr>\n",
       "\t<tr><td>1955</td><td> 1.6525000</td></tr>\n",
       "\t<tr><td>1956</td><td> 2.4500833</td></tr>\n",
       "\t<tr><td>1957</td><td> 3.0235000</td></tr>\n",
       "\t<tr><td>1958</td><td> 1.3670000</td></tr>\n",
       "\t<tr><td>1959</td><td> 2.9971667</td></tr>\n",
       "\t<tr><td>1960</td><td> 2.4010833</td></tr>\n",
       "\t<tr><td>1961</td><td> 2.1220000</td></tr>\n",
       "\t<tr><td>1962</td><td> 2.6546667</td></tr>\n",
       "\t<tr><td>1963</td><td> 3.0545833</td></tr>\n",
       "\t<tr><td>1964</td><td> 3.4511667</td></tr>\n",
       "\t<tr><td>1965</td><td> 3.9105833</td></tr>\n",
       "\t<tr><td>1966</td><td> 4.6482500</td></tr>\n",
       "\t<tr><td>1967</td><td> 4.0340833</td></tr>\n",
       "\t<tr><td>1968</td><td> 5.2127500</td></tr>\n",
       "\t<tr><td>1969</td><td> 6.4422500</td></tr>\n",
       "\t<tr><td>1970</td><td> 6.0360000</td></tr>\n",
       "\t<tr><td>1971</td><td> 4.1142500</td></tr>\n",
       "\t<tr><td>1972</td><td> 3.9000000</td></tr>\n",
       "\t<tr><td>1973</td><td> 6.9240000</td></tr>\n",
       "\t<tr><td>1974</td><td> 7.6506667</td></tr>\n",
       "\t<tr><td>1975</td><td> 5.4471667</td></tr>\n",
       "\t<tr><td>1976</td><td> 4.8149167</td></tr>\n",
       "\t<tr><td>1977</td><td> 5.1560000</td></tr>\n",
       "\t<tr><td>1978</td><td> 7.2193333</td></tr>\n",
       "\t<tr><td>1979</td><td> 9.9795833</td></tr>\n",
       "\t<tr><td>1980</td><td>11.0794167</td></tr>\n",
       "\t<tr><td>1981</td><td>13.6585000</td></tr>\n",
       "\t<tr><td>1982</td><td>10.0850833</td></tr>\n",
       "\t<tr><td>1983</td><td> 8.5164167</td></tr>\n",
       "\t<tr><td>1984</td><td> 9.2293333</td></tr>\n",
       "\t<tr><td>1985</td><td> 7.1721667</td></tr>\n",
       "\t<tr><td>1986</td><td> 5.7770000</td></tr>\n",
       "\t<tr><td>1987</td><td> 5.1714167</td></tr>\n",
       "\t<tr><td>1988</td><td> 6.3570000</td></tr>\n",
       "\t<tr><td>1989</td><td> 8.0034167</td></tr>\n",
       "\t<tr><td>1990</td><td> 7.3090000</td></tr>\n",
       "\t<tr><td>1991</td><td> 5.8150000</td></tr>\n",
       "</tbody>\n",
       "</table>\n"
      ],
      "text/latex": [
       "A tibble: 46 × 2\n",
       "\\begin{tabular}{ll}\n",
       " anho & tasa\\_media\\\\\n",
       " <dbl> & <dbl>\\\\\n",
       "\\hline\n",
       "\t 1946 &  0.3250000\\\\\n",
       "\t 1947 &  0.4985000\\\\\n",
       "\t 1948 &  1.0235833\\\\\n",
       "\t 1949 &  1.0494167\\\\\n",
       "\t 1950 &  1.1724167\\\\\n",
       "\t 1951 &  1.4066667\\\\\n",
       "\t 1952 &  1.6083333\\\\\n",
       "\t 1953 &  1.6696667\\\\\n",
       "\t 1954 &  0.8448333\\\\\n",
       "\t 1955 &  1.6525000\\\\\n",
       "\t 1956 &  2.4500833\\\\\n",
       "\t 1957 &  3.0235000\\\\\n",
       "\t 1958 &  1.3670000\\\\\n",
       "\t 1959 &  2.9971667\\\\\n",
       "\t 1960 &  2.4010833\\\\\n",
       "\t 1961 &  2.1220000\\\\\n",
       "\t 1962 &  2.6546667\\\\\n",
       "\t 1963 &  3.0545833\\\\\n",
       "\t 1964 &  3.4511667\\\\\n",
       "\t 1965 &  3.9105833\\\\\n",
       "\t 1966 &  4.6482500\\\\\n",
       "\t 1967 &  4.0340833\\\\\n",
       "\t 1968 &  5.2127500\\\\\n",
       "\t 1969 &  6.4422500\\\\\n",
       "\t 1970 &  6.0360000\\\\\n",
       "\t 1971 &  4.1142500\\\\\n",
       "\t 1972 &  3.9000000\\\\\n",
       "\t 1973 &  6.9240000\\\\\n",
       "\t 1974 &  7.6506667\\\\\n",
       "\t 1975 &  5.4471667\\\\\n",
       "\t 1976 &  4.8149167\\\\\n",
       "\t 1977 &  5.1560000\\\\\n",
       "\t 1978 &  7.2193333\\\\\n",
       "\t 1979 &  9.9795833\\\\\n",
       "\t 1980 & 11.0794167\\\\\n",
       "\t 1981 & 13.6585000\\\\\n",
       "\t 1982 & 10.0850833\\\\\n",
       "\t 1983 &  8.5164167\\\\\n",
       "\t 1984 &  9.2293333\\\\\n",
       "\t 1985 &  7.1721667\\\\\n",
       "\t 1986 &  5.7770000\\\\\n",
       "\t 1987 &  5.1714167\\\\\n",
       "\t 1988 &  6.3570000\\\\\n",
       "\t 1989 &  8.0034167\\\\\n",
       "\t 1990 &  7.3090000\\\\\n",
       "\t 1991 &  5.8150000\\\\\n",
       "\\end{tabular}\n"
      ],
      "text/markdown": [
       "\n",
       "A tibble: 46 × 2\n",
       "\n",
       "| anho &lt;dbl&gt; | tasa_media &lt;dbl&gt; |\n",
       "|---|---|\n",
       "| 1946 |  0.3250000 |\n",
       "| 1947 |  0.4985000 |\n",
       "| 1948 |  1.0235833 |\n",
       "| 1949 |  1.0494167 |\n",
       "| 1950 |  1.1724167 |\n",
       "| 1951 |  1.4066667 |\n",
       "| 1952 |  1.6083333 |\n",
       "| 1953 |  1.6696667 |\n",
       "| 1954 |  0.8448333 |\n",
       "| 1955 |  1.6525000 |\n",
       "| 1956 |  2.4500833 |\n",
       "| 1957 |  3.0235000 |\n",
       "| 1958 |  1.3670000 |\n",
       "| 1959 |  2.9971667 |\n",
       "| 1960 |  2.4010833 |\n",
       "| 1961 |  2.1220000 |\n",
       "| 1962 |  2.6546667 |\n",
       "| 1963 |  3.0545833 |\n",
       "| 1964 |  3.4511667 |\n",
       "| 1965 |  3.9105833 |\n",
       "| 1966 |  4.6482500 |\n",
       "| 1967 |  4.0340833 |\n",
       "| 1968 |  5.2127500 |\n",
       "| 1969 |  6.4422500 |\n",
       "| 1970 |  6.0360000 |\n",
       "| 1971 |  4.1142500 |\n",
       "| 1972 |  3.9000000 |\n",
       "| 1973 |  6.9240000 |\n",
       "| 1974 |  7.6506667 |\n",
       "| 1975 |  5.4471667 |\n",
       "| 1976 |  4.8149167 |\n",
       "| 1977 |  5.1560000 |\n",
       "| 1978 |  7.2193333 |\n",
       "| 1979 |  9.9795833 |\n",
       "| 1980 | 11.0794167 |\n",
       "| 1981 | 13.6585000 |\n",
       "| 1982 | 10.0850833 |\n",
       "| 1983 |  8.5164167 |\n",
       "| 1984 |  9.2293333 |\n",
       "| 1985 |  7.1721667 |\n",
       "| 1986 |  5.7770000 |\n",
       "| 1987 |  5.1714167 |\n",
       "| 1988 |  6.3570000 |\n",
       "| 1989 |  8.0034167 |\n",
       "| 1990 |  7.3090000 |\n",
       "| 1991 |  5.8150000 |\n",
       "\n"
      ],
      "text/plain": [
       "   anho tasa_media\n",
       "1  1946  0.3250000\n",
       "2  1947  0.4985000\n",
       "3  1948  1.0235833\n",
       "4  1949  1.0494167\n",
       "5  1950  1.1724167\n",
       "6  1951  1.4066667\n",
       "7  1952  1.6083333\n",
       "8  1953  1.6696667\n",
       "9  1954  0.8448333\n",
       "10 1955  1.6525000\n",
       "11 1956  2.4500833\n",
       "12 1957  3.0235000\n",
       "13 1958  1.3670000\n",
       "14 1959  2.9971667\n",
       "15 1960  2.4010833\n",
       "16 1961  2.1220000\n",
       "17 1962  2.6546667\n",
       "18 1963  3.0545833\n",
       "19 1964  3.4511667\n",
       "20 1965  3.9105833\n",
       "21 1966  4.6482500\n",
       "22 1967  4.0340833\n",
       "23 1968  5.2127500\n",
       "24 1969  6.4422500\n",
       "25 1970  6.0360000\n",
       "26 1971  4.1142500\n",
       "27 1972  3.9000000\n",
       "28 1973  6.9240000\n",
       "29 1974  7.6506667\n",
       "30 1975  5.4471667\n",
       "31 1976  4.8149167\n",
       "32 1977  5.1560000\n",
       "33 1978  7.2193333\n",
       "34 1979  9.9795833\n",
       "35 1980 11.0794167\n",
       "36 1981 13.6585000\n",
       "37 1982 10.0850833\n",
       "38 1983  8.5164167\n",
       "39 1984  9.2293333\n",
       "40 1985  7.1721667\n",
       "41 1986  5.7770000\n",
       "42 1987  5.1714167\n",
       "43 1988  6.3570000\n",
       "44 1989  8.0034167\n",
       "45 1990  7.3090000\n",
       "46 1991  5.8150000"
      ]
     },
     "metadata": {},
     "output_type": "display_data"
    }
   ],
   "source": [
    "media_anual <- tasa_corto_plazo %>%\n",
    "    group_by(anho) %>%\n",
    "    summarize(tasa_media = mean(r1))\n",
    "\n",
    "media_anual"
   ]
  },
  {
   "cell_type": "code",
   "execution_count": 56,
   "id": "89b59a28-9964-423c-a579-de082d2895d4",
   "metadata": {},
   "outputs": [
    {
     "data": {
      "text/html": [
       "<table class=\"dataframe\">\n",
       "<caption>A tibble: 46 × 4</caption>\n",
       "<thead>\n",
       "\t<tr><th scope=col>anho</th><th scope=col>tasa_media</th><th scope=col>tasa_maxima</th><th scope=col>tasa_minima</th></tr>\n",
       "\t<tr><th scope=col>&lt;dbl&gt;</th><th scope=col>&lt;dbl&gt;</th><th scope=col>&lt;dbl&gt;</th><th scope=col>&lt;dbl&gt;</th></tr>\n",
       "</thead>\n",
       "<tbody>\n",
       "\t<tr><td>1946</td><td> 0.3250000</td><td> 0.325</td><td>0.325</td></tr>\n",
       "\t<tr><td>1947</td><td> 0.4985000</td><td> 0.904</td><td>0.288</td></tr>\n",
       "\t<tr><td>1948</td><td> 1.0235833</td><td> 1.110</td><td>0.959</td></tr>\n",
       "\t<tr><td>1949</td><td> 1.0494167</td><td> 1.139</td><td>0.960</td></tr>\n",
       "\t<tr><td>1950</td><td> 1.1724167</td><td> 1.307</td><td>1.072</td></tr>\n",
       "\t<tr><td>1951</td><td> 1.4066667</td><td> 1.696</td><td>1.209</td></tr>\n",
       "\t<tr><td>1952</td><td> 1.6083333</td><td> 1.941</td><td>1.332</td></tr>\n",
       "\t<tr><td>1953</td><td> 1.6696667</td><td> 2.062</td><td>0.975</td></tr>\n",
       "\t<tr><td>1954</td><td> 0.8448333</td><td> 1.107</td><td>0.603</td></tr>\n",
       "\t<tr><td>1955</td><td> 1.6525000</td><td> 2.424</td><td>1.097</td></tr>\n",
       "\t<tr><td>1956</td><td> 2.4500833</td><td> 3.077</td><td>1.969</td></tr>\n",
       "\t<tr><td>1957</td><td> 3.0235000</td><td> 3.361</td><td>2.635</td></tr>\n",
       "\t<tr><td>1958</td><td> 1.3670000</td><td> 2.419</td><td>0.249</td></tr>\n",
       "\t<tr><td>1959</td><td> 2.9971667</td><td> 4.079</td><td>2.379</td></tr>\n",
       "\t<tr><td>1960</td><td> 2.4010833</td><td> 3.807</td><td>1.606</td></tr>\n",
       "\t<tr><td>1961</td><td> 2.1220000</td><td> 2.483</td><td>1.744</td></tr>\n",
       "\t<tr><td>1962</td><td> 2.6546667</td><td> 2.941</td><td>2.455</td></tr>\n",
       "\t<tr><td>1963</td><td> 3.0545833</td><td> 3.511</td><td>2.204</td></tr>\n",
       "\t<tr><td>1964</td><td> 3.4511667</td><td> 3.631</td><td>3.289</td></tr>\n",
       "\t<tr><td>1965</td><td> 3.9105833</td><td> 4.440</td><td>3.787</td></tr>\n",
       "\t<tr><td>1966</td><td> 4.6482500</td><td> 5.198</td><td>4.403</td></tr>\n",
       "\t<tr><td>1967</td><td> 4.0340833</td><td> 4.537</td><td>3.345</td></tr>\n",
       "\t<tr><td>1968</td><td> 5.2127500</td><td> 6.138</td><td>4.739</td></tr>\n",
       "\t<tr><td>1969</td><td> 6.4422500</td><td> 7.280</td><td>5.638</td></tr>\n",
       "\t<tr><td>1970</td><td> 6.0360000</td><td> 7.622</td><td>4.572</td></tr>\n",
       "\t<tr><td>1971</td><td> 4.1142500</td><td> 5.206</td><td>3.250</td></tr>\n",
       "\t<tr><td>1972</td><td> 3.9000000</td><td> 4.927</td><td>3.024</td></tr>\n",
       "\t<tr><td>1973</td><td> 6.9240000</td><td> 8.636</td><td>5.437</td></tr>\n",
       "\t<tr><td>1974</td><td> 7.6506667</td><td> 9.205</td><td>6.056</td></tr>\n",
       "\t<tr><td>1975</td><td> 5.4471667</td><td> 6.310</td><td>4.940</td></tr>\n",
       "\t<tr><td>1976</td><td> 4.8149167</td><td> 5.296</td><td>4.263</td></tr>\n",
       "\t<tr><td>1977</td><td> 5.1560000</td><td> 6.111</td><td>4.442</td></tr>\n",
       "\t<tr><td>1978</td><td> 7.2193333</td><td> 8.989</td><td>6.026</td></tr>\n",
       "\t<tr><td>1979</td><td> 9.9795833</td><td>11.728</td><td>8.977</td></tr>\n",
       "\t<tr><td>1980</td><td>11.0794167</td><td>15.071</td><td>6.665</td></tr>\n",
       "\t<tr><td>1981</td><td>13.6585000</td><td>16.210</td><td>9.710</td></tr>\n",
       "\t<tr><td>1982</td><td>10.0850833</td><td>13.963</td><td>6.937</td></tr>\n",
       "\t<tr><td>1983</td><td> 8.5164167</td><td> 9.008</td><td>7.909</td></tr>\n",
       "\t<tr><td>1984</td><td> 9.2293333</td><td>10.743</td><td>7.229</td></tr>\n",
       "\t<tr><td>1985</td><td> 7.1721667</td><td> 8.037</td><td>6.237</td></tr>\n",
       "\t<tr><td>1986</td><td> 5.7770000</td><td> 6.887</td><td>4.859</td></tr>\n",
       "\t<tr><td>1987</td><td> 5.1714167</td><td> 6.484</td><td>3.800</td></tr>\n",
       "\t<tr><td>1988</td><td> 6.3570000</td><td> 7.544</td><td>4.930</td></tr>\n",
       "\t<tr><td>1989</td><td> 8.0034167</td><td> 9.043</td><td>6.651</td></tr>\n",
       "\t<tr><td>1990</td><td> 7.3090000</td><td> 8.083</td><td>5.867</td></tr>\n",
       "\t<tr><td>1991</td><td> 5.8150000</td><td> 5.953</td><td>5.677</td></tr>\n",
       "</tbody>\n",
       "</table>\n"
      ],
      "text/latex": [
       "A tibble: 46 × 4\n",
       "\\begin{tabular}{llll}\n",
       " anho & tasa\\_media & tasa\\_maxima & tasa\\_minima\\\\\n",
       " <dbl> & <dbl> & <dbl> & <dbl>\\\\\n",
       "\\hline\n",
       "\t 1946 &  0.3250000 &  0.325 & 0.325\\\\\n",
       "\t 1947 &  0.4985000 &  0.904 & 0.288\\\\\n",
       "\t 1948 &  1.0235833 &  1.110 & 0.959\\\\\n",
       "\t 1949 &  1.0494167 &  1.139 & 0.960\\\\\n",
       "\t 1950 &  1.1724167 &  1.307 & 1.072\\\\\n",
       "\t 1951 &  1.4066667 &  1.696 & 1.209\\\\\n",
       "\t 1952 &  1.6083333 &  1.941 & 1.332\\\\\n",
       "\t 1953 &  1.6696667 &  2.062 & 0.975\\\\\n",
       "\t 1954 &  0.8448333 &  1.107 & 0.603\\\\\n",
       "\t 1955 &  1.6525000 &  2.424 & 1.097\\\\\n",
       "\t 1956 &  2.4500833 &  3.077 & 1.969\\\\\n",
       "\t 1957 &  3.0235000 &  3.361 & 2.635\\\\\n",
       "\t 1958 &  1.3670000 &  2.419 & 0.249\\\\\n",
       "\t 1959 &  2.9971667 &  4.079 & 2.379\\\\\n",
       "\t 1960 &  2.4010833 &  3.807 & 1.606\\\\\n",
       "\t 1961 &  2.1220000 &  2.483 & 1.744\\\\\n",
       "\t 1962 &  2.6546667 &  2.941 & 2.455\\\\\n",
       "\t 1963 &  3.0545833 &  3.511 & 2.204\\\\\n",
       "\t 1964 &  3.4511667 &  3.631 & 3.289\\\\\n",
       "\t 1965 &  3.9105833 &  4.440 & 3.787\\\\\n",
       "\t 1966 &  4.6482500 &  5.198 & 4.403\\\\\n",
       "\t 1967 &  4.0340833 &  4.537 & 3.345\\\\\n",
       "\t 1968 &  5.2127500 &  6.138 & 4.739\\\\\n",
       "\t 1969 &  6.4422500 &  7.280 & 5.638\\\\\n",
       "\t 1970 &  6.0360000 &  7.622 & 4.572\\\\\n",
       "\t 1971 &  4.1142500 &  5.206 & 3.250\\\\\n",
       "\t 1972 &  3.9000000 &  4.927 & 3.024\\\\\n",
       "\t 1973 &  6.9240000 &  8.636 & 5.437\\\\\n",
       "\t 1974 &  7.6506667 &  9.205 & 6.056\\\\\n",
       "\t 1975 &  5.4471667 &  6.310 & 4.940\\\\\n",
       "\t 1976 &  4.8149167 &  5.296 & 4.263\\\\\n",
       "\t 1977 &  5.1560000 &  6.111 & 4.442\\\\\n",
       "\t 1978 &  7.2193333 &  8.989 & 6.026\\\\\n",
       "\t 1979 &  9.9795833 & 11.728 & 8.977\\\\\n",
       "\t 1980 & 11.0794167 & 15.071 & 6.665\\\\\n",
       "\t 1981 & 13.6585000 & 16.210 & 9.710\\\\\n",
       "\t 1982 & 10.0850833 & 13.963 & 6.937\\\\\n",
       "\t 1983 &  8.5164167 &  9.008 & 7.909\\\\\n",
       "\t 1984 &  9.2293333 & 10.743 & 7.229\\\\\n",
       "\t 1985 &  7.1721667 &  8.037 & 6.237\\\\\n",
       "\t 1986 &  5.7770000 &  6.887 & 4.859\\\\\n",
       "\t 1987 &  5.1714167 &  6.484 & 3.800\\\\\n",
       "\t 1988 &  6.3570000 &  7.544 & 4.930\\\\\n",
       "\t 1989 &  8.0034167 &  9.043 & 6.651\\\\\n",
       "\t 1990 &  7.3090000 &  8.083 & 5.867\\\\\n",
       "\t 1991 &  5.8150000 &  5.953 & 5.677\\\\\n",
       "\\end{tabular}\n"
      ],
      "text/markdown": [
       "\n",
       "A tibble: 46 × 4\n",
       "\n",
       "| anho &lt;dbl&gt; | tasa_media &lt;dbl&gt; | tasa_maxima &lt;dbl&gt; | tasa_minima &lt;dbl&gt; |\n",
       "|---|---|---|---|\n",
       "| 1946 |  0.3250000 |  0.325 | 0.325 |\n",
       "| 1947 |  0.4985000 |  0.904 | 0.288 |\n",
       "| 1948 |  1.0235833 |  1.110 | 0.959 |\n",
       "| 1949 |  1.0494167 |  1.139 | 0.960 |\n",
       "| 1950 |  1.1724167 |  1.307 | 1.072 |\n",
       "| 1951 |  1.4066667 |  1.696 | 1.209 |\n",
       "| 1952 |  1.6083333 |  1.941 | 1.332 |\n",
       "| 1953 |  1.6696667 |  2.062 | 0.975 |\n",
       "| 1954 |  0.8448333 |  1.107 | 0.603 |\n",
       "| 1955 |  1.6525000 |  2.424 | 1.097 |\n",
       "| 1956 |  2.4500833 |  3.077 | 1.969 |\n",
       "| 1957 |  3.0235000 |  3.361 | 2.635 |\n",
       "| 1958 |  1.3670000 |  2.419 | 0.249 |\n",
       "| 1959 |  2.9971667 |  4.079 | 2.379 |\n",
       "| 1960 |  2.4010833 |  3.807 | 1.606 |\n",
       "| 1961 |  2.1220000 |  2.483 | 1.744 |\n",
       "| 1962 |  2.6546667 |  2.941 | 2.455 |\n",
       "| 1963 |  3.0545833 |  3.511 | 2.204 |\n",
       "| 1964 |  3.4511667 |  3.631 | 3.289 |\n",
       "| 1965 |  3.9105833 |  4.440 | 3.787 |\n",
       "| 1966 |  4.6482500 |  5.198 | 4.403 |\n",
       "| 1967 |  4.0340833 |  4.537 | 3.345 |\n",
       "| 1968 |  5.2127500 |  6.138 | 4.739 |\n",
       "| 1969 |  6.4422500 |  7.280 | 5.638 |\n",
       "| 1970 |  6.0360000 |  7.622 | 4.572 |\n",
       "| 1971 |  4.1142500 |  5.206 | 3.250 |\n",
       "| 1972 |  3.9000000 |  4.927 | 3.024 |\n",
       "| 1973 |  6.9240000 |  8.636 | 5.437 |\n",
       "| 1974 |  7.6506667 |  9.205 | 6.056 |\n",
       "| 1975 |  5.4471667 |  6.310 | 4.940 |\n",
       "| 1976 |  4.8149167 |  5.296 | 4.263 |\n",
       "| 1977 |  5.1560000 |  6.111 | 4.442 |\n",
       "| 1978 |  7.2193333 |  8.989 | 6.026 |\n",
       "| 1979 |  9.9795833 | 11.728 | 8.977 |\n",
       "| 1980 | 11.0794167 | 15.071 | 6.665 |\n",
       "| 1981 | 13.6585000 | 16.210 | 9.710 |\n",
       "| 1982 | 10.0850833 | 13.963 | 6.937 |\n",
       "| 1983 |  8.5164167 |  9.008 | 7.909 |\n",
       "| 1984 |  9.2293333 | 10.743 | 7.229 |\n",
       "| 1985 |  7.1721667 |  8.037 | 6.237 |\n",
       "| 1986 |  5.7770000 |  6.887 | 4.859 |\n",
       "| 1987 |  5.1714167 |  6.484 | 3.800 |\n",
       "| 1988 |  6.3570000 |  7.544 | 4.930 |\n",
       "| 1989 |  8.0034167 |  9.043 | 6.651 |\n",
       "| 1990 |  7.3090000 |  8.083 | 5.867 |\n",
       "| 1991 |  5.8150000 |  5.953 | 5.677 |\n",
       "\n"
      ],
      "text/plain": [
       "   anho tasa_media tasa_maxima tasa_minima\n",
       "1  1946  0.3250000  0.325      0.325      \n",
       "2  1947  0.4985000  0.904      0.288      \n",
       "3  1948  1.0235833  1.110      0.959      \n",
       "4  1949  1.0494167  1.139      0.960      \n",
       "5  1950  1.1724167  1.307      1.072      \n",
       "6  1951  1.4066667  1.696      1.209      \n",
       "7  1952  1.6083333  1.941      1.332      \n",
       "8  1953  1.6696667  2.062      0.975      \n",
       "9  1954  0.8448333  1.107      0.603      \n",
       "10 1955  1.6525000  2.424      1.097      \n",
       "11 1956  2.4500833  3.077      1.969      \n",
       "12 1957  3.0235000  3.361      2.635      \n",
       "13 1958  1.3670000  2.419      0.249      \n",
       "14 1959  2.9971667  4.079      2.379      \n",
       "15 1960  2.4010833  3.807      1.606      \n",
       "16 1961  2.1220000  2.483      1.744      \n",
       "17 1962  2.6546667  2.941      2.455      \n",
       "18 1963  3.0545833  3.511      2.204      \n",
       "19 1964  3.4511667  3.631      3.289      \n",
       "20 1965  3.9105833  4.440      3.787      \n",
       "21 1966  4.6482500  5.198      4.403      \n",
       "22 1967  4.0340833  4.537      3.345      \n",
       "23 1968  5.2127500  6.138      4.739      \n",
       "24 1969  6.4422500  7.280      5.638      \n",
       "25 1970  6.0360000  7.622      4.572      \n",
       "26 1971  4.1142500  5.206      3.250      \n",
       "27 1972  3.9000000  4.927      3.024      \n",
       "28 1973  6.9240000  8.636      5.437      \n",
       "29 1974  7.6506667  9.205      6.056      \n",
       "30 1975  5.4471667  6.310      4.940      \n",
       "31 1976  4.8149167  5.296      4.263      \n",
       "32 1977  5.1560000  6.111      4.442      \n",
       "33 1978  7.2193333  8.989      6.026      \n",
       "34 1979  9.9795833 11.728      8.977      \n",
       "35 1980 11.0794167 15.071      6.665      \n",
       "36 1981 13.6585000 16.210      9.710      \n",
       "37 1982 10.0850833 13.963      6.937      \n",
       "38 1983  8.5164167  9.008      7.909      \n",
       "39 1984  9.2293333 10.743      7.229      \n",
       "40 1985  7.1721667  8.037      6.237      \n",
       "41 1986  5.7770000  6.887      4.859      \n",
       "42 1987  5.1714167  6.484      3.800      \n",
       "43 1988  6.3570000  7.544      4.930      \n",
       "44 1989  8.0034167  9.043      6.651      \n",
       "45 1990  7.3090000  8.083      5.867      \n",
       "46 1991  5.8150000  5.953      5.677      "
      ]
     },
     "metadata": {},
     "output_type": "display_data"
    }
   ],
   "source": [
    "media_anual <- tasa_corto_plazo %>%\n",
    "    group_by(anho) %>%\n",
    "    summarize(tasa_media = mean(r1), tasa_maxima = max(r1), tasa_minima = min(r1))\n",
    "\n",
    "media_anual"
   ]
  },
  {
   "cell_type": "code",
   "execution_count": 57,
   "id": "cb2d8851-a3fd-4349-93e9-55d157e5c454",
   "metadata": {},
   "outputs": [
    {
     "data": {
      "text/html": [
       "<table class=\"dataframe\">\n",
       "<caption>A tibble: 46 × 4</caption>\n",
       "<thead>\n",
       "\t<tr><th scope=col>anho</th><th scope=col>tasa_media</th><th scope=col>tasa_maxima</th><th scope=col>tasa_minima</th></tr>\n",
       "\t<tr><th scope=col>&lt;dbl&gt;</th><th scope=col>&lt;dbl&gt;</th><th scope=col>&lt;dbl&gt;</th><th scope=col>&lt;dbl&gt;</th></tr>\n",
       "</thead>\n",
       "<tbody>\n",
       "\t<tr><td>1946</td><td> 0.3250000</td><td> 0.325</td><td>0.325</td></tr>\n",
       "\t<tr><td>1947</td><td> 0.4985000</td><td> 0.904</td><td>0.288</td></tr>\n",
       "\t<tr><td>1948</td><td> 1.0235833</td><td> 1.110</td><td>0.959</td></tr>\n",
       "\t<tr><td>1949</td><td> 1.0494167</td><td> 1.139</td><td>0.960</td></tr>\n",
       "\t<tr><td>1950</td><td> 1.1724167</td><td> 1.307</td><td>1.072</td></tr>\n",
       "\t<tr><td>1951</td><td> 1.4066667</td><td> 1.696</td><td>1.209</td></tr>\n",
       "\t<tr><td>1952</td><td> 1.6083333</td><td> 1.941</td><td>1.332</td></tr>\n",
       "\t<tr><td>1953</td><td> 1.6696667</td><td> 2.062</td><td>0.975</td></tr>\n",
       "\t<tr><td>1954</td><td> 0.8448333</td><td> 1.107</td><td>0.603</td></tr>\n",
       "\t<tr><td>1955</td><td> 1.6525000</td><td> 2.424</td><td>1.097</td></tr>\n",
       "\t<tr><td>1956</td><td> 2.4500833</td><td> 3.077</td><td>1.969</td></tr>\n",
       "\t<tr><td>1957</td><td> 3.0235000</td><td> 3.361</td><td>2.635</td></tr>\n",
       "\t<tr><td>1958</td><td> 1.3670000</td><td> 2.419</td><td>0.249</td></tr>\n",
       "\t<tr><td>1959</td><td> 2.9971667</td><td> 4.079</td><td>2.379</td></tr>\n",
       "\t<tr><td>1960</td><td> 2.4010833</td><td> 3.807</td><td>1.606</td></tr>\n",
       "\t<tr><td>1961</td><td> 2.1220000</td><td> 2.483</td><td>1.744</td></tr>\n",
       "\t<tr><td>1962</td><td> 2.6546667</td><td> 2.941</td><td>2.455</td></tr>\n",
       "\t<tr><td>1963</td><td> 3.0545833</td><td> 3.511</td><td>2.204</td></tr>\n",
       "\t<tr><td>1964</td><td> 3.4511667</td><td> 3.631</td><td>3.289</td></tr>\n",
       "\t<tr><td>1965</td><td> 3.9105833</td><td> 4.440</td><td>3.787</td></tr>\n",
       "\t<tr><td>1966</td><td> 4.6482500</td><td> 5.198</td><td>4.403</td></tr>\n",
       "\t<tr><td>1967</td><td> 4.0340833</td><td> 4.537</td><td>3.345</td></tr>\n",
       "\t<tr><td>1968</td><td> 5.2127500</td><td> 6.138</td><td>4.739</td></tr>\n",
       "\t<tr><td>1969</td><td> 6.4422500</td><td> 7.280</td><td>5.638</td></tr>\n",
       "\t<tr><td>1970</td><td> 6.0360000</td><td> 7.622</td><td>4.572</td></tr>\n",
       "\t<tr><td>1971</td><td> 4.1142500</td><td> 5.206</td><td>3.250</td></tr>\n",
       "\t<tr><td>1972</td><td> 3.9000000</td><td> 4.927</td><td>3.024</td></tr>\n",
       "\t<tr><td>1973</td><td> 6.9240000</td><td> 8.636</td><td>5.437</td></tr>\n",
       "\t<tr><td>1974</td><td> 7.6506667</td><td> 9.205</td><td>6.056</td></tr>\n",
       "\t<tr><td>1975</td><td> 5.4471667</td><td> 6.310</td><td>4.940</td></tr>\n",
       "\t<tr><td>1976</td><td> 4.8149167</td><td> 5.296</td><td>4.263</td></tr>\n",
       "\t<tr><td>1977</td><td> 5.1560000</td><td> 6.111</td><td>4.442</td></tr>\n",
       "\t<tr><td>1978</td><td> 7.2193333</td><td> 8.989</td><td>6.026</td></tr>\n",
       "\t<tr><td>1979</td><td> 9.9795833</td><td>11.728</td><td>8.977</td></tr>\n",
       "\t<tr><td>1980</td><td>11.0794167</td><td>15.071</td><td>6.665</td></tr>\n",
       "\t<tr><td>1981</td><td>13.6585000</td><td>16.210</td><td>9.710</td></tr>\n",
       "\t<tr><td>1982</td><td>10.0850833</td><td>13.963</td><td>6.937</td></tr>\n",
       "\t<tr><td>1983</td><td> 8.5164167</td><td> 9.008</td><td>7.909</td></tr>\n",
       "\t<tr><td>1984</td><td> 9.2293333</td><td>10.743</td><td>7.229</td></tr>\n",
       "\t<tr><td>1985</td><td> 7.1721667</td><td> 8.037</td><td>6.237</td></tr>\n",
       "\t<tr><td>1986</td><td> 5.7770000</td><td> 6.887</td><td>4.859</td></tr>\n",
       "\t<tr><td>1987</td><td> 5.1714167</td><td> 6.484</td><td>3.800</td></tr>\n",
       "\t<tr><td>1988</td><td> 6.3570000</td><td> 7.544</td><td>4.930</td></tr>\n",
       "\t<tr><td>1989</td><td> 8.0034167</td><td> 9.043</td><td>6.651</td></tr>\n",
       "\t<tr><td>1990</td><td> 7.3090000</td><td> 8.083</td><td>5.867</td></tr>\n",
       "\t<tr><td>1991</td><td> 5.8150000</td><td> 5.953</td><td>5.677</td></tr>\n",
       "</tbody>\n",
       "</table>\n"
      ],
      "text/latex": [
       "A tibble: 46 × 4\n",
       "\\begin{tabular}{llll}\n",
       " anho & tasa\\_media & tasa\\_maxima & tasa\\_minima\\\\\n",
       " <dbl> & <dbl> & <dbl> & <dbl>\\\\\n",
       "\\hline\n",
       "\t 1946 &  0.3250000 &  0.325 & 0.325\\\\\n",
       "\t 1947 &  0.4985000 &  0.904 & 0.288\\\\\n",
       "\t 1948 &  1.0235833 &  1.110 & 0.959\\\\\n",
       "\t 1949 &  1.0494167 &  1.139 & 0.960\\\\\n",
       "\t 1950 &  1.1724167 &  1.307 & 1.072\\\\\n",
       "\t 1951 &  1.4066667 &  1.696 & 1.209\\\\\n",
       "\t 1952 &  1.6083333 &  1.941 & 1.332\\\\\n",
       "\t 1953 &  1.6696667 &  2.062 & 0.975\\\\\n",
       "\t 1954 &  0.8448333 &  1.107 & 0.603\\\\\n",
       "\t 1955 &  1.6525000 &  2.424 & 1.097\\\\\n",
       "\t 1956 &  2.4500833 &  3.077 & 1.969\\\\\n",
       "\t 1957 &  3.0235000 &  3.361 & 2.635\\\\\n",
       "\t 1958 &  1.3670000 &  2.419 & 0.249\\\\\n",
       "\t 1959 &  2.9971667 &  4.079 & 2.379\\\\\n",
       "\t 1960 &  2.4010833 &  3.807 & 1.606\\\\\n",
       "\t 1961 &  2.1220000 &  2.483 & 1.744\\\\\n",
       "\t 1962 &  2.6546667 &  2.941 & 2.455\\\\\n",
       "\t 1963 &  3.0545833 &  3.511 & 2.204\\\\\n",
       "\t 1964 &  3.4511667 &  3.631 & 3.289\\\\\n",
       "\t 1965 &  3.9105833 &  4.440 & 3.787\\\\\n",
       "\t 1966 &  4.6482500 &  5.198 & 4.403\\\\\n",
       "\t 1967 &  4.0340833 &  4.537 & 3.345\\\\\n",
       "\t 1968 &  5.2127500 &  6.138 & 4.739\\\\\n",
       "\t 1969 &  6.4422500 &  7.280 & 5.638\\\\\n",
       "\t 1970 &  6.0360000 &  7.622 & 4.572\\\\\n",
       "\t 1971 &  4.1142500 &  5.206 & 3.250\\\\\n",
       "\t 1972 &  3.9000000 &  4.927 & 3.024\\\\\n",
       "\t 1973 &  6.9240000 &  8.636 & 5.437\\\\\n",
       "\t 1974 &  7.6506667 &  9.205 & 6.056\\\\\n",
       "\t 1975 &  5.4471667 &  6.310 & 4.940\\\\\n",
       "\t 1976 &  4.8149167 &  5.296 & 4.263\\\\\n",
       "\t 1977 &  5.1560000 &  6.111 & 4.442\\\\\n",
       "\t 1978 &  7.2193333 &  8.989 & 6.026\\\\\n",
       "\t 1979 &  9.9795833 & 11.728 & 8.977\\\\\n",
       "\t 1980 & 11.0794167 & 15.071 & 6.665\\\\\n",
       "\t 1981 & 13.6585000 & 16.210 & 9.710\\\\\n",
       "\t 1982 & 10.0850833 & 13.963 & 6.937\\\\\n",
       "\t 1983 &  8.5164167 &  9.008 & 7.909\\\\\n",
       "\t 1984 &  9.2293333 & 10.743 & 7.229\\\\\n",
       "\t 1985 &  7.1721667 &  8.037 & 6.237\\\\\n",
       "\t 1986 &  5.7770000 &  6.887 & 4.859\\\\\n",
       "\t 1987 &  5.1714167 &  6.484 & 3.800\\\\\n",
       "\t 1988 &  6.3570000 &  7.544 & 4.930\\\\\n",
       "\t 1989 &  8.0034167 &  9.043 & 6.651\\\\\n",
       "\t 1990 &  7.3090000 &  8.083 & 5.867\\\\\n",
       "\t 1991 &  5.8150000 &  5.953 & 5.677\\\\\n",
       "\\end{tabular}\n"
      ],
      "text/markdown": [
       "\n",
       "A tibble: 46 × 4\n",
       "\n",
       "| anho &lt;dbl&gt; | tasa_media &lt;dbl&gt; | tasa_maxima &lt;dbl&gt; | tasa_minima &lt;dbl&gt; |\n",
       "|---|---|---|---|\n",
       "| 1946 |  0.3250000 |  0.325 | 0.325 |\n",
       "| 1947 |  0.4985000 |  0.904 | 0.288 |\n",
       "| 1948 |  1.0235833 |  1.110 | 0.959 |\n",
       "| 1949 |  1.0494167 |  1.139 | 0.960 |\n",
       "| 1950 |  1.1724167 |  1.307 | 1.072 |\n",
       "| 1951 |  1.4066667 |  1.696 | 1.209 |\n",
       "| 1952 |  1.6083333 |  1.941 | 1.332 |\n",
       "| 1953 |  1.6696667 |  2.062 | 0.975 |\n",
       "| 1954 |  0.8448333 |  1.107 | 0.603 |\n",
       "| 1955 |  1.6525000 |  2.424 | 1.097 |\n",
       "| 1956 |  2.4500833 |  3.077 | 1.969 |\n",
       "| 1957 |  3.0235000 |  3.361 | 2.635 |\n",
       "| 1958 |  1.3670000 |  2.419 | 0.249 |\n",
       "| 1959 |  2.9971667 |  4.079 | 2.379 |\n",
       "| 1960 |  2.4010833 |  3.807 | 1.606 |\n",
       "| 1961 |  2.1220000 |  2.483 | 1.744 |\n",
       "| 1962 |  2.6546667 |  2.941 | 2.455 |\n",
       "| 1963 |  3.0545833 |  3.511 | 2.204 |\n",
       "| 1964 |  3.4511667 |  3.631 | 3.289 |\n",
       "| 1965 |  3.9105833 |  4.440 | 3.787 |\n",
       "| 1966 |  4.6482500 |  5.198 | 4.403 |\n",
       "| 1967 |  4.0340833 |  4.537 | 3.345 |\n",
       "| 1968 |  5.2127500 |  6.138 | 4.739 |\n",
       "| 1969 |  6.4422500 |  7.280 | 5.638 |\n",
       "| 1970 |  6.0360000 |  7.622 | 4.572 |\n",
       "| 1971 |  4.1142500 |  5.206 | 3.250 |\n",
       "| 1972 |  3.9000000 |  4.927 | 3.024 |\n",
       "| 1973 |  6.9240000 |  8.636 | 5.437 |\n",
       "| 1974 |  7.6506667 |  9.205 | 6.056 |\n",
       "| 1975 |  5.4471667 |  6.310 | 4.940 |\n",
       "| 1976 |  4.8149167 |  5.296 | 4.263 |\n",
       "| 1977 |  5.1560000 |  6.111 | 4.442 |\n",
       "| 1978 |  7.2193333 |  8.989 | 6.026 |\n",
       "| 1979 |  9.9795833 | 11.728 | 8.977 |\n",
       "| 1980 | 11.0794167 | 15.071 | 6.665 |\n",
       "| 1981 | 13.6585000 | 16.210 | 9.710 |\n",
       "| 1982 | 10.0850833 | 13.963 | 6.937 |\n",
       "| 1983 |  8.5164167 |  9.008 | 7.909 |\n",
       "| 1984 |  9.2293333 | 10.743 | 7.229 |\n",
       "| 1985 |  7.1721667 |  8.037 | 6.237 |\n",
       "| 1986 |  5.7770000 |  6.887 | 4.859 |\n",
       "| 1987 |  5.1714167 |  6.484 | 3.800 |\n",
       "| 1988 |  6.3570000 |  7.544 | 4.930 |\n",
       "| 1989 |  8.0034167 |  9.043 | 6.651 |\n",
       "| 1990 |  7.3090000 |  8.083 | 5.867 |\n",
       "| 1991 |  5.8150000 |  5.953 | 5.677 |\n",
       "\n"
      ],
      "text/plain": [
       "   anho tasa_media tasa_maxima tasa_minima\n",
       "1  1946  0.3250000  0.325      0.325      \n",
       "2  1947  0.4985000  0.904      0.288      \n",
       "3  1948  1.0235833  1.110      0.959      \n",
       "4  1949  1.0494167  1.139      0.960      \n",
       "5  1950  1.1724167  1.307      1.072      \n",
       "6  1951  1.4066667  1.696      1.209      \n",
       "7  1952  1.6083333  1.941      1.332      \n",
       "8  1953  1.6696667  2.062      0.975      \n",
       "9  1954  0.8448333  1.107      0.603      \n",
       "10 1955  1.6525000  2.424      1.097      \n",
       "11 1956  2.4500833  3.077      1.969      \n",
       "12 1957  3.0235000  3.361      2.635      \n",
       "13 1958  1.3670000  2.419      0.249      \n",
       "14 1959  2.9971667  4.079      2.379      \n",
       "15 1960  2.4010833  3.807      1.606      \n",
       "16 1961  2.1220000  2.483      1.744      \n",
       "17 1962  2.6546667  2.941      2.455      \n",
       "18 1963  3.0545833  3.511      2.204      \n",
       "19 1964  3.4511667  3.631      3.289      \n",
       "20 1965  3.9105833  4.440      3.787      \n",
       "21 1966  4.6482500  5.198      4.403      \n",
       "22 1967  4.0340833  4.537      3.345      \n",
       "23 1968  5.2127500  6.138      4.739      \n",
       "24 1969  6.4422500  7.280      5.638      \n",
       "25 1970  6.0360000  7.622      4.572      \n",
       "26 1971  4.1142500  5.206      3.250      \n",
       "27 1972  3.9000000  4.927      3.024      \n",
       "28 1973  6.9240000  8.636      5.437      \n",
       "29 1974  7.6506667  9.205      6.056      \n",
       "30 1975  5.4471667  6.310      4.940      \n",
       "31 1976  4.8149167  5.296      4.263      \n",
       "32 1977  5.1560000  6.111      4.442      \n",
       "33 1978  7.2193333  8.989      6.026      \n",
       "34 1979  9.9795833 11.728      8.977      \n",
       "35 1980 11.0794167 15.071      6.665      \n",
       "36 1981 13.6585000 16.210      9.710      \n",
       "37 1982 10.0850833 13.963      6.937      \n",
       "38 1983  8.5164167  9.008      7.909      \n",
       "39 1984  9.2293333 10.743      7.229      \n",
       "40 1985  7.1721667  8.037      6.237      \n",
       "41 1986  5.7770000  6.887      4.859      \n",
       "42 1987  5.1714167  6.484      3.800      \n",
       "43 1988  6.3570000  7.544      4.930      \n",
       "44 1989  8.0034167  9.043      6.651      \n",
       "45 1990  7.3090000  8.083      5.867      \n",
       "46 1991  5.8150000  5.953      5.677      "
      ]
     },
     "metadata": {},
     "output_type": "display_data"
    }
   ],
   "source": [
    "media_anual <- tasa_corto_plazo %>%\n",
    "    group_by(anho) %>%\n",
    "    summarize(\n",
    "        tasa_media = mean(r1),\n",
    "        tasa_maxima = max(r1),\n",
    "        tasa_minima = min(r1)\n",
    "    )\n",
    "\n",
    "media_anual"
   ]
  },
  {
   "cell_type": "code",
   "execution_count": 58,
   "id": "c3405b70-308c-4f77-bf60-d963036ceae3",
   "metadata": {},
   "outputs": [
    {
     "data": {
      "image/png": "[encoded data removed]",
      "text/plain": [
       "plot without title"
      ]
     },
     "metadata": {
      "image/png": {
       "height": 420,
       "width": 420
      }
     },
     "output_type": "display_data"
    }
   ],
   "source": [
    "boxplot(r1 ~ anho, data = tasa_corto_plazo)"
   ]
  },
  {
   "cell_type": "code",
   "execution_count": 59,
   "id": "e7de3608-b434-4f50-ba1d-203c4d86d004",
   "metadata": {},
   "outputs": [
    {
     "data": {
      "image/png": "[encoded data removed]",
      "text/plain": [
       "plot without title"
      ]
     },
     "metadata": {
      "image/png": {
       "height": 420,
       "width": 420
      }
     },
     "output_type": "display_data"
    }
   ],
   "source": [
    "boxplot(r1 ~ anho, data = tasa_cp_75_90)"
   ]
  },
  {
   "cell_type": "markdown",
   "id": "921094b6-15da-47b6-aa6c-8535d1cbeb0e",
   "metadata": {},
   "source": [
    "Leyendo datos de un repositorio particular en la nube\n",
    "==\n",
    "\n",
    "Más sobre \"group_by\" and \"summarise\"\n",
    "=="
   ]
  },
  {
   "cell_type": "markdown",
   "id": "f6a456b1-573b-4329-9e93-4283ae810fc1",
   "metadata": {},
   "source": [
    "En los ejemplos a continuación vamos a trabajar con una base de datos que se encuentra disponible en un repositorio de la nube. Esta base de datos se encuentra en formato CSV y contiene la cantidad de nacimientos (\"nb_births\") que se registraron con determinado nombre en cada año."
   ]
  },
  {
   "cell_type": "code",
   "execution_count": 60,
   "id": "41f50f81-1205-4816-a2bc-3b048b113e38",
   "metadata": {},
   "outputs": [
    {
     "data": {
      "text/html": [
       "<table class=\"dataframe\">\n",
       "<caption>A tibble: 6 × 4</caption>\n",
       "<thead>\n",
       "\t<tr><th scope=col>year</th><th scope=col>name</th><th scope=col>sex</th><th scope=col>nb_births</th></tr>\n",
       "\t<tr><th scope=col>&lt;dbl&gt;</th><th scope=col>&lt;chr&gt;</th><th scope=col>&lt;chr&gt;</th><th scope=col>&lt;dbl&gt;</th></tr>\n",
       "</thead>\n",
       "<tbody>\n",
       "\t<tr><td>1880</td><td>Mary     </td><td>F</td><td>7065</td></tr>\n",
       "\t<tr><td>1880</td><td>Anna     </td><td>F</td><td>2604</td></tr>\n",
       "\t<tr><td>1880</td><td>Emma     </td><td>F</td><td>2003</td></tr>\n",
       "\t<tr><td>1880</td><td>Elizabeth</td><td>F</td><td>1939</td></tr>\n",
       "\t<tr><td>1880</td><td>Minnie   </td><td>F</td><td>1746</td></tr>\n",
       "\t<tr><td>1880</td><td>Margaret </td><td>F</td><td>1578</td></tr>\n",
       "</tbody>\n",
       "</table>\n"
      ],
      "text/latex": [
       "A tibble: 6 × 4\n",
       "\\begin{tabular}{llll}\n",
       " year & name & sex & nb\\_births\\\\\n",
       " <dbl> & <chr> & <chr> & <dbl>\\\\\n",
       "\\hline\n",
       "\t 1880 & Mary      & F & 7065\\\\\n",
       "\t 1880 & Anna      & F & 2604\\\\\n",
       "\t 1880 & Emma      & F & 2003\\\\\n",
       "\t 1880 & Elizabeth & F & 1939\\\\\n",
       "\t 1880 & Minnie    & F & 1746\\\\\n",
       "\t 1880 & Margaret  & F & 1578\\\\\n",
       "\\end{tabular}\n"
      ],
      "text/markdown": [
       "\n",
       "A tibble: 6 × 4\n",
       "\n",
       "| year &lt;dbl&gt; | name &lt;chr&gt; | sex &lt;chr&gt; | nb_births &lt;dbl&gt; |\n",
       "|---|---|---|---|\n",
       "| 1880 | Mary      | F | 7065 |\n",
       "| 1880 | Anna      | F | 2604 |\n",
       "| 1880 | Emma      | F | 2003 |\n",
       "| 1880 | Elizabeth | F | 1939 |\n",
       "| 1880 | Minnie    | F | 1746 |\n",
       "| 1880 | Margaret  | F | 1578 |\n",
       "\n"
      ],
      "text/plain": [
       "  year name      sex nb_births\n",
       "1 1880 Mary      F   7065     \n",
       "2 1880 Anna      F   2604     \n",
       "3 1880 Emma      F   2003     \n",
       "4 1880 Elizabeth F   1939     \n",
       "5 1880 Minnie    F   1746     \n",
       "6 1880 Margaret  F   1578     "
      ]
     },
     "metadata": {},
     "output_type": "display_data"
    }
   ],
   "source": [
    "file_name_names <- \"https://raw.githubusercontent.com/ramnathv/corise-r-for-ds/main/data/names.csv.gz\"\n",
    "tbl_names <- readr::read_csv(file_name_names, show_col_types = FALSE)\n",
    "head(tbl_names)"
   ]
  },
  {
   "cell_type": "markdown",
   "id": "14d4ea02-94dd-4846-93e0-c71ec5cfcdd1",
   "metadata": {},
   "source": [
    "La función \"group_by\" nos permite agrupar una tabla por una o más columnas. Aplicando la función \"group_by\" a una tabla no ejecuta ningún cambio en su apariencia u organización, pero sí añade alguna \"metadata\" sobre las variables que hemos indicado para agrupar."
   ]
  },
  {
   "cell_type": "code",
   "execution_count": 61,
   "id": "f1f6f192-4d72-4aa7-987c-fc62a9e556c2",
   "metadata": {},
   "outputs": [
    {
     "data": {
      "text/html": [
       "<table class=\"dataframe\">\n",
       "<caption>A grouped_df: 6 × 4</caption>\n",
       "<thead>\n",
       "\t<tr><th scope=col>year</th><th scope=col>name</th><th scope=col>sex</th><th scope=col>nb_births</th></tr>\n",
       "\t<tr><th scope=col>&lt;dbl&gt;</th><th scope=col>&lt;chr&gt;</th><th scope=col>&lt;chr&gt;</th><th scope=col>&lt;dbl&gt;</th></tr>\n",
       "</thead>\n",
       "<tbody>\n",
       "\t<tr><td>1880</td><td>Mary     </td><td>F</td><td>7065</td></tr>\n",
       "\t<tr><td>1880</td><td>Anna     </td><td>F</td><td>2604</td></tr>\n",
       "\t<tr><td>1880</td><td>Emma     </td><td>F</td><td>2003</td></tr>\n",
       "\t<tr><td>1880</td><td>Elizabeth</td><td>F</td><td>1939</td></tr>\n",
       "\t<tr><td>1880</td><td>Minnie   </td><td>F</td><td>1746</td></tr>\n",
       "\t<tr><td>1880</td><td>Margaret </td><td>F</td><td>1578</td></tr>\n",
       "</tbody>\n",
       "</table>\n"
      ],
      "text/latex": [
       "A grouped\\_df: 6 × 4\n",
       "\\begin{tabular}{llll}\n",
       " year & name & sex & nb\\_births\\\\\n",
       " <dbl> & <chr> & <chr> & <dbl>\\\\\n",
       "\\hline\n",
       "\t 1880 & Mary      & F & 7065\\\\\n",
       "\t 1880 & Anna      & F & 2604\\\\\n",
       "\t 1880 & Emma      & F & 2003\\\\\n",
       "\t 1880 & Elizabeth & F & 1939\\\\\n",
       "\t 1880 & Minnie    & F & 1746\\\\\n",
       "\t 1880 & Margaret  & F & 1578\\\\\n",
       "\\end{tabular}\n"
      ],
      "text/markdown": [
       "\n",
       "A grouped_df: 6 × 4\n",
       "\n",
       "| year &lt;dbl&gt; | name &lt;chr&gt; | sex &lt;chr&gt; | nb_births &lt;dbl&gt; |\n",
       "|---|---|---|---|\n",
       "| 1880 | Mary      | F | 7065 |\n",
       "| 1880 | Anna      | F | 2604 |\n",
       "| 1880 | Emma      | F | 2003 |\n",
       "| 1880 | Elizabeth | F | 1939 |\n",
       "| 1880 | Minnie    | F | 1746 |\n",
       "| 1880 | Margaret  | F | 1578 |\n",
       "\n"
      ],
      "text/plain": [
       "  year name      sex nb_births\n",
       "1 1880 Mary      F   7065     \n",
       "2 1880 Anna      F   2604     \n",
       "3 1880 Emma      F   2003     \n",
       "4 1880 Elizabeth F   1939     \n",
       "5 1880 Minnie    F   1746     \n",
       "6 1880 Margaret  F   1578     "
      ]
     },
     "metadata": {},
     "output_type": "display_data"
    }
   ],
   "source": [
    "# Agrupado por UNA columna\n",
    "tbl_names %>%\n",
    "  group_by(sex) %>%\n",
    "  head()"
   ]
  },
  {
   "cell_type": "code",
   "execution_count": 62,
   "id": "ff955dd8-a8bd-4d75-b9e0-74a564e7b64f",
   "metadata": {
    "scrolled": true
   },
   "outputs": [
    {
     "data": {
      "text/html": [
       "<table class=\"dataframe\">\n",
       "<caption>A grouped_df: 6 × 4</caption>\n",
       "<thead>\n",
       "\t<tr><th scope=col>year</th><th scope=col>name</th><th scope=col>sex</th><th scope=col>nb_births</th></tr>\n",
       "\t<tr><th scope=col>&lt;dbl&gt;</th><th scope=col>&lt;chr&gt;</th><th scope=col>&lt;chr&gt;</th><th scope=col>&lt;dbl&gt;</th></tr>\n",
       "</thead>\n",
       "<tbody>\n",
       "\t<tr><td>1880</td><td>Mary     </td><td>F</td><td>7065</td></tr>\n",
       "\t<tr><td>1880</td><td>Anna     </td><td>F</td><td>2604</td></tr>\n",
       "\t<tr><td>1880</td><td>Emma     </td><td>F</td><td>2003</td></tr>\n",
       "\t<tr><td>1880</td><td>Elizabeth</td><td>F</td><td>1939</td></tr>\n",
       "\t<tr><td>1880</td><td>Minnie   </td><td>F</td><td>1746</td></tr>\n",
       "\t<tr><td>1880</td><td>Margaret </td><td>F</td><td>1578</td></tr>\n",
       "</tbody>\n",
       "</table>\n"
      ],
      "text/latex": [
       "A grouped\\_df: 6 × 4\n",
       "\\begin{tabular}{llll}\n",
       " year & name & sex & nb\\_births\\\\\n",
       " <dbl> & <chr> & <chr> & <dbl>\\\\\n",
       "\\hline\n",
       "\t 1880 & Mary      & F & 7065\\\\\n",
       "\t 1880 & Anna      & F & 2604\\\\\n",
       "\t 1880 & Emma      & F & 2003\\\\\n",
       "\t 1880 & Elizabeth & F & 1939\\\\\n",
       "\t 1880 & Minnie    & F & 1746\\\\\n",
       "\t 1880 & Margaret  & F & 1578\\\\\n",
       "\\end{tabular}\n"
      ],
      "text/markdown": [
       "\n",
       "A grouped_df: 6 × 4\n",
       "\n",
       "| year &lt;dbl&gt; | name &lt;chr&gt; | sex &lt;chr&gt; | nb_births &lt;dbl&gt; |\n",
       "|---|---|---|---|\n",
       "| 1880 | Mary      | F | 7065 |\n",
       "| 1880 | Anna      | F | 2604 |\n",
       "| 1880 | Emma      | F | 2003 |\n",
       "| 1880 | Elizabeth | F | 1939 |\n",
       "| 1880 | Minnie    | F | 1746 |\n",
       "| 1880 | Margaret  | F | 1578 |\n",
       "\n"
      ],
      "text/plain": [
       "  year name      sex nb_births\n",
       "1 1880 Mary      F   7065     \n",
       "2 1880 Anna      F   2604     \n",
       "3 1880 Emma      F   2003     \n",
       "4 1880 Elizabeth F   1939     \n",
       "5 1880 Minnie    F   1746     \n",
       "6 1880 Margaret  F   1578     "
      ]
     },
     "metadata": {},
     "output_type": "display_data"
    }
   ],
   "source": [
    "# Agrupado por múltiples columnas\n",
    "tbl_names %>%\n",
    "  group_by(sex, name) %>%\n",
    "  head()"
   ]
  },
  {
   "cell_type": "markdown",
   "id": "3c110573-80b1-429a-9e68-4d8af6073f4f",
   "metadata": {},
   "source": [
    "La razón por la que agrupamos una tabla por columnas es para que nos permita manipular los datos por grupos. Aunque la función \"group_by\" puede ser usada en tandem con varias funciones de manipulación de datos, de hecho la más común es la función \"summarise\". Esta agrega los datos para cada grupo de tal modo que colapsa a todos las filas del grupo en una sola fila que representa a ese grupo.\n",
    "\n",
    "Se puede usar cualquier función dentro de \"summarise\" siempre que esa función colapse los multiples valores contenidos en el grupo en un único valor. Por ejemplo, podemos agregar la tabla de nombres para cada campo \"sex\" en términos de la cantidad total de nacimientos y la cantidad de nombres distintos."
   ]
  },
  {
   "cell_type": "code",
   "execution_count": 63,
   "id": "935fd222-2353-42a5-8028-f5cbd8ae4f9c",
   "metadata": {},
   "outputs": [
    {
     "data": {
      "text/html": [
       "<table class=\"dataframe\">\n",
       "<caption>A tibble: 2 × 3</caption>\n",
       "<thead>\n",
       "\t<tr><th scope=col>sex</th><th scope=col>nb_births</th><th scope=col>nb_names</th></tr>\n",
       "\t<tr><th scope=col>&lt;chr&gt;</th><th scope=col>&lt;dbl&gt;</th><th scope=col>&lt;int&gt;</th></tr>\n",
       "</thead>\n",
       "<tbody>\n",
       "\t<tr><td>F</td><td>179027755</td><td>69527</td></tr>\n",
       "\t<tr><td>M</td><td>182860478</td><td>43093</td></tr>\n",
       "</tbody>\n",
       "</table>\n"
      ],
      "text/latex": [
       "A tibble: 2 × 3\n",
       "\\begin{tabular}{lll}\n",
       " sex & nb\\_births & nb\\_names\\\\\n",
       " <chr> & <dbl> & <int>\\\\\n",
       "\\hline\n",
       "\t F & 179027755 & 69527\\\\\n",
       "\t M & 182860478 & 43093\\\\\n",
       "\\end{tabular}\n"
      ],
      "text/markdown": [
       "\n",
       "A tibble: 2 × 3\n",
       "\n",
       "| sex &lt;chr&gt; | nb_births &lt;dbl&gt; | nb_names &lt;int&gt; |\n",
       "|---|---|---|\n",
       "| F | 179027755 | 69527 |\n",
       "| M | 182860478 | 43093 |\n",
       "\n"
      ],
      "text/plain": [
       "  sex nb_births nb_names\n",
       "1 F   179027755 69527   \n",
       "2 M   182860478 43093   "
      ]
     },
     "metadata": {},
     "output_type": "display_data"
    }
   ],
   "source": [
    "tbl_names %>%\n",
    "  group_by(sex) %>%\n",
    "  summarise(\n",
    "      nb_births = sum(nb_births),\n",
    "      nb_names = n_distinct(name)\n",
    "  )"
   ]
  },
  {
   "cell_type": "markdown",
   "id": "0516594d-e9f9-4138-9344-52c3cd845a10",
   "metadata": {},
   "source": [
    "Ahora encontremos la misma tabla pero agrupada primero por \"year\" y luego por \"sex\""
   ]
  },
  {
   "cell_type": "code",
   "execution_count": 64,
   "id": "5419cfc1-6ee5-4454-b5e2-c3c5ca10b272",
   "metadata": {},
   "outputs": [
    {
     "name": "stderr",
     "output_type": "stream",
     "text": [
      "\u001b[1m\u001b[22m`summarise()` has grouped output by 'year'. You can override using the\n",
      "`.groups` argument.\n"
     ]
    },
    {
     "data": {
      "text/html": [
       "<table class=\"dataframe\">\n",
       "<caption>A grouped_df: 284 × 4</caption>\n",
       "<thead>\n",
       "\t<tr><th scope=col>year</th><th scope=col>sex</th><th scope=col>nb_births</th><th scope=col>nb_names</th></tr>\n",
       "\t<tr><th scope=col>&lt;dbl&gt;</th><th scope=col>&lt;chr&gt;</th><th scope=col>&lt;dbl&gt;</th><th scope=col>&lt;int&gt;</th></tr>\n",
       "</thead>\n",
       "<tbody>\n",
       "\t<tr><td>1880</td><td>F</td><td> 90994</td><td> 942</td></tr>\n",
       "\t<tr><td>1880</td><td>M</td><td>110490</td><td>1058</td></tr>\n",
       "\t<tr><td>1881</td><td>F</td><td> 91953</td><td> 938</td></tr>\n",
       "\t<tr><td>1881</td><td>M</td><td>100737</td><td> 996</td></tr>\n",
       "\t<tr><td>1882</td><td>F</td><td>107847</td><td>1028</td></tr>\n",
       "\t<tr><td>1882</td><td>M</td><td>113686</td><td>1099</td></tr>\n",
       "\t<tr><td>1883</td><td>F</td><td>112319</td><td>1054</td></tr>\n",
       "\t<tr><td>1883</td><td>M</td><td>104625</td><td>1030</td></tr>\n",
       "\t<tr><td>1884</td><td>F</td><td>129019</td><td>1172</td></tr>\n",
       "\t<tr><td>1884</td><td>M</td><td>114442</td><td>1125</td></tr>\n",
       "\t<tr><td>1885</td><td>F</td><td>133055</td><td>1197</td></tr>\n",
       "\t<tr><td>1885</td><td>M</td><td>107799</td><td>1097</td></tr>\n",
       "\t<tr><td>1886</td><td>F</td><td>144533</td><td>1282</td></tr>\n",
       "\t<tr><td>1886</td><td>M</td><td>110784</td><td>1110</td></tr>\n",
       "\t<tr><td>1887</td><td>F</td><td>145982</td><td>1306</td></tr>\n",
       "\t<tr><td>1887</td><td>M</td><td>101411</td><td>1067</td></tr>\n",
       "\t<tr><td>1888</td><td>F</td><td>178622</td><td>1474</td></tr>\n",
       "\t<tr><td>1888</td><td>M</td><td>120851</td><td>1177</td></tr>\n",
       "\t<tr><td>1889</td><td>F</td><td>178366</td><td>1479</td></tr>\n",
       "\t<tr><td>1889</td><td>M</td><td>110580</td><td>1111</td></tr>\n",
       "\t<tr><td>1890</td><td>F</td><td>190377</td><td>1534</td></tr>\n",
       "\t<tr><td>1890</td><td>M</td><td>111024</td><td>1161</td></tr>\n",
       "\t<tr><td>1891</td><td>F</td><td>185480</td><td>1533</td></tr>\n",
       "\t<tr><td>1891</td><td>M</td><td>101191</td><td>1127</td></tr>\n",
       "\t<tr><td>1892</td><td>F</td><td>212339</td><td>1661</td></tr>\n",
       "\t<tr><td>1892</td><td>M</td><td>122035</td><td>1260</td></tr>\n",
       "\t<tr><td>1893</td><td>F</td><td>212905</td><td>1652</td></tr>\n",
       "\t<tr><td>1893</td><td>M</td><td>112319</td><td>1179</td></tr>\n",
       "\t<tr><td>1894</td><td>F</td><td>222922</td><td>1702</td></tr>\n",
       "\t<tr><td>1894</td><td>M</td><td>115769</td><td>1239</td></tr>\n",
       "\t<tr><td>⋮</td><td>⋮</td><td>⋮</td><td>⋮</td></tr>\n",
       "\t<tr><td>2007</td><td>F</td><td>1921655</td><td>20572</td></tr>\n",
       "\t<tr><td>2007</td><td>M</td><td>2074427</td><td>14393</td></tr>\n",
       "\t<tr><td>2008</td><td>F</td><td>1889800</td><td>20470</td></tr>\n",
       "\t<tr><td>2008</td><td>M</td><td>2038995</td><td>14618</td></tr>\n",
       "\t<tr><td>2009</td><td>F</td><td>1835873</td><td>20190</td></tr>\n",
       "\t<tr><td>2009</td><td>M</td><td>1982310</td><td>14532</td></tr>\n",
       "\t<tr><td>2010</td><td>F</td><td>1776223</td><td>19823</td></tr>\n",
       "\t<tr><td>2010</td><td>M</td><td>1917416</td><td>14266</td></tr>\n",
       "\t<tr><td>2011</td><td>F</td><td>1757662</td><td>19576</td></tr>\n",
       "\t<tr><td>2011</td><td>M</td><td>1897685</td><td>14347</td></tr>\n",
       "\t<tr><td>2012</td><td>F</td><td>1759366</td><td>19519</td></tr>\n",
       "\t<tr><td>2012</td><td>M</td><td>1895285</td><td>14244</td></tr>\n",
       "\t<tr><td>2013</td><td>F</td><td>1752777</td><td>19259</td></tr>\n",
       "\t<tr><td>2013</td><td>M</td><td>1889640</td><td>14054</td></tr>\n",
       "\t<tr><td>2014</td><td>F</td><td>1784227</td><td>19217</td></tr>\n",
       "\t<tr><td>2014</td><td>M</td><td>1918546</td><td>14063</td></tr>\n",
       "\t<tr><td>2015</td><td>F</td><td>1782611</td><td>19108</td></tr>\n",
       "\t<tr><td>2015</td><td>M</td><td>1914078</td><td>14048</td></tr>\n",
       "\t<tr><td>2016</td><td>F</td><td>1769164</td><td>18853</td></tr>\n",
       "\t<tr><td>2016</td><td>M</td><td>1894723</td><td>14190</td></tr>\n",
       "\t<tr><td>2017</td><td>F</td><td>1723043</td><td>18409</td></tr>\n",
       "\t<tr><td>2017</td><td>M</td><td>1847191</td><td>14239</td></tr>\n",
       "\t<tr><td>2018</td><td>F</td><td>1696917</td><td>18115</td></tr>\n",
       "\t<tr><td>2018</td><td>M</td><td>1811738</td><td>14081</td></tr>\n",
       "\t<tr><td>2019</td><td>F</td><td>1673030</td><td>17972</td></tr>\n",
       "\t<tr><td>2019</td><td>M</td><td>1788414</td><td>14101</td></tr>\n",
       "\t<tr><td>2020</td><td>F</td><td>1609171</td><td>17447</td></tr>\n",
       "\t<tr><td>2020</td><td>M</td><td>1718248</td><td>14006</td></tr>\n",
       "\t<tr><td>2021</td><td>F</td><td>1627098</td><td>17544</td></tr>\n",
       "\t<tr><td>2021</td><td>M</td><td>1734277</td><td>13993</td></tr>\n",
       "</tbody>\n",
       "</table>\n"
      ],
      "text/latex": [
       "A grouped\\_df: 284 × 4\n",
       "\\begin{tabular}{llll}\n",
       " year & sex & nb\\_births & nb\\_names\\\\\n",
       " <dbl> & <chr> & <dbl> & <int>\\\\\n",
       "\\hline\n",
       "\t 1880 & F &  90994 &  942\\\\\n",
       "\t 1880 & M & 110490 & 1058\\\\\n",
       "\t 1881 & F &  91953 &  938\\\\\n",
       "\t 1881 & M & 100737 &  996\\\\\n",
       "\t 1882 & F & 107847 & 1028\\\\\n",
       "\t 1882 & M & 113686 & 1099\\\\\n",
       "\t 1883 & F & 112319 & 1054\\\\\n",
       "\t 1883 & M & 104625 & 1030\\\\\n",
       "\t 1884 & F & 129019 & 1172\\\\\n",
       "\t 1884 & M & 114442 & 1125\\\\\n",
       "\t 1885 & F & 133055 & 1197\\\\\n",
       "\t 1885 & M & 107799 & 1097\\\\\n",
       "\t 1886 & F & 144533 & 1282\\\\\n",
       "\t 1886 & M & 110784 & 1110\\\\\n",
       "\t 1887 & F & 145982 & 1306\\\\\n",
       "\t 1887 & M & 101411 & 1067\\\\\n",
       "\t 1888 & F & 178622 & 1474\\\\\n",
       "\t 1888 & M & 120851 & 1177\\\\\n",
       "\t 1889 & F & 178366 & 1479\\\\\n",
       "\t 1889 & M & 110580 & 1111\\\\\n",
       "\t 1890 & F & 190377 & 1534\\\\\n",
       "\t 1890 & M & 111024 & 1161\\\\\n",
       "\t 1891 & F & 185480 & 1533\\\\\n",
       "\t 1891 & M & 101191 & 1127\\\\\n",
       "\t 1892 & F & 212339 & 1661\\\\\n",
       "\t 1892 & M & 122035 & 1260\\\\\n",
       "\t 1893 & F & 212905 & 1652\\\\\n",
       "\t 1893 & M & 112319 & 1179\\\\\n",
       "\t 1894 & F & 222922 & 1702\\\\\n",
       "\t 1894 & M & 115769 & 1239\\\\\n",
       "\t ⋮ & ⋮ & ⋮ & ⋮\\\\\n",
       "\t 2007 & F & 1921655 & 20572\\\\\n",
       "\t 2007 & M & 2074427 & 14393\\\\\n",
       "\t 2008 & F & 1889800 & 20470\\\\\n",
       "\t 2008 & M & 2038995 & 14618\\\\\n",
       "\t 2009 & F & 1835873 & 20190\\\\\n",
       "\t 2009 & M & 1982310 & 14532\\\\\n",
       "\t 2010 & F & 1776223 & 19823\\\\\n",
       "\t 2010 & M & 1917416 & 14266\\\\\n",
       "\t 2011 & F & 1757662 & 19576\\\\\n",
       "\t 2011 & M & 1897685 & 14347\\\\\n",
       "\t 2012 & F & 1759366 & 19519\\\\\n",
       "\t 2012 & M & 1895285 & 14244\\\\\n",
       "\t 2013 & F & 1752777 & 19259\\\\\n",
       "\t 2013 & M & 1889640 & 14054\\\\\n",
       "\t 2014 & F & 1784227 & 19217\\\\\n",
       "\t 2014 & M & 1918546 & 14063\\\\\n",
       "\t 2015 & F & 1782611 & 19108\\\\\n",
       "\t 2015 & M & 1914078 & 14048\\\\\n",
       "\t 2016 & F & 1769164 & 18853\\\\\n",
       "\t 2016 & M & 1894723 & 14190\\\\\n",
       "\t 2017 & F & 1723043 & 18409\\\\\n",
       "\t 2017 & M & 1847191 & 14239\\\\\n",
       "\t 2018 & F & 1696917 & 18115\\\\\n",
       "\t 2018 & M & 1811738 & 14081\\\\\n",
       "\t 2019 & F & 1673030 & 17972\\\\\n",
       "\t 2019 & M & 1788414 & 14101\\\\\n",
       "\t 2020 & F & 1609171 & 17447\\\\\n",
       "\t 2020 & M & 1718248 & 14006\\\\\n",
       "\t 2021 & F & 1627098 & 17544\\\\\n",
       "\t 2021 & M & 1734277 & 13993\\\\\n",
       "\\end{tabular}\n"
      ],
      "text/markdown": [
       "\n",
       "A grouped_df: 284 × 4\n",
       "\n",
       "| year &lt;dbl&gt; | sex &lt;chr&gt; | nb_births &lt;dbl&gt; | nb_names &lt;int&gt; |\n",
       "|---|---|---|---|\n",
       "| 1880 | F |  90994 |  942 |\n",
       "| 1880 | M | 110490 | 1058 |\n",
       "| 1881 | F |  91953 |  938 |\n",
       "| 1881 | M | 100737 |  996 |\n",
       "| 1882 | F | 107847 | 1028 |\n",
       "| 1882 | M | 113686 | 1099 |\n",
       "| 1883 | F | 112319 | 1054 |\n",
       "| 1883 | M | 104625 | 1030 |\n",
       "| 1884 | F | 129019 | 1172 |\n",
       "| 1884 | M | 114442 | 1125 |\n",
       "| 1885 | F | 133055 | 1197 |\n",
       "| 1885 | M | 107799 | 1097 |\n",
       "| 1886 | F | 144533 | 1282 |\n",
       "| 1886 | M | 110784 | 1110 |\n",
       "| 1887 | F | 145982 | 1306 |\n",
       "| 1887 | M | 101411 | 1067 |\n",
       "| 1888 | F | 178622 | 1474 |\n",
       "| 1888 | M | 120851 | 1177 |\n",
       "| 1889 | F | 178366 | 1479 |\n",
       "| 1889 | M | 110580 | 1111 |\n",
       "| 1890 | F | 190377 | 1534 |\n",
       "| 1890 | M | 111024 | 1161 |\n",
       "| 1891 | F | 185480 | 1533 |\n",
       "| 1891 | M | 101191 | 1127 |\n",
       "| 1892 | F | 212339 | 1661 |\n",
       "| 1892 | M | 122035 | 1260 |\n",
       "| 1893 | F | 212905 | 1652 |\n",
       "| 1893 | M | 112319 | 1179 |\n",
       "| 1894 | F | 222922 | 1702 |\n",
       "| 1894 | M | 115769 | 1239 |\n",
       "| ⋮ | ⋮ | ⋮ | ⋮ |\n",
       "| 2007 | F | 1921655 | 20572 |\n",
       "| 2007 | M | 2074427 | 14393 |\n",
       "| 2008 | F | 1889800 | 20470 |\n",
       "| 2008 | M | 2038995 | 14618 |\n",
       "| 2009 | F | 1835873 | 20190 |\n",
       "| 2009 | M | 1982310 | 14532 |\n",
       "| 2010 | F | 1776223 | 19823 |\n",
       "| 2010 | M | 1917416 | 14266 |\n",
       "| 2011 | F | 1757662 | 19576 |\n",
       "| 2011 | M | 1897685 | 14347 |\n",
       "| 2012 | F | 1759366 | 19519 |\n",
       "| 2012 | M | 1895285 | 14244 |\n",
       "| 2013 | F | 1752777 | 19259 |\n",
       "| 2013 | M | 1889640 | 14054 |\n",
       "| 2014 | F | 1784227 | 19217 |\n",
       "| 2014 | M | 1918546 | 14063 |\n",
       "| 2015 | F | 1782611 | 19108 |\n",
       "| 2015 | M | 1914078 | 14048 |\n",
       "| 2016 | F | 1769164 | 18853 |\n",
       "| 2016 | M | 1894723 | 14190 |\n",
       "| 2017 | F | 1723043 | 18409 |\n",
       "| 2017 | M | 1847191 | 14239 |\n",
       "| 2018 | F | 1696917 | 18115 |\n",
       "| 2018 | M | 1811738 | 14081 |\n",
       "| 2019 | F | 1673030 | 17972 |\n",
       "| 2019 | M | 1788414 | 14101 |\n",
       "| 2020 | F | 1609171 | 17447 |\n",
       "| 2020 | M | 1718248 | 14006 |\n",
       "| 2021 | F | 1627098 | 17544 |\n",
       "| 2021 | M | 1734277 | 13993 |\n",
       "\n"
      ],
      "text/plain": [
       "    year sex nb_births nb_names\n",
       "1   1880 F    90994     942    \n",
       "2   1880 M   110490    1058    \n",
       "3   1881 F    91953     938    \n",
       "4   1881 M   100737     996    \n",
       "5   1882 F   107847    1028    \n",
       "6   1882 M   113686    1099    \n",
       "7   1883 F   112319    1054    \n",
       "8   1883 M   104625    1030    \n",
       "9   1884 F   129019    1172    \n",
       "10  1884 M   114442    1125    \n",
       "11  1885 F   133055    1197    \n",
       "12  1885 M   107799    1097    \n",
       "13  1886 F   144533    1282    \n",
       "14  1886 M   110784    1110    \n",
       "15  1887 F   145982    1306    \n",
       "16  1887 M   101411    1067    \n",
       "17  1888 F   178622    1474    \n",
       "18  1888 M   120851    1177    \n",
       "19  1889 F   178366    1479    \n",
       "20  1889 M   110580    1111    \n",
       "21  1890 F   190377    1534    \n",
       "22  1890 M   111024    1161    \n",
       "23  1891 F   185480    1533    \n",
       "24  1891 M   101191    1127    \n",
       "25  1892 F   212339    1661    \n",
       "26  1892 M   122035    1260    \n",
       "27  1893 F   212905    1652    \n",
       "28  1893 M   112319    1179    \n",
       "29  1894 F   222922    1702    \n",
       "30  1894 M   115769    1239    \n",
       "⋮   ⋮    ⋮   ⋮         ⋮       \n",
       "255 2007 F   1921655   20572   \n",
       "256 2007 M   2074427   14393   \n",
       "257 2008 F   1889800   20470   \n",
       "258 2008 M   2038995   14618   \n",
       "259 2009 F   1835873   20190   \n",
       "260 2009 M   1982310   14532   \n",
       "261 2010 F   1776223   19823   \n",
       "262 2010 M   1917416   14266   \n",
       "263 2011 F   1757662   19576   \n",
       "264 2011 M   1897685   14347   \n",
       "265 2012 F   1759366   19519   \n",
       "266 2012 M   1895285   14244   \n",
       "267 2013 F   1752777   19259   \n",
       "268 2013 M   1889640   14054   \n",
       "269 2014 F   1784227   19217   \n",
       "270 2014 M   1918546   14063   \n",
       "271 2015 F   1782611   19108   \n",
       "272 2015 M   1914078   14048   \n",
       "273 2016 F   1769164   18853   \n",
       "274 2016 M   1894723   14190   \n",
       "275 2017 F   1723043   18409   \n",
       "276 2017 M   1847191   14239   \n",
       "277 2018 F   1696917   18115   \n",
       "278 2018 M   1811738   14081   \n",
       "279 2019 F   1673030   17972   \n",
       "280 2019 M   1788414   14101   \n",
       "281 2020 F   1609171   17447   \n",
       "282 2020 M   1718248   14006   \n",
       "283 2021 F   1627098   17544   \n",
       "284 2021 M   1734277   13993   "
      ]
     },
     "metadata": {},
     "output_type": "display_data"
    }
   ],
   "source": [
    "tbl_names %>%\n",
    "  group_by(year, sex) %>%\n",
    "  summarise(\n",
    "      nb_births = sum(nb_births),\n",
    "      nb_names = n_distinct(name)\n",
    "  )"
   ]
  },
  {
   "cell_type": "markdown",
   "id": "6d9957d1-75dc-4ac4-a709-a3d06812e66d",
   "metadata": {},
   "source": [
    "Usando \"mutate\" para crear y modificar columnas agrupadas\n",
    "=="
   ]
  },
  {
   "cell_type": "markdown",
   "id": "96449a49-5416-44f4-baec-601cee10f76c",
   "metadata": {},
   "source": [
    "Un data frame (tabla) agrupado es identico a un data frame normal con EXCEPCIÓN que cualquie operación que realicemos sobre la tabla es aplicada a cada grupo señalado. Por ejemplo, supongamos que queremos calcular el porcentaje de nacimientos que tiene cada nombre de cada sexo en cada año, respecto al total de nacimientos que acumuló ese nombre en todos los años.\n",
    "\n",
    "Podemos agrupar por \"sex\" y por \"name\" y usar la función \"mutate()\" para crear una nueva columna para la cantidad total de nacimientos por cada grupo, y luego usar esa cantidad total para calcular el porcentaje.\n",
    "\n",
    "Luego podemos usar la función \"ungroup()\" para desagrupar la data, a continuación usamos \"filter()\" para filtrar los nombres que tienen una cantidad mayor a 50,000 nacimientos y finalmente usamos la función \"arrange()\" para ordenar la data en orden descendente del porcentaje de nacimientos por año.\n",
    "\n",
    "Como se puede ver en el resultado, el nombre \"Luna\" tiene a lo largo de todos los años un total de 57494 nacimientos registrados, de los cuales el año 2021 fueron registrados 8173, que representan el 14.21% del total."
   ]
  },
  {
   "cell_type": "code",
   "execution_count": 65,
   "id": "58052fd9-187b-43d4-9279-a3f176dfe271",
   "metadata": {},
   "outputs": [
    {
     "data": {
      "text/html": [
       "<table class=\"dataframe\">\n",
       "<caption>A tibble: 6 × 6</caption>\n",
       "<thead>\n",
       "\t<tr><th scope=col>year</th><th scope=col>name</th><th scope=col>sex</th><th scope=col>nb_births</th><th scope=col>nb_births_total</th><th scope=col>pct_births_in_year</th></tr>\n",
       "\t<tr><th scope=col>&lt;dbl&gt;</th><th scope=col>&lt;chr&gt;</th><th scope=col>&lt;chr&gt;</th><th scope=col>&lt;dbl&gt;</th><th scope=col>&lt;dbl&gt;</th><th scope=col>&lt;dbl&gt;</th></tr>\n",
       "</thead>\n",
       "<tbody>\n",
       "\t<tr><td>2021</td><td>Luna</td><td>F</td><td>8173</td><td>57494</td><td>14.21540</td></tr>\n",
       "\t<tr><td>2020</td><td>Luna</td><td>F</td><td>7818</td><td>57494</td><td>13.59794</td></tr>\n",
       "\t<tr><td>2019</td><td>Luna</td><td>F</td><td>7778</td><td>57494</td><td>13.52837</td></tr>\n",
       "\t<tr><td>2018</td><td>Mila</td><td>F</td><td>8158</td><td>61710</td><td>13.21990</td></tr>\n",
       "\t<tr><td>2018</td><td>Luna</td><td>F</td><td>6931</td><td>57494</td><td>12.05517</td></tr>\n",
       "\t<tr><td>2019</td><td>Mila</td><td>F</td><td>7330</td><td>61710</td><td>11.87814</td></tr>\n",
       "</tbody>\n",
       "</table>\n"
      ],
      "text/latex": [
       "A tibble: 6 × 6\n",
       "\\begin{tabular}{llllll}\n",
       " year & name & sex & nb\\_births & nb\\_births\\_total & pct\\_births\\_in\\_year\\\\\n",
       " <dbl> & <chr> & <chr> & <dbl> & <dbl> & <dbl>\\\\\n",
       "\\hline\n",
       "\t 2021 & Luna & F & 8173 & 57494 & 14.21540\\\\\n",
       "\t 2020 & Luna & F & 7818 & 57494 & 13.59794\\\\\n",
       "\t 2019 & Luna & F & 7778 & 57494 & 13.52837\\\\\n",
       "\t 2018 & Mila & F & 8158 & 61710 & 13.21990\\\\\n",
       "\t 2018 & Luna & F & 6931 & 57494 & 12.05517\\\\\n",
       "\t 2019 & Mila & F & 7330 & 61710 & 11.87814\\\\\n",
       "\\end{tabular}\n"
      ],
      "text/markdown": [
       "\n",
       "A tibble: 6 × 6\n",
       "\n",
       "| year &lt;dbl&gt; | name &lt;chr&gt; | sex &lt;chr&gt; | nb_births &lt;dbl&gt; | nb_births_total &lt;dbl&gt; | pct_births_in_year &lt;dbl&gt; |\n",
       "|---|---|---|---|---|---|\n",
       "| 2021 | Luna | F | 8173 | 57494 | 14.21540 |\n",
       "| 2020 | Luna | F | 7818 | 57494 | 13.59794 |\n",
       "| 2019 | Luna | F | 7778 | 57494 | 13.52837 |\n",
       "| 2018 | Mila | F | 8158 | 61710 | 13.21990 |\n",
       "| 2018 | Luna | F | 6931 | 57494 | 12.05517 |\n",
       "| 2019 | Mila | F | 7330 | 61710 | 11.87814 |\n",
       "\n"
      ],
      "text/plain": [
       "  year name sex nb_births nb_births_total pct_births_in_year\n",
       "1 2021 Luna F   8173      57494           14.21540          \n",
       "2 2020 Luna F   7818      57494           13.59794          \n",
       "3 2019 Luna F   7778      57494           13.52837          \n",
       "4 2018 Mila F   8158      61710           13.21990          \n",
       "5 2018 Luna F   6931      57494           12.05517          \n",
       "6 2019 Mila F   7330      61710           11.87814          "
      ]
     },
     "metadata": {},
     "output_type": "display_data"
    }
   ],
   "source": [
    "tbl_names %>%\n",
    "  group_by(sex, name) %>%\n",
    "  mutate(\n",
    "      nb_births_total = sum(nb_births),\n",
    "      pct_births_in_year = nb_births / nb_births_total * 100\n",
    "  ) %>%\n",
    "  ungroup() %>%\n",
    "  filter(nb_births_total > 50000) %>%\n",
    "  arrange(desc(pct_births_in_year)) %>%\n",
    "  head()"
   ]
  },
  {
   "cell_type": "code",
   "execution_count": null,
   "id": "42b73560-4587-431f-b191-d85dcc6dbc46",
   "metadata": {},
   "outputs": [],
   "source": []
  }
 ],
 "metadata": {
  "kernelspec": {
   "display_name": "R",
   "language": "R",
   "name": "ir"
  },
  "language_info": {
   "codemirror_mode": "r",
   "file_extension": ".r",
   "mimetype": "text/x-r-source",
   "name": "R",
   "pygments_lexer": "r",
   "version": "4.3.3"
  }
 },
 "nbformat": 4,
 "nbformat_minor": 5
}
